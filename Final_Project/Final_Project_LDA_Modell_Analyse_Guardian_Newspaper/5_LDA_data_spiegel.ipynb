{
 "cells": [
  {
   "cell_type": "code",
   "execution_count": 2,
   "id": "25a448af",
   "metadata": {},
   "outputs": [
    {
     "name": "stderr",
     "output_type": "stream",
     "text": [
      "[nltk_data] Downloading package stopwords to\n",
      "[nltk_data]     C:\\Users\\bened\\AppData\\Roaming\\nltk_data...\n",
      "[nltk_data]   Package stopwords is already up-to-date!\n"
     ]
    }
   ],
   "source": [
    "import os\n",
    "import pandas as pd\n",
    "import nltk\n",
    "from nltk.stem import WordNetLemmatizer\n",
    "from nltk.corpus import stopwords\n",
    "nltk.download('stopwords')\n",
    "import string\n",
    "import numpy as np\n",
    "from gensim import corpora\n",
    "import gensim\n",
    "import pyLDAvis\n",
    "import pyLDAvis.gensim_models as gensimvis\n",
    "import matplotlib.pyplot as plt\n",
    "import pyLDAvis.gensim_models\n",
    "from gensim.models.ldamodel import LdaModel\n",
    "from gensim.models import CoherenceModel"
   ]
  },
  {
   "cell_type": "markdown",
   "id": "6df32898",
   "metadata": {},
   "source": [
    "#### cleaning data"
   ]
  },
  {
   "cell_type": "code",
   "execution_count": 3,
   "id": "f4117af0",
   "metadata": {},
   "outputs": [],
   "source": [
    "stop=set(stopwords.words('german'))\n",
    "exclude=set(string.punctuation)\n",
    "lemma=WordNetLemmatizer()"
   ]
  },
  {
   "cell_type": "code",
   "execution_count": 4,
   "id": "c9bce5f6",
   "metadata": {},
   "outputs": [],
   "source": [
    "stop2=(\"-\",\"alltags\",\"warum\",\"wegen\",\"»das\",\"»die\",\"alltags:\",\"mehr\",\"neue\",\"zwei\",\"drei\",\"-\",'-')"
   ]
  },
  {
   "cell_type": "code",
   "execution_count": 5,
   "id": "856ffa30",
   "metadata": {},
   "outputs": [],
   "source": [
    "def clean(text):\n",
    "    stop_free=' '.join([word for word in text.lower().split()if word not in stop])\n",
    "    stop_free2=' '.join([word for word in stop_free.lower().split()if word not in stop2])\n",
    "    punc_free=' '.join([ch for ch in stop_free2.lower().split() if ch not in exclude])\n",
    "    normalized=' '.join([lemma.lemmatize(word)for word in punc_free.split()])\n",
    "    return normalized.split()"
   ]
  },
  {
   "cell_type": "markdown",
   "id": "429f22d0",
   "metadata": {},
   "source": [
    "###### building the LDA-modell"
   ]
  },
  {
   "cell_type": "code",
   "execution_count": 13,
   "id": "d4709e31",
   "metadata": {},
   "outputs": [],
   "source": [
    "def lda(text):\n",
    "    cleantext=clean(text)\n",
    "    cleanarray=np.array(cleantext)\n",
    "    listinlist=[]\n",
    "    for word in cleanarray:\n",
    "        listinlist.append([word])\n",
    "    dictionary=corpora.Dictionary(listinlist)\n",
    "    doc_term_matrix=[dictionary.doc2bow(doc)for doc in listinlist]\n",
    "    lda=gensim.models.ldamodel.LdaModel\n",
    "    num_topics=4\n",
    "    ldamodel=lda(doc_term_matrix,num_topics=num_topics,id2word=dictionary,passes=50,minimum_probability=0)\n",
    "    ldamodel.print_topics(num_topics=num_topics)\n",
    "    pyLDAvis.enable_notebook()\n",
    "    vis=pyLDAvis.gensim_models.prepare(ldamodel,doc_term_matrix,dictionary)\n",
    "    pyLDAvis.save_html(vis,f\"{'text'}.html\")\n",
    "    return vis"
   ]
  },
  {
   "cell_type": "code",
   "execution_count": null,
   "id": "84477ba8",
   "metadata": {},
   "outputs": [],
   "source": [
    "cleantext2=cleantext.replace(\"-\",\" \")"
   ]
  },
  {
   "cell_type": "markdown",
   "id": "e88fa760",
   "metadata": {},
   "source": [
    "###### loading the data"
   ]
  },
  {
   "cell_type": "code",
   "execution_count": 7,
   "id": "bd20004c",
   "metadata": {},
   "outputs": [],
   "source": [
    "path='Spiegel_text/'\n",
    "for file in os.listdir(path):\n",
    "    if file.startswith('November_'):\n",
    "        file_path =f\"{path}{file}\"\n",
    "        with open(file_path,'r',encoding='utf-8') as f:\n",
    "            Novspiegel = f.read().replace('\\n','')"
   ]
  },
  {
   "cell_type": "code",
   "execution_count": 17,
   "id": "a04044e2",
   "metadata": {},
   "outputs": [],
   "source": [
    "Nov2=Novspiegel.replace(\" - \",\" \")"
   ]
  },
  {
   "cell_type": "code",
   "execution_count": 18,
   "id": "00ba9f09",
   "metadata": {},
   "outputs": [
    {
     "data": {
      "text/plain": [
       "'Nach Medienbericht: Deutsche Welle will Antisemitismusvorwürfe extern untersuchen lassenTennis: Deutsche Männer erreichen erstes Davis-Cup-Halbfinale seit 14 JahrenKulturhauptstadt 2022: Auf ein Glas, Novi Sad!US-Bundesstaat Michigan: 15-Jähriger erschießt drei Mitschüler, mehrere Menschen verletztVierte Welle der Coronapandemie: »Den Höhepunkt erreichen wir dummerweise kurz vor Weihnachten«Barbados löst sich von britischer Krone: Rihanna, Prinz Charles und eine Trennung nach 400 JahrenBrasiliens Staatschef: Bolsonaro tritt pünktlich zur Präsidentschaftswahl wieder einer Partei beiErste Schwarze im Panthéon: Paris ehrt Josephine BakerBildungsforscher über verlängerte Weihnachtsferien: »Das ganz große Drama ist schon gelaufen«Klinikum Rosenheim: Hilferuf in Rot aus der IntensivstationGeschäfte mit dem Sinaloa-Kartell: Frau des Drogenbarons »El Chapo« zu Gefängnisstrafe verurteiltPrecht und Flaßpöhler: Lasst die Philosophie da rausOlaf Scholz in Bund-Länder-Runde: Der CoronatestUmstrittene Gebühr: Lkw-Maut verstieß 2010 und 2011 gegen EU-RechtLukaschenko über die Krise an der Grenze: »Das ist eine Kampagne, verstehen Sie?«Erinnerungen: 30 Jahre Berufsleben in zwei PappkartonsLippstadt: Loch in der Wand – Diebe stehlen massenhaft Lego aus SpielwarengeschäftFranzösischer Präsidentschaftskandidat Zemmour: Ein Hetzer mit bürgerlichem AnstrichOmikron und Fed: Aktienmärkte unter DruckKampf gegen das Coronavirus: Kinderimpfungen in Deutschland können voraussichtlich früher startenImpfstoff und neue Corona-Variante: Biontech erwartet Schutz vor schweren Omikron-InfektionenHamburger Gebäude in der NS-Zeit: Ein Haus der GeschichteNordrhein-Westfalen: Freilaufende Ponys sterben bei Unfällen auf der AutobahnConcept XM: BMW erntet Kritik für monströses SUVNeue Akku-Technik: Mercedes-Benz und Stellantis kooperieren mit US-Batterie-HerstellerIdole: UnbeherrschtFußball: Politik im StrafraumHeldin des Alltags: Almuth SchultIsrael: Bye-bye, BibiUnion: Im GorillarevierDiplomatie: Die DemütigungHeld des Tages: Bernd MönkebüscherEssay: DeutschstundeAfghanistan: Raus hierZeitgeschichte: Die MauerseglerinHeld des Alltags: Daniel CraigPandemie: »Kurzfristiges, reaktives Denken«Unterhaltung: Die KunterbuntenHeldin des Alltags: Amanda GormanMea Culpa: Entschuldigung!Held des Tages: Prinz PhilipAutoindustrie: Plötzlich elektrisiertExperimente: Im grünen BereichHeld des Alltags: Zsolt BallaHelden des Alltags: Familie LübckeAffären: Das Ohr des MinistersRaumfahrt: Leben? Da oben?Russland: Spott vom HäftlingHeld des Alltags: Andreas SanderKatholiken: Ein Jahr des SchreckensHeldin des Alltags: Bettina FlitnerKlimaschutz: »Mehr als Blabla«Naturkatastrophen: Der UntergangOlympia: Helden, aber andersHeldin des Alltags: Zeynep KarlıdağAffären: »Die Bestie füttern«Privat-TV: Schlechte NachrichtenAngriff auf die Demokratie: »Rettet Amerika!«Landwirtschaft: Lieber schrumpfenHeldin des Alltags: Maria RessaHirnforscher Gerhard Roth zur Coronapandemie: »Von 100 Menschen sind etwa 20 vernünftigen Argumenten spontan zugänglich«Erfolgschancen von Olaf Scholz: Kühl regieren reicht nicht, wenn das Kühne fehltEgotrip ins Unglück: Das Krisenjahr 2021 sollte uns eine Lehre seinImmobilienkrise in Berlin: Eine Stadt wird zum WohnlaborKonzertreihe im Caesars Palace Hotel: Adele spielt vier Monate lang in Las VegasVirusvariante Omikron: »So viele Mutationen haben wir noch nicht gesehen«Corona-Beratungen von Bund und Ländern: Geplante Impfpflicht – »Die Richtung stimmt«Carlsen bei der Schach-WM: Zum Geburtstag gibt es ein RemisDie Lage am Abend: Warum die allgemeine Impfpflicht wohl bis Februar kommtPolitik und Lehrerverbände diskutieren: Bildungsgewerkschaften lehnen verlängerte Ferien abEuropäischer Vergleich des Ifo-Instituts: Schulschließungen betrafen Kinder in Deutschland stärker als in anderen LändernEin rätselhafter Patient: Warum ist er so wütend?Fünf Jahre nach Friedensabkommen in Kolumbien: USA stufen Farc nicht mehr als Terrororganisation einIn Plastik eingewickelt: »Ein Wunder« – Mann nach 22 Stunden aus Seenot gerettetBesoldung war verfassungswidrig: Hessische Beamte bekamen jahrelang zu wenig GeldKampf gegen CO₂-Ausstoß: DB Schenker ordert 1500 ElektrolastwagenGroßbritannien: Royals wenden sich von der BBC ab – Kates Weihnachtskonzert bei ITVEntscheidung über Maßnahmen: Weitere Corona-Krisenrunde von Bund und Ländern für Donnerstag geplantMigration: Polens Parlament verabschiedet Gesetz zum Schutz der GrenzeMögliches Comeback von verletztem Golf-Superstar: Die Sehnsucht nach einem weiteren magischen Moment des Tiger WoodsBundesverfassungsgericht zu Corona-Maßnahmen: Warum die Grundsatzentscheidungen kein Freifahrtschein sindVerdacht auf Steuerhinterziehung: Durchsuchung bei Beratungsfirma PricewaterhouseCoopersVon Altkanzler Schröder gestiftet: Kirchenfenster wird nach Rechtsstreit nun doch eingebautVersteigerung von Lagerfelds Hausrat: Rolls-Royces und andere StaubfängerStaatssekretärsposten im Wirtschafts- und Klimaministerium: Habecks vier Spitzenbeamte stehen festBlinken und Maas warnen Moskau: »Für jegliche Form von Aggression müsste Russland einen hohen Preis zahlen«Prozessauftakt nach tödlichen Schüssen in Hannover: »Selbstjustiz auf dem Asphalt«Wegen schweren Kindesmissbrauchs: Bundeskriminalamt fahndet öffentlich nach TatverdächtigemMigrationspolitik: »Die Ampel ist viel näher am Kurs von Frau Merkel, als manchem vermutlich lieb ist«Gefährdetes Weltnaturerbe: Australien blockiert offenbar Unesco-Vorstoß zum Great Barrier ReefRechtsstreit zwischen DFB und Spieler-Berateragentur: Provisionen für Transfers minderjähriger Spieler bleiben verbotenBallon d’Or-Wahl: Warum Messi der logische Sieger ist (und nicht Lewandowski)Verhaftungen und Durchsuchungen: BKA geht gegen mutmaßliche internationale Drogenschmuggler vorStatistisches Bundesamt: Berufspendler fahren auch auf kurzen Strecken am liebsten AutoCorona-Beratungen: Scholz will, dass auch Apotheker, Zahnärzte und Tierärzte impfenKonjunkturprognosen zur vierten Welle: Wirtschaftsforscher sehen Erholung gefährdetUpdate für HP-Produkte: Über den Drucker die ganze Firma lahmlegenForscherin über den Umgang mit Südafrika wegen Omikron: »Es fühlt sich an, als würde das Land bestraft«Corona-Beratungen: Unions-Länder fordern deutschlandweit deutlich schärfere MaßnahmenUntergrund-Foren: Wo Kriminelle gehackte Firmenzugänge für zehn Dollar verkaufenNacktdatingshow »Adam sucht Eva«: Zeigefreudig – und ziemlich zugeknöpftKreissäge während »Sportschau« zu laut: Rentner wegen Knüppelattacke verurteiltUrteil des Bundesarbeitsgerichts: Urlaubskürzung bei voller Kurzarbeit ist rechtensDHB-Auswahl bei Handball-WM der Frauen: »Wir können auch die Topnationen schlagen«Prozess gegen Epstein-Vertraute Maxwell: »Sie hat seine sexuellen Straftaten gemanagt«Mehr als 12.000 Euro pro Monat: Stiftungsbosse erhalten viel mehr Geld als ihnen zustehtJahresbericht: Rechnungshof deckt schwerwiegendes Missmanagement bei der Bahn aufBritische Wettbewerbsbehörde: Meta soll Giphy wieder verkaufenUS-Bundesstaat North Carolina: Lehrerin soll Schülern Pornos geschickt habenHollywood-Diva: Arlene Dahl ist totEntscheidungen des Bundesverfassungsgerichts: Lehrerverband begrüßt Rechtsklarheit für SchulschließungenLieferprobleme und hohe Transportkosten: Spielwarenhändler wollen Preise erhöhenDringender Appell der Job-Behörde: Bundesagentur-Chef Scheele fordert Vorbereitung einer ImpfpflichtGerman Foreign Minister-Designate Annalena Baerbock: \"I Don’t Believe in Applying Old Labels To New Geopolitical Developments\"FDP Head Christian Lindner on Germany\\'s New Coalition: \"People Don\\'t Want to Be Dragged Down Any Longer by Quarreling\"Arbeitnehmer in der Pandemie: Technik, die nervtReaktionen auf Karlsruher Grundsatzentscheidungen: »Das ist die Grundlage für eine neue Bundesnotbremse«Wahl in Frankreich: Rechtsaußen Zemmour verkündet PräsidentschaftskandidaturSPIEGEL-Bildungsnewsletter: Große Pläne, große KriseRekordwert: Inflation in der Eurozone steigt auf 4,9 ProzentStudie zu Corona-Leugnern: Verschwörungsmythen besonders stark in Sachsen verbreitetSerie A: Fernsehreporterin bei Liveschaltung sexuell belästigt»Klimabericht«-Podcast: Was passiert, wenn unser Klima »kippt«?Neuer Chef des Krisenstabs: General Corona soll es nun richtenCoronapandemie: Mann in Leipzig mit Omikron-Variante infiziert – ohne vorherige AuslandsreiseNetztests von »Chip« und »Connect«: Die Mobilfunknetze werden besser – aber nicht überallDie Lage: Inside Austria: Lockdown fürs Volk, Schunkeln für die StaatsspitzeTote Migranten im Ärmelkanal: Die große Heuchelei der Briten und FranzosenAnhänger des »Islamischen Staats«: Lebenslange Haft in Frankfurter Prozess um verdurstetes jesidisches MädchenChaostage bei Italiens Rekordmeister: Das hässliche Gesicht des »Stile Juve«In Tel Aviv auf den Tischen getanzt: Johnson witzelt über Party-Aufnahmen beim MossadNiedersachsen: 150 Schweine in Stall verbranntNach 25 Jahren: Jauch hört mit RTL-Jahresrückblick aufInternationale Raumstation: Nasa sagt Außeneinsatz im All ab – aus Angst vor WeltraumschrottOlympische Winterspiele 2022: Warum Spitzensportler in China Fleisch meiden solltenSöder-Ankündigung: FC Bayern spielt künftig wieder vor leeren RängenMinizuwachs bei Tarifverdiensten: Inflation frisst Lohnerhöhungen aufCartoons des Monats: NovemberTrotz vierter Coronawelle: Zahl der Arbeitslosen sinkt im November erneutGolfstar Lee Elder gestorben: Er ebnete Tiger Woods den WegAcht Jahre nach Mord in Mönchengladbach: Polizei nimmt zwei mutmaßliche Hells Angels festStudie von Save the Children: Immer mehr Kinder werden zu KämpfernAugenblicke: Die Bilder des Tages im NovemberWegen Omikron: US-Notenbankchef Powell sieht weiteres InflationsrisikoGeburtsland von R&B-Sängerin: Barbados ernennt Rihanna zur NationalheldinSPIEGEL TV vom 29.11.2021: Bushido, Arafat und die Abou ChakersBundesverfassungsgericht: Schulschließungen und Ausgangsbeschränkungen waren verfassungsgemäßNeuaufstellung der Fraktion: Katharina Dröge will Grünen-Fraktionschefin werdenWintereinbruch in Süddeutschland: Verkehrsunfälle wegen Schnee und glatten StraßenIfo-Chef Fuest über Coronakrise: »Die Politik hat geschlafen«Nach Ballon d’Or-Wahl von Messi: Lewandowski »nur« Zweiter – Bayern-Führung reagiert diplomatischCoronaimpfstoffe: Moderna-Chef rechnet mit geringerer Wirksamkeit gegen Omikron-VarianteAmpelkoalition: Habeck besetzt wichtigen Staatssekretärsposten mit Ex-Senatorin HajdukNeue Coronavariante: Wann kennen wir die Gefahr von Omikron?Ratgeber Rad California Roll+ im Test: Was taugt der Dacia unter den E-Bikes?Architekt über das Wohnen im Studium: Wenn Lüften zum Luxus wirdSeit Machtübernahme der Taliban: Mehr als hundert afghanische Sicherheitskräfte getötet oder verschwundenMissbrauchsvorwürfe: Urteil gegen Bill Cosby aufgehoben – Staatsanwaltschaft fordert Prüfung durch Supreme CourtTischtennisweltmeister Fan Zhendong: Der Mann, der so oft Zweiter war, ist jetzt am Ziel+++ Corona-News am Dienstag +++: WHO rät Älteren und Gefährdeten von Reisen abOmikron-Variante: Wie gefährlich ist die neue Virusmutation?Die Lage am Morgen: Das erste Scheitern der AmpelNach Autounfall: Golfstar Tiger Woods schließt Rückkehr als Vollprofi ausZahlen des RKI: Sieben-Tage-Inzidenz sinkt erstmals seit mehr als drei WochenStreit wegen Pipeline Nord Stream 2: Republikaner blockieren US-VerteidigungshaushaltFestnahme im Flugzeug: Portugiesin fühlt sich nach Flucht aus Quarantäne »wie ein Hund behandelt«Nach drei Nächten: Gäste können eingeschneiten Pub in England verlassen – zwei wollen bleibenSexhandel-Prozess gegen Ghislaine Maxwell: Epsteins »rechte Hand« oder Opfer seiner Manipulation?Fotovoltaik auf dem Dach: So vermeiden Sie, dass Ihre neue Solaranlage zum Verlustgeschäft wirdSolidarität mit Grenzen: Gießen würde gern noch mehr Geflüchtete aufnehmen, darf aber nichtVera F. Birkenbihls seltsames Comeback: TikTok-Star am OverheadprojektorLinke Vordenkerin Hito Steyerl: »Das ist ein klassischer Alman-Wust«'"
      ]
     },
     "execution_count": 18,
     "metadata": {},
     "output_type": "execute_result"
    }
   ],
   "source": [
    "Nov2"
   ]
  },
  {
   "cell_type": "code",
   "execution_count": 11,
   "id": "bdbdba91",
   "metadata": {},
   "outputs": [],
   "source": [
    "path='Spiegel_text/'\n",
    "for file in os.listdir(path):\n",
    "    if file.startswith('Dezember_'):\n",
    "        file_path =f\"{path}{file}\"\n",
    "        with open(file_path,'r',encoding='utf-8') as f:\n",
    "            Dezspiegel = f.read().replace('\\n','')"
   ]
  },
  {
   "cell_type": "code",
   "execution_count": 12,
   "id": "f5d62fd6",
   "metadata": {
    "collapsed": true
   },
   "outputs": [
    {
     "data": {
      "text/plain": [
       "\"Zweite Silvesterparty in der Pandemie: So feiern Deutschland und die Welt den JahreswechselKurz vor ihrem 100. Geburtstag: »Golden Girl« Betty White ist totSPIEGEL-Korrespondenten und ihre Politik-Prognosen: Was 2022 auf der Welt wichtig wirdUSA: »Unser eigenes Neujahrswunder« – bisher keine Todesopfer bei Waldbränden in ColoradoSchritt für Schritt: Wie wir Vorsätze verwirklichenDer Kult geht weiter: Der Penny auf der ReeperbahnPolitik-Quiz 2021: Haben Sie beim Rückblick den Durchblick?Wenige Minuten vor feierlichem Gottesdienst im Petersdom: Papst verzichtet kurzfristig auf Leitung von SilvestergottesdienstNeue Studie: Die Boosterimpfung wirkt auch gegen Omikron – aber nicht so starkVorsitzender der Bischofskonferenz: Christen sollen Gott trotz »Tränen der Sorge und Trauer« für 2021 dankenUnglück mit Sprengstoffapparat: Zwölfjähriger stirbt durch Silvester-Explosion in den NiederlandenScholz' erste Neujahrsansprache: »Bleiben wir zusammen!«Virologe Drosten über Omikron-Welle: Für Ungeimpfte über 60 wird es jetzt »richtig gefährlich«Sicherheitsmängel entdeckt: Tesla ruft 200.000 Fahrzeuge in China zurückMehr als 200 Millionen Jahre alt: Hobbyforscherin entdeckt Dinosaurierspur in Wales»Die Kunst des grünen Liebens«: Kein Yoga ist auch keine LösungErwachsenwerden in der Pandemie: Diese drei Menschen beißen sich durchs LebenNew Yorks erste Polizeichefin Keechant Sewell: Eine Frau gegen die GangsDas schwierige Sportjahr 2022: Raus aus dem stillen KämmerleinVierschanzentournee: Eisenbichler gewinnt Qualifikation fürs NeujahrsspringenFreiheitsstrafe reduziert: Zehn statt 110 Jahre Gefängnis für US-TruckerVon Chicago nach Reykjavík: Frau isoliert sich nach Coronatest stundenlang auf FlugzeugtoiletteRegierungserklärung: Südafrika sieht Höhepunkt der Omikron-Welle überschrittenNeujahrsrede von Olaf Scholz: Das fehlende HerrengesteckEsa-Wissenschaftsdirektor über die Fähigkeiten des James-Webb-Teleskops: »Wir befinden uns in einem goldenen Zeitalter der Astronomie«Tour de Ski: Dobler steigt mit Herzproblemen ausFlüchtlinge auf Sizilien: Deutsches Rettungsschiff mit 440 Migranten darf anlegenCorona, Ampel, Landtagswahlen: Das wird die deutsche Politik 2022 beschäftigenCorona-Impfpflicht: Diesen Kommentar würde ich heute anders schreibenNeujahr in Australien: So sah das Silvester-Feuerwerk in Sydney ausUnfall kurz vor Silvester: 88-Jährige von Müllwagen überrollt und getötetDas Sportjahr im Bilderquiz: Wer ist das?Ermittlung gegen die Eltern: Hund beißt einjähriges Kind ins GesichtÄrger um Rekordeinkauf: Stürmerstar Lukaku bei Chelsea und Trainer Tuchel »nicht glücklich«Neujahrsbotschaft des britischen Premiers: Johnson versucht es mit ZuversichtNach fünf Jahren verbüßter Strafe: Südkoreas ehemalige Präsidentin Park aus Haft entlassenTragischer Todesfall: Vater hält 16-jährige Tochter für Einbrecherin und erschießt sieKritik von Lesern: Haben wir Attila Hildmann eine zu große Bühne geboten?Alternative Neujahrsansprache: »Wann hört diese ganze Scheiße endlich auf?!«Ausstellung »Vitesse«: Ein Hoch auf die GeschwindigkeitAugenblicke: Die Bilder des Tages im Dezember32 Quadratmeter für 3000 Euro: Findet die Ampel die Wunderwaffe gegen Wohnungsnot?Nach Drohvideo: Festgenommener Soldat wieder freiMindestlohn, Rente, Steuern: 22 Dinge, die 2022 finanziell besser machenAbrechnung zum Jahresende: Macht das Netz in Deutschland nur noch mich wütend?Überfall auf Premier-League-Star: Einbrecher schlagen Spieler von Manchester City blutigCartoons des Monats: Dezember75 Jahre SPIEGEL: Eine Instanz, aber auch ein schwer erträgliches HerrenmagazinWaldbrände in Colorado: Zehntausende Menschen fliehen vor den FlammenGegen Verschwendung: Özdemir will Lebensmittelspenden erleichternEVP-Fraktionschef: Weber drängt auf Beteiligung der EU an Ukraine-GesprächenPsychologie: Wie man seinen Seelenfrieden wiederfindetPrognostiker des Jahres 2021: Vorhersagen von Coronas GnadenDarts-WM: Anderson entscheidet Duell der Ex-Weltmeister für sich und steht im ViertelfinaleTschüs, 2021!: Das Jahr in SPIEGEL-BildernTV-Klassiker an Silvester: Hier läuft heute »Dinner for One«Bundestagspräsidentin zu Corona: Bas will bei Impfpflicht »nichts übers Knie brechen«+++ Corona-News +++: Novavax verschiebt US-ZulassungsantragZehn Jahre Kim Jong Un in Nordkorea: Fest im SattelZeitreise – Der SPIEGEL vor 50 Jahren: Der Aufstieg des traurigen TropenforschersFamilien-Glücksformel fürs neue Jahr: Zwei G plus drei D gleich KartoffelVerfolgung von Regimegegnern in Kuba: »Die Leidensfähigkeit des Volkes ist gewaltig«Was 2021 im Kampf gegen die Klimakrise gebracht hat: Zwischen Apokalypse und TransformationBöllerverbot zu Silvester: Warum lassen die Deutschen es so gern knallen?Machtmissbrauch in der Wissenschaft: Er fragte immer wieder, mit wem ich geredet hatteErste Neujahrsansprache von Olaf Scholz: »Wir müssen schneller sein als das Virus«Claus Kleber verabschiedet sich vom »heute journal«: »So, mehr wird's nicht«\""
      ]
     },
     "execution_count": 12,
     "metadata": {},
     "output_type": "execute_result"
    }
   ],
   "source": [
    "Dezspiegel"
   ]
  },
  {
   "cell_type": "code",
   "execution_count": 13,
   "id": "fd782c36",
   "metadata": {},
   "outputs": [],
   "source": [
    "path='Spiegel_text/'\n",
    "for file in os.listdir(path):\n",
    "    if file.startswith('January_'):\n",
    "        file_path =f\"{path}{file}\"\n",
    "        with open(file_path,'r',encoding='utf-8') as f:\n",
    "            Janspiegel = f.read().replace('\\n','')"
   ]
  },
  {
   "cell_type": "code",
   "execution_count": 14,
   "id": "4e68ffc1",
   "metadata": {
    "collapsed": true
   },
   "outputs": [
    {
     "data": {
      "text/plain": [
       "'Supermarkt in NRW: Giftspinne in Bananenkiste sorgt für FeuerwehreinsatzFotoshooting mit Freund A$AP Rocky: Rihanna ist schwangerKonflikt in Osteuropa: USA drohen mit Sanktionen gegen Putins UmfeldLars Klingbeil und das Russlandproblem der SPD: Neuer Chef in alten GräbenEnergiesparende Häuser: Bundesregierung will Kfw-Förderstopp offenbar zurücknehmen – zumindest teilweiseAttacke auf Benzinversorgung: Cyberangriff auf Zulieferer von Tankstellen in DeutschlandBoris Johnson kämpft um sein Amt: Die Party geht weiterBoris Johnsons Reaktion auf »Partygate«-Bericht: »Ich weiß, was das Problem ist«Erschossene Polizisten in Rheinland-Pfalz: Gegen 4.20 Uhr stoppen sie den Wagen – kurz darauf sind sie totStreit über Waffenlieferungen an die Ukraine: Was können die Haubitzen aus DDR-Beständen leisten?Coronazahlen in Indien: Wenn die Omikron-Welle auf ein Land mit 1,4 Milliarden Menschen trifftPodcast »Im Verhör«: Überfall auf Pokerturnier: Coup der Dilettanten»Aufstand der letzten Generation«: Klimaaktivisten blockieren AutobahnenGrößter Test seit 2017: Was Nordkoreas jüngster Raketenstart bedeutetDrama um Privatschule Nonnenwerth: Sicherheitsleute hielten Schüler auf Insel festDie Deutschen und der Konflikt mit Russland: Wer gegen Waffen für die Ukraine ist, ist für KriegDoku über Hugh Hefner und den »Playboy«: Ende LegendeBoris Johnson äußert sich zu Untersuchungsbericht: »Ich möchte Entschuldigung sagen«Parlamentsdebatte in Großbritannien: Theresa May attackiert Boris Johnson mit einer Frage zu seinen Lockdown-FeiernFahndung mit Spezialeinheiten: Tödliche Schüsse auf Beamte – Polizei nimmt zwei Tatverdächtige festDie Lage am Abend: Können Sie sich Ihr Leben noch leisten?Stromio, Gas.de, Grünwelt: Staatsanwaltschaft prüft möglichen Abverkauf von Strom und Gas zulasten der KundenTrotz Kreml-Widerstand: Uno-Sicherheitsrat berät über UkrainekonfliktIran: Löwin tötet Wärter und flüchtet aus Zoo»Partygate«-Affäre in Großbritannien: Untersuchungsbericht kritisiert Lockdown-Feste der RegierungUnterhausdebatte: Boris Johnson äußert sich zum »Partygate«-UntersuchungsberichtHohe Energiepreise: FDP drängt auf rasche Abschaffung der EEG-UmlageTödliche Schüsse auf Beamte: Polizei fahndet öffentlich nach TatverdächtigemMögliche Anschlagspläne: Festnahme eines 17-Jährigen soll islamistischen Hintergrund habenGrünenspitze über Palmers OB-Kandidatur: »Das ist seine eigene Entscheidung«Früherkennung, OPs, Nachsorge: Wieso die Coronapandemie die Krebssterblichkeit erhöhen wirdNach Kritik aus Paris: Mali weist französischen Botschafter ausTödliche Schüsse auf Polizisten: Ermittler suchen nach polizeibekanntem TatverdächtigenBundesliga-Wechsel von Max Kruse: Der Ruf des GeldesTemperatursturz in Florida: Vorsicht, fallende Leguane!Pandemie und »Eigenverantwortung«: Alarmstufe EDeutlich mehr Fluggäste trotz Corona: Die Deutschen zieht es wieder in die FerneHaltung der Bundesregierung zu Russland: Die Bündnistreue Deutschlands infrage zu stellen, ist absurdNationalsozialismus: Niederländischer Verlag entschuldigt sich für umstrittenes Anne-Frank-BuchMetaverse, NFTs und Blockchains: Web3 ist das Internet, das es zu verhindern giltMünsterland: Bobby-Car-Unfall aufgeklärt – Mutter des jungen »Unfallfahrers« gefundenVerbraucherpreise: Inflation sinkt leicht auf 4,9 ProzentBriefwahlergebnis bestätigt digitales Votum: Friedrich Merz ist nun offiziell CDU-ChefKlage vor Amtsgericht Hannover: Gerhard Schröder streitet sich mit Ex-Frau um Immobilie»Unangemessener Vorteil«: EU-Kommission ermittelt wegen Staatshilfe gegen DB CargoSPIEGEL-Fotograf Klaus Mehner: Große KlappeÖsterreich: Unfall mit zwei Toten wird zum Kriminalfall – Frau unter MordverdachtTrotz Konjunkturflaute und Inflation: Arbeitskräfte in Deutschland gesucht wie nieKonflikt in Osteuropa: Polen sieht Anzeichen für stärkere russische Militärpräsenz in BelarusKampf gegen Omikron-Wand: Bundesregierung verfehlt ImpfzielUmfrage der Bildungsgewerkschaft VBE: Schulleitungen beklagen, dass mehr Lehrer wegen Krankheit längerfristig ausfallenGasmanager und Ex-Kanzler: Gerhard Schröder und seine Frau haben CoronaAnti-Hass-Gesetz: Twitter klagt gegen BKA-ZentralstelleVerkürzter Genesenenstatus: Wissenschaftlicher Dienst des Bundestags kritisiert Entscheidungsgewalt des RKIGrindr: LGBTQ-Dating-App verschwindet aus App-Stores in ChinaAngriff auf die größten Tiere der Erde: Orcas töten Blauwale – auch weil ihnen die Zunge so gut schmecktCartoons des Monats: JanuarTödlicher Angriff auf Polizisten in Rheinland-Pfalz: »Die schießen!«Augenblicke: Die Bilder des Tages im JanuarFachleute zum Pandemieverlauf: »Ich teile die Euphorie nicht, dass Omikron uns jetzt in die Endemie führt«Streit über Küchengerät-Kopie: Thermomix-Hersteller erringt Erfolg gegen LidlKleinstaat kämpft gegen die Pandemie: Abgeriegeltes Himalaja-Königreich Bhutan trauert um vierten CoronatotenGeplanter Start im Herbst 2023: Ex-DFL-Chef Seifert und Springer arbeiten an StreamingplattformWirtschaft in der Pandemie: Eurozone erholt sich, aber Deutschland hinkt hinterher»Das Boot«-Filmarchitekt: Oscar-Preisträger Rolf Zehetbauer ist totKontroverse um Spotify-Host: Star-Podcaster Joe Rogan räumt Fehler einNervennahrung: Heute gibt es chinesische DumplingsWaren im Wert von 1,4 Millionen Euro: Polizei und Zoll in NRW zerschlagen DrogenbandeGewaltaufrufe im Messengerdienst: Apple soll Bundesregierung eine Telegram-Anschrift gegeben habenNeuer Firmenname für Daimler: Der Mercedes-Bauer heißt jetzt tatsächlich MercedesDer zehnte Tag im Dschungelcamp: Ein domptiertes Springpferd im Bockigkeitsmove+++ Fußball-Transferticker +++: Zakaria-Abgang zu Juventus perfekt, Ribéry hört offenbar aufDaten im Netz: Elon Musk soll Teenager 5000 Dollar für sein »Fluggeheimnis« geboten habenDie Opfer sind 24 und 29 Jahre alt: Gewerkschaft »tief bestürzt« über tödliche Schüsse auf PolizistenAuswertung der Techniker Krankenkasse: Weniger Krankschreibungen 2021Bericht der Vereinten Nationen: Taliban haben offenbar mehr als 100 Ortskräfte und Mitarbeiter der Ex-Regierung getötetJunta in Myanmar: Aung San Suu Kyi nun auch wegen Wahlbetrugs angeklagtUS-Basketball: Wagner-Brüder überraschen Dončić und die MavericksReaktionen auf Trumps Ankündigung von Milde für Kapitolstürmer: »Das ist das Niveau eines Diktators«Tipps von der Karriereberaterin: Soll ich meinen sicheren Job für eine befristete Stelle aufgeben?Streit über Steuernachzahlungen: Staat nimmt bei Kurzarbeitern rund 3,5 Milliarden Euro zusätzlich einZum Brexit-Jahrestag: Boris Johnson will Reste von EU-Recht schneller loswerdenPressestimmen zum Sieg Nadals: »Eine der größten Heldentaten in der Geschichte des Sports«Landkreis Kusel: Zwei Polizisten bei Verkehrskontrolle erschossen – Täter auf der FluchtWaffenlieferungen an die Ukraine: Merkels Ex-Außenpolitik-Berater Heusgen kritisiert deutsche ZurückhaltungEnergiepreise: Heizkostenzuschuss soll spätestens im März durch den BundestagNach Sturmtief »Nadia«: Deutscher Wetterdienst erwartet viel Schnee im SüdenTarifkonflikt: Ver.di ruft zum Arbeitskampf bei der Postbank aufOlympische Winterspiele: Rippenbruch beim Teambuilding – Kanadas Eishockeyteam muss Trainer austauschenChiefs und Mahomes verpassen Super Bowl: AbgewürgtFernverkehr: Bahn-Chef Lutz peilt Pünktlichkeit von 80 Prozent anUnwetter in Südamerika: Mindestens 19 Tote bei Erdrutschen und Überschwemmungen in Brasilien»Luftnot ist ein Warnzeichen«: Wie kuriere ich Covid-19 zu Hause aus?Umstrittene EU-Pläne: Umweltministerin Lemke warnt EU vor Einstufung von Atom- und Gaskraftwerken als »grün«PCR-Labore am Limit: Wie Deutschland testet. Was Österreich besser machtGenussvoll essen (4/8): Risotto oder RhabarberkuchenDie Lage am Morgen: Nicht einmal die SPD muss jeden Ratschlag annehmenAktuelle Coronazahlen des RKI: Sieben-Tage-Inzidenz steigt weiter an – 78.318 PositivtestsCorona-News am Montag: Großbritannien will Impfpflicht im Gesundheitswesen aufhebenKrimi-Vote: Wie gefiel Ihnen der deutsch-polnische »Polizeiruf«?Satellitenbild der Woche: Auf Meteoritensuche am Ende der WeltGenussvoll essen (3/8): Vorsicht, Trostessen!Festnahme in den USA: Mann soll Attentat auf Joe Biden angekündigt haben – »im Namen Jesu«Aggression durch Russland: Estnische Regierungschefin drängt Deutschland zu mehr Hilfe für UkraineAusländische Journalisten in China: »Ein allgemeines Klima der Angst«Debatte über Impfpflicht: Kubicki nennt mögliche Nachteile für ungeimpfte Arbeitslose »unerträglich«Kritik über Falschinformationen: Spotify will Hörer von Corona-Podcasts zu mehr Informationen leitenNFL-Playoffs: Überraschungsteam Bengals trifft im Super Bowl auf LA RamsForensisches Gutachten über Reemtsma-Entführer: Wird Thomas Drach für immer weggeschlossen?Legendäres Schiffswrack in der Antarktis: Expedition in eisige TiefenScholz lädt zum G7-Gipfel ins Elmautal: Hafengeburtstag im Bayerischen Oberland'"
      ]
     },
     "execution_count": 14,
     "metadata": {},
     "output_type": "execute_result"
    }
   ],
   "source": [
    "Janspiegel"
   ]
  },
  {
   "cell_type": "code",
   "execution_count": 45,
   "id": "a44728d4",
   "metadata": {},
   "outputs": [],
   "source": [
    "path='Spiegel_text/'\n",
    "for file in os.listdir(path):\n",
    "    if file.startswith('February_'):\n",
    "        file_path =f\"{path}{file}\"\n",
    "        with open(file_path,'r',encoding='utf-8') as f:\n",
    "            Febspiegel = f.read().replace('\\n','')"
   ]
  },
  {
   "cell_type": "code",
   "execution_count": 46,
   "id": "e8bd1e30",
   "metadata": {
    "collapsed": true
   },
   "outputs": [
    {
     "data": {
      "text/plain": [
       "\"Schriftsteller Daniel Schulz über seine ostdeutsche Dorfjugend: »Gibt es einen Ort, an dem etwas Anderes als das Rechtsextreme möglich ist?«Reaktion auf Putins Krieg: Formel 1 streicht Großen Preis von Russland aus RennkalenderPutin zu Verhandlungen mit Ukraine bereitKampf gegen Rechtsextremismus: Bundesregierung legt Eckpunkte für neues Demokratiefördergesetz vorWeigerung zu kapitulieren: Russische Marine beschießt ukrainische Grenzschützer auf der SchlangeninselPutins Krieg und seine Folgen: Der Angriff, der die Welt verändertMilitärische Lage, Bevölkerung, Sanktionen: Russlands Marsch auf Kiew – der zweite KriegstagWie sich Ukrainer für den Krieg wappnen: Wjatscheslaw ist bereit, wenn Putins Panzer kommen»Grenzen des Wachstums«: Das Schauermärchen von der geklauten ZukunftSo gesehen: Unverschämte KriegstreibereiStatement: Das sagt der Bundespräsident über Putins Angriff auf die UkraineAlarmstufe Orange: IT-Sicherheitsbehörde warnt zum dritten Mal vor russischen HacksDaten zu Impfreaktionen: Zu Risiken und Nebenwirkungen fragen Sie lieber nicht diese KrankenkasseRussischer Angriff auf die Ukraine: Lauterbach diagnostiziert bei Putin NarzissmusHohe Ausgaben wegen der Pandemie: Staat macht 21 Milliarden Euro weniger Schulden als gedachtProfiteure des Krieges: Aktien von Rüstungskonzernen an den Börsen gefragtFliehende im Donbass: »Wartet, bitte wartet! Mein Mann ist gehbehindert!«Mutmaßlicher Mord in Baden-Baden: Vater eines Spielplatzfreundes soll sechsjähriges Mädchen getötet habenAuslosung des Europa-League-Achtelfinals: Leverkusen spielt gegen Atalanta, Leipzig trifft auf MoskauNachwuchs im Zoo Duisburg: Kleiner Affe, große FreudeKrieg in der Ukraine: Kreml kündigt Vergeltung für westliche Sanktionen anAhnenforschung des Homo sapiens: So sieht der DNA-Stammbaum der Menschheit ausNachfolger von Markus Blume: CSU-Vorstand wählt Stephan Mayer zum neuen GeneralsekretärHessens Ministerpräsident: Bouffier tritt am 31. Mai zurückStatistisches Bundesamt: Zahl der Verkehrstoten sinkt auf RekordtiefDeutscher Umgang mit Putin: Verklärt, verlogen, verlorenPutin-Verbindung des Altkanzlers: SPD-Politiker fordern von Klingbeil Machtwort zu SchröderNeue Coronawelle im Herbst erwartet: Lauterbach warnt vor »Freedom Day«Sicherheit in Europa: Wie Putin die Nato wiederbelebt hatChampions-League-Finale: Paris statt Sankt Petersburg – Uefa bestätigt Verlegung des SpielortsRussia's Invasion: Putin's Attack Is Aimed at EuropeSchlechteres Ergebnis 2022 erwartet: BASF leidet unter gestiegenen EnergiepreisenLandgericht Köln: Priester wegen Kindesmissbrauchs zu zwölf Jahren Haft verurteiltBisher unbekannte Chatprotokolle zur Emix-Maskenaffäre: »Wir sind Millionäre«Wegen Ukrainekriegs: ZDF-Karnevalssendung »Mainz bleibt Mainz« wird gestrichenCoaching »Gelassen im Homeoffice«: Woche vier: Das regt mich so auf!Geschlechtsangleichungen als »Kindesmissbrauch« bezeichnet: Elliot Page entsetzt über Haltung zu Transgender-Kindern in TexasUnglück vor Korfu: Zahl der Toten nach Brand auf Mittelmeerfähre auf fünf gestiegenInvasion der Ukraine: Sean Penn arbeitet an einer Dokumentation über Russlands KriegKrieg in der Ukraine: Merkel verurteilt Russlands Angriff aufs SchärfsteAbstands- und Maskenpflicht fällt: Viele Länder heben Coronabeschränkungen auf – doch Hongkong meldet neuen RekordwertArbeitsniederlegung von Sicherheitskräften: Dutzende Flüge wegen Warnstreik an Düsseldorfer Flughafen annulliertDie fatalen Irrtümer der deutschen Russlandpolitik: Die Bundeswehr, so mobil wie eine WanderdüneSelenskyj erhebt schwere Vorwürfe: »Alle haben Angst, niemand hat geantwortet«Pressekonferenz mit Lauterbach und Wieler: Wie gefährlich wird der Omikron-Subtyp BA.2 für Deutschland?Russischer Hauptsponsor: Kann sich Schalke eine Trennung von Gazprom überhaupt leisten?Ukrainekrieg im TV: Putins gefrostetes Gesicht zwischen Heidis Models und gelangweilten KoalasLeid der Zivilbevölkerung in der Ukraine: Ein Volk auf der FluchtCyberabwehr und Spionage: Ukrainische Regierung bittet Hacker ihres Landes um HilfeBorussia Dortmund nach dem Aus in der Europa League: Eine verschwendete SaisonKrieg in der Ukraine: Wie Biden jetzt Putin ausbremsen willWaffenlieferungen: CDU-Außenpolitiker Kiesewetter lehnt militärische Unterstützung der Ukraine weiter abKonjunkturzahlen: Deutsche Wirtschaft schrumpfte zuletzt weniger stark als angenommenAußenhandel: Bundesregierung streicht Hermes-Bürgschaften für RusslandBeispiellose Aktion: US-Rehazentren päppeln Seekühe aus Florida aufZumutungen im Beruf meistern: Fünf Strategien für mentale Gelassenheit im JobATP-Turnier in Acapulco: Medwedew wird die Nummer eins der Welt – »aber Tennis ist manchmal nicht so wichtig«Nachfolger von Kleiderkreisel und Mamikreisel: Kleinanzeigenportal Vinted will es Betrügern schwerer machenAuslandsvermögen: Schweiz will russische Konten nicht einfrierenVor 40 Jahren eingeführt: Buschmann will Transsexuellengesetz abschaffenWehrbeauftragte Högl: Bundeswehrsoldaten in Litauen mangelt es an Jacken und UnterwäscheInternationale Studie: Mehr als fünf Millionen Kinder erlebten Corona-Todesfälle im engsten FamilienumfeldAugenzeuge: Wie ein Deutscher Putins Angriff in Kiew erlebtDie Lage am Morgen: Das Ende der NaivitätKrisengipfel in Brüssel: Die EU will Putin hart bestrafen – aber nicht zu hartTag zwei im Ukrainekrieg: Explosionen erschüttern Hauptstadt KiewCoronavirus in Deutschland: RKI registriert erneut Rückgänge bei Neuinfektionen und InzidenzProzess zum Kirchenasyl: Du sollst nicht abschiebenBekannt aus Kultfilm »M.A.S.H.«: US-Schauspielerin Sally Kellerman ist totZweiter Prozess zum Tod von George Floyd: Drei Ex-Polizisten für schuldig befundenFinanzminister über Bündnisverteidigung: Lindner verlangt mehr Geld für die Bundeswehr»I'm a crazy girl«: Ein drei Jahre altes Mädchen fährt Ski – und fasziniert die WeltTestfahrten mit den neuen Rennwagen in der Formel 1: »Träge wie ein Lkw«Lange Lieferzeiten: Der E-Auto-Engpass – und wie Käufer ihn umgehenAktuelle Lage im Ukrainekrieg: Papst Franziskus wendet sich an russischen Botschafter\""
      ]
     },
     "execution_count": 46,
     "metadata": {},
     "output_type": "execute_result"
    }
   ],
   "source": [
    "Febspiegel"
   ]
  },
  {
   "cell_type": "markdown",
   "id": "74d63590",
   "metadata": {},
   "source": [
    "##### LDA Modell on Spiegel Data"
   ]
  },
  {
   "cell_type": "code",
   "execution_count": 14,
   "id": "d025a5d1",
   "metadata": {},
   "outputs": [
    {
     "name": "stderr",
     "output_type": "stream",
     "text": [
      "C:\\Users\\bened\\anaconda3\\envs\\Finalproject\\lib\\site-packages\\pyLDAvis\\_prepare.py:246: FutureWarning: In a future version of pandas all arguments of DataFrame.drop except for the argument 'labels' will be keyword-only.\n",
      "  default_term_info = default_term_info.sort_values(\n"
     ]
    },
    {
     "data": {
      "text/html": [
       "\n",
       "<link rel=\"stylesheet\" type=\"text/css\" href=\"https://cdn.jsdelivr.net/gh/bmabey/pyLDAvis@3.3.1/pyLDAvis/js/ldavis.v1.0.0.css\">\n",
       "\n",
       "\n",
       "<div id=\"ldavis_el17978018360572070729082022402\"></div>\n",
       "<script type=\"text/javascript\">\n",
       "\n",
       "var ldavis_el17978018360572070729082022402_data = {\"mdsDat\": {\"x\": [0.08215921792034461, -0.11517982581629868, 0.020339526022895155, 0.01268108187305891], \"y\": [0.08666890727878646, 0.041293559630920115, -0.0968554578891665, -0.031107009020539974], \"topics\": [1, 2, 3, 4], \"cluster\": [1, 1, 1, 1], \"Freq\": [25.613738883721997, 25.3138407629221, 24.96208510508282, 24.11033524827308]}, \"tinfo\": {\"Term\": [\"\\u2013\", \"corona\", \"gro\\u00dfe\", \"chef\", \"omikron\", \"tiger\", \"u\", \"bund\", \"omikron:\", \"jahre\", \"ab\", \"to\", \"politik\", \"beratungen:\", \"prozess\", \"new\", \"deutschland\", \"wood\", \"seit\", \"bayern\", \"welle\", \"d\\u2019or\", \"impfpflicht\", \"variante:\", \"scholz\", \"frau\", \"maxwell:\", \"ma\\u00dfnahmen:\", \"l\\u00e4nder\", \"spielt\", \"corona\", \"jahre\", \"2022:\", \"coronapandemie:\", \"fordert\", \"inflation\", \"deutsche\", \"bundesstaat\", \"epstein\", \"f\\u00fchlt\", \"sinkt\", \"gr\\u00fcnen\", \"schulschlie\\u00dfungen\", \"2021\", \"farc\", \"hohen\", \"frauen:\", \"quarreling\\\"arbeitnehmer\", \"untersuchen\", \"halbfinale\", \"glas,\", \"krone:\", \"tritt\", \"schwarze\", \"coronatestumstrittene\", \"berufsleben\", \"elektrisiertexperimente:\", \"h\\u00e4ftlingheld\", \"\\u00bbvon\", \"betrafen\", \"kurz\", \"charles\", \"jahrenbrasiliens\", \"paris\", \"schon\", \"gelaufen\\u00abklinikum\", \"fla\\u00dfp\\u00f6hler:\", \"rausolaf\", \"geb\\u00fchr:\", \"verstie\\u00df\", \"\\u2013\", \"u\", \"bund\", \"omikron:\", \"menschen\", \"schutz\", \"mann\", \"mutma\\u00dfliche\", \"verl\\u00e4ngerte\", \"schweren\", \"vier\", \"spieler\", \"prinz\", \"erreichen\", \"lage\", \"zweiter\", \"morgen:\", \"erschie\\u00dft\", \"karl\\u0131da\\u011faff\\u00e4ren:\", \"rechtsstreit\", \"fernsehreporterin\", \"fc\", \"polizei\", \"england\", \"\\u00bbden\", \"maut\", \"2011\", \"technik:\", \"beratungen\", \"royal\", \"lassentennis:\", \"m\\u00e4nner\", \"jahrenkulturhauptstadt\", \"michigan:\", \"15\", \"mehrere\", \"chef\", \"tiger\", \"variante:\", \"impfpflicht\", \"scholz\", \"frau\", \"maxwell:\", \"ma\\u00dfnahmen:\", \"l\\u00e4nder\", \"spielt\", \"tages:\", \"kinder\", \"offenbar\", \"f\\u00fcrs\", \"tv\", \"xm:\", \"s\\u00fcdafrika\", \"sinaloa\", \"kinderimpfungen\", \"vorsto\\u00df\", \"rechnet\", \"novi\", \"h\\u00f6hepunkt\", \"rihanna,\", \"trennung\", \"partei\", \"ehrt\", \"rechtlukaschenko\", \"wand\", \"geb\\u00e4ude\", \"extern\", \"davis\", \"cup\", \"14\", \"sad!us\", \"mitsch\\u00fcler,\", \"verletztvierte\", \"weihnachten\\u00abbarbados\", \"beierste\", \"panth\\u00e9on:\", \"hilferuf\", \"gro\\u00dfe\", \"omikron\", \"ab\", \"to\", \"politik\", \"beratungen:\", \"prozess\", \"new\", \"deutschland\", \"wood\", \"bayern\", \"seit\", \"welle\", \"d\\u2019or\", \"geschlafen\\u00abnach\", \"ganz\", \"coalition:\", \"4,9\", \"austria:\", \"e\", \"nichtvera\", \"comeback:\", \"reaktives\", \"blockiert\", \"minister\", \"laut:\", \"christian\", \"palace\", \"geplantmigration:\", \"bundeskriminalamt\", \"medienbericht:\", \"erstes\", \"j\\u00e4hriger\"], \"Freq\": [6.0, 3.0, 2.0, 2.0, 2.0, 2.0, 2.0, 2.0, 2.0, 2.0, 1.0, 1.0, 1.0, 1.0, 1.0, 1.0, 1.0, 1.0, 1.0, 1.0, 1.0, 1.0, 1.0, 1.0, 1.0, 1.0, 1.0, 1.0, 1.0, 1.0, 3.2490098941244225, 1.6892170870572847, 1.1692717519043803, 1.1692716332274804, 1.1692716332274804, 1.1692716332274804, 1.1692716332274804, 1.1692716332274804, 1.1692716332274804, 1.1692716332274804, 1.1692716332274804, 1.1692715145505805, 1.169270446458481, 0.6492823876216011, 0.6492823876216011, 0.6492823876216011, 0.6492823876216011, 0.6492823876216011, 0.6492823876216011, 0.6492823876216011, 0.6492823876216011, 0.6492823876216011, 0.6492823876216011, 0.6492823876216011, 0.6492823876216011, 0.6492823876216011, 0.6492823876216011, 0.6492823876216011, 0.6492823876216011, 0.6492823876216011, 0.6492823876216011, 0.6492823876216011, 0.6492823876216011, 0.6492823876216011, 0.6492823876216011, 0.6492823876216011, 0.6492823876216011, 0.6492823876216011, 0.6492823876216011, 0.6492823876216011, 5.85139385309694, 1.6900193266224413, 1.6900193266224413, 1.6900193266224413, 1.1698296538105852, 1.1698296538105852, 1.1698296538105852, 1.1698296538105852, 1.1698296538105852, 1.1698296538105852, 1.1698296538105852, 1.1698296538105852, 1.1698296538105852, 1.1698296538105852, 1.169828715511601, 1.169828715511601, 0.6495974056823197, 0.6495973470386333, 0.6495973470386333, 0.6495973470386333, 0.6495973470386333, 0.6495973470386333, 0.6495973470386333, 0.6495973470386333, 0.6495972883949467, 0.6495972883949467, 0.6495972883949467, 0.6495972883949467, 0.6495972883949467, 0.6495972883949467, 0.6495972883949467, 0.6495972883949467, 0.6495972883949467, 0.6495972883949467, 0.6495972883949467, 0.6495972883949467, 2.2114653228410717, 1.6909909773007472, 1.1705059912637017, 1.1705059912637017, 1.1705059912637017, 1.1705059912637017, 1.1705059912637017, 1.1705059912637017, 1.1705057599485558, 1.1705057599485558, 1.170504719030398, 1.170504719030398, 0.6499786745549186, 0.6499786745549186, 0.6499786745549186, 0.6499786745549186, 0.6499786745549186, 0.6499786745549186, 0.6499786745549186, 0.6499786745549186, 0.6499786745549186, 0.6499786745549186, 0.6499786745549186, 0.6499786745549186, 0.6499786745549186, 0.6499786745549186, 0.6499786745549186, 0.6499786745549186, 0.6499786745549186, 0.6499786745549186, 0.6499786745549186, 0.6499786745549186, 0.6499786745549186, 0.6499786745549186, 0.6499786745549186, 0.6499786745549186, 0.6499786745549186, 0.6499786745549186, 0.6499786745549186, 0.6499786745549186, 0.6499786745549186, 2.2146826361156142, 1.6934579177065132, 1.172221804761637, 1.172221804761637, 1.172221804761637, 1.172221804761637, 1.172221804761637, 1.172221804761637, 1.1722206876502868, 1.1722206876502868, 1.1722205759391515, 1.1722205759391515, 1.1722199056723412, 1.172219123694396, 0.650945699230413, 0.650945699230413, 0.650945699230413, 0.650945699230413, 0.650945699230413, 0.650945699230413, 0.650945699230413, 0.650945699230413, 0.650945699230413, 0.650945699230413, 0.650945699230413, 0.650945699230413, 0.650945699230413, 0.6509456433748454, 0.6509456433748454, 0.6509456433748454, 0.6509456433748454, 0.6509456433748454, 0.6509456433748454], \"Total\": [6.0, 3.0, 2.0, 2.0, 2.0, 2.0, 2.0, 2.0, 2.0, 2.0, 1.0, 1.0, 1.0, 1.0, 1.0, 1.0, 1.0, 1.0, 1.0, 1.0, 1.0, 1.0, 1.0, 1.0, 1.0, 1.0, 1.0, 1.0, 1.0, 1.0, 3.6399250419381497, 2.080151388971797, 1.5602254235334532, 1.5602253188204451, 1.5602253327843372, 1.5602253330739169, 1.560225333277642, 1.560225333277642, 1.560225333277642, 1.5602253339746714, 1.5602253479385633, 1.5602252292616634, 1.5602252312916947, 1.040294139158367, 1.040294139158367, 1.040294139158367, 1.040294139158367, 1.040294139158367, 1.0402941531222591, 1.0402941531222591, 1.0402941531222591, 1.0402941531222591, 1.0402941531222591, 1.0402941531222591, 1.0402941531222591, 1.0402941531222591, 1.0402941531222591, 1.0402941531222591, 1.0402941531222591, 1.0402941531222591, 1.0402941677831807, 1.0402941822403773, 1.0402941677831807, 1.0402941822403773, 1.0402941957109646, 1.0402941822403773, 1.0402941677831807, 1.0402941677831807, 1.0402941810500428, 1.0402941822403773, 6.242232432888931, 2.0808848061849696, 2.0808848197714456, 2.080884834606058, 1.5607141981117778, 1.5607142124530855, 1.560714226910282, 1.560714227026171, 1.5607142408741739, 1.5607142417448947, 1.5607142418607833, 1.5607142557087865, 1.5607142697885672, 1.5607142706592878, 1.56071438474707, 1.5607144023087431, 1.0405390594295438, 1.0405390007858575, 1.0405390007858575, 1.0405390007858575, 1.0405390007858575, 1.0405390007858575, 1.0405390007858575, 1.0405390007858575, 1.0405389421421707, 1.0405389421421707, 1.0405389421421707, 1.0405389421421707, 1.0405389421421707, 1.0405389421421707, 1.040538984527151, 1.040538984527151, 1.0405389565993675, 1.0405389993617638, 1.0405389700699545, 1.0405389700699545, 2.6022383980966355, 2.081773398975159, 1.5613070574394414, 1.5613070574394414, 1.5613070576131323, 1.5613070722740539, 1.5613070722740539, 1.561307101943279, 1.5613068400881873, 1.5613068402618782, 1.5613068829674623, 1.5613068978020745, 1.040835677370143, 1.040835677370143, 1.040835677370143, 1.0408356913340349, 1.0408356913340349, 1.0408356920310646, 1.0408356920310646, 1.0408356920310646, 1.0408356920310646, 1.0408356922047555, 1.0408356922047555, 1.0408356922047555, 1.0408356922047555, 1.0408356922047555, 1.0408356922047555, 1.0408356922047555, 1.0408356922047555, 1.0408356922047555, 1.040835720829569, 1.0408357068656773, 1.0408357068656773, 1.0408357068656773, 1.0408357068656773, 1.0408357068656773, 1.0408357068656773, 1.040835720829569, 1.040835720829569, 1.0408357068656773, 1.0408357061686475, 2.605247392835254, 2.0840303513877756, 1.5628120058254362, 1.5628120204863578, 1.5628120353209702, 1.5628120501555829, 1.5628120644390886, 1.5628120648165045, 1.562811988456899, 1.5628120157972536, 1.5628119328268206, 1.5628119349446878, 1.5628120567823736, 1.5628119781512506, 1.0415890120300462, 1.041589012203737, 1.041589012203737, 1.041589012203737, 1.041589012203737, 1.041589012203737, 1.041589012203737, 1.041589012203737, 1.0415890266609336, 1.0415890266609336, 1.0415890266609336, 1.0415890268646586, 1.0415890268646586, 1.0415889563481695, 1.0415889563481695, 1.0415889563481695, 1.0415890003009003, 1.0415889856399785, 1.0415889710090909], \"Category\": [\"Default\", \"Default\", \"Default\", \"Default\", \"Default\", \"Default\", \"Default\", \"Default\", \"Default\", \"Default\", \"Default\", \"Default\", \"Default\", \"Default\", \"Default\", \"Default\", \"Default\", \"Default\", \"Default\", \"Default\", \"Default\", \"Default\", \"Default\", \"Default\", \"Default\", \"Default\", \"Default\", \"Default\", \"Default\", \"Default\", \"Topic1\", \"Topic1\", \"Topic1\", \"Topic1\", \"Topic1\", \"Topic1\", \"Topic1\", \"Topic1\", \"Topic1\", \"Topic1\", \"Topic1\", \"Topic1\", \"Topic1\", \"Topic1\", \"Topic1\", \"Topic1\", \"Topic1\", \"Topic1\", \"Topic1\", \"Topic1\", \"Topic1\", \"Topic1\", \"Topic1\", \"Topic1\", \"Topic1\", \"Topic1\", \"Topic1\", \"Topic1\", \"Topic1\", \"Topic1\", \"Topic1\", \"Topic1\", \"Topic1\", \"Topic1\", \"Topic1\", \"Topic1\", \"Topic1\", \"Topic1\", \"Topic1\", \"Topic1\", \"Topic2\", \"Topic2\", \"Topic2\", \"Topic2\", \"Topic2\", \"Topic2\", \"Topic2\", \"Topic2\", \"Topic2\", \"Topic2\", \"Topic2\", \"Topic2\", \"Topic2\", \"Topic2\", \"Topic2\", \"Topic2\", \"Topic2\", \"Topic2\", \"Topic2\", \"Topic2\", \"Topic2\", \"Topic2\", \"Topic2\", \"Topic2\", \"Topic2\", \"Topic2\", \"Topic2\", \"Topic2\", \"Topic2\", \"Topic2\", \"Topic2\", \"Topic2\", \"Topic2\", \"Topic2\", \"Topic2\", \"Topic2\", \"Topic3\", \"Topic3\", \"Topic3\", \"Topic3\", \"Topic3\", \"Topic3\", \"Topic3\", \"Topic3\", \"Topic3\", \"Topic3\", \"Topic3\", \"Topic3\", \"Topic3\", \"Topic3\", \"Topic3\", \"Topic3\", \"Topic3\", \"Topic3\", \"Topic3\", \"Topic3\", \"Topic3\", \"Topic3\", \"Topic3\", \"Topic3\", \"Topic3\", \"Topic3\", \"Topic3\", \"Topic3\", \"Topic3\", \"Topic3\", \"Topic3\", \"Topic3\", \"Topic3\", \"Topic3\", \"Topic3\", \"Topic3\", \"Topic3\", \"Topic3\", \"Topic3\", \"Topic3\", \"Topic3\", \"Topic4\", \"Topic4\", \"Topic4\", \"Topic4\", \"Topic4\", \"Topic4\", \"Topic4\", \"Topic4\", \"Topic4\", \"Topic4\", \"Topic4\", \"Topic4\", \"Topic4\", \"Topic4\", \"Topic4\", \"Topic4\", \"Topic4\", \"Topic4\", \"Topic4\", \"Topic4\", \"Topic4\", \"Topic4\", \"Topic4\", \"Topic4\", \"Topic4\", \"Topic4\", \"Topic4\", \"Topic4\", \"Topic4\", \"Topic4\", \"Topic4\", \"Topic4\", \"Topic4\"], \"logprob\": [30.0, 29.0, 28.0, 27.0, 26.0, 25.0, 24.0, 23.0, 22.0, 21.0, 20.0, 19.0, 18.0, 17.0, 16.0, 15.0, 14.0, 13.0, 12.0, 11.0, 10.0, 9.0, 8.0, 7.0, 6.0, 5.0, 4.0, 3.0, 2.0, 1.0, -4.3624, -5.0164, -5.3843, -5.3843, -5.3843, -5.3843, -5.3843, -5.3843, -5.3843, -5.3843, -5.3843, -5.3843, -5.3843, -5.9726, -5.9726, -5.9726, -5.9726, -5.9726, -5.9726, -5.9726, -5.9726, -5.9726, -5.9726, -5.9726, -5.9726, -5.9726, -5.9726, -5.9726, -5.9726, -5.9726, -5.9726, -5.9726, -5.9726, -5.9726, -5.9726, -5.9726, -5.9726, -5.9726, -5.9726, -5.9726, -3.7622, -5.0042, -5.0042, -5.0042, -5.3721, -5.3721, -5.3721, -5.3721, -5.3721, -5.3721, -5.3721, -5.3721, -5.3721, -5.3721, -5.3721, -5.3721, -5.9603, -5.9603, -5.9603, -5.9603, -5.9603, -5.9603, -5.9603, -5.9603, -5.9603, -5.9603, -5.9603, -5.9603, -5.9603, -5.9603, -5.9603, -5.9603, -5.9603, -5.9603, -5.9603, -5.9603, -4.7213, -4.9896, -5.3575, -5.3575, -5.3575, -5.3575, -5.3575, -5.3575, -5.3575, -5.3575, -5.3575, -5.3575, -5.9457, -5.9457, -5.9457, -5.9457, -5.9457, -5.9457, -5.9457, -5.9457, -5.9457, -5.9457, -5.9457, -5.9457, -5.9457, -5.9457, -5.9457, -5.9457, -5.9457, -5.9457, -5.9457, -5.9457, -5.9457, -5.9457, -5.9457, -5.9457, -5.9457, -5.9457, -5.9457, -5.9457, -5.9457, -4.6851, -4.9534, -5.3213, -5.3213, -5.3213, -5.3213, -5.3213, -5.3213, -5.3213, -5.3213, -5.3213, -5.3213, -5.3213, -5.3213, -5.9095, -5.9095, -5.9095, -5.9095, -5.9095, -5.9095, -5.9095, -5.9095, -5.9095, -5.9095, -5.9095, -5.9095, -5.9095, -5.9095, -5.9095, -5.9095, -5.9095, -5.9095, -5.9095], \"loglift\": [30.0, 29.0, 28.0, 27.0, 26.0, 25.0, 24.0, 23.0, 22.0, 21.0, 20.0, 19.0, 18.0, 17.0, 16.0, 15.0, 14.0, 13.0, 12.0, 11.0, 10.0, 9.0, 8.0, 7.0, 6.0, 5.0, 4.0, 3.0, 2.0, 1.0, 1.2484, 1.1539, 1.0736, 1.0736, 1.0736, 1.0736, 1.0736, 1.0736, 1.0736, 1.0736, 1.0736, 1.0736, 1.0736, 0.8907, 0.8907, 0.8907, 0.8907, 0.8907, 0.8907, 0.8907, 0.8907, 0.8907, 0.8907, 0.8907, 0.8907, 0.8907, 0.8907, 0.8907, 0.8907, 0.8907, 0.8907, 0.8907, 0.8907, 0.8907, 0.8907, 0.8907, 0.8907, 0.8907, 0.8907, 0.8907, 1.3092, 1.1658, 1.1658, 1.1658, 1.0855, 1.0855, 1.0855, 1.0855, 1.0855, 1.0855, 1.0855, 1.0855, 1.0855, 1.0855, 1.0855, 1.0855, 0.9027, 0.9027, 0.9027, 0.9027, 0.9027, 0.9027, 0.9027, 0.9027, 0.9027, 0.9027, 0.9027, 0.9027, 0.9027, 0.9027, 0.9027, 0.9027, 0.9027, 0.9027, 0.9027, 0.9027, 1.2251, 1.1799, 1.0997, 1.0997, 1.0997, 1.0997, 1.0997, 1.0997, 1.0997, 1.0997, 1.0997, 1.0997, 0.917, 0.917, 0.917, 0.917, 0.917, 0.917, 0.917, 0.917, 0.917, 0.917, 0.917, 0.917, 0.917, 0.917, 0.917, 0.917, 0.917, 0.917, 0.917, 0.917, 0.917, 0.917, 0.917, 0.917, 0.917, 0.917, 0.917, 0.917, 0.917, 1.2601, 1.215, 1.1349, 1.1349, 1.1349, 1.1349, 1.1349, 1.1349, 1.1349, 1.1349, 1.1349, 1.1349, 1.1349, 1.1349, 0.9525, 0.9525, 0.9525, 0.9525, 0.9525, 0.9525, 0.9525, 0.9525, 0.9525, 0.9525, 0.9525, 0.9525, 0.9525, 0.9525, 0.9525, 0.9525, 0.9525, 0.9525, 0.9525]}, \"token.table\": {\"Topic\": [3, 2, 2, 1, 1, 4, 4, 4, 4, 3, 2, 4, 1, 1, 4, 2, 4, 1, 1, 3, 4, 4, 4, 1, 1, 1, 3, 3, 1, 4, 4, 4, 3, 1, 2, 1, 2, 2, 4, 3, 1, 2, 2, 1, 1, 3, 1, 1, 3, 4, 3, 1, 1, 4, 4, 1, 4, 1, 1, 3, 1, 1, 3, 3, 1, 1, 1, 2, 4, 2, 3, 3, 1, 1, 2, 2, 4, 3, 2, 2, 3, 3, 4, 2, 2, 2, 4, 3, 2, 2, 2, 4, 4, 3, 3, 4, 2, 4, 3, 1, 3, 4, 2, 2, 4, 1, 1, 4, 3, 3, 2, 3, 2, 3, 3, 1, 1, 2, 1, 2, 4, 3, 1, 2, 3, 3, 3, 2, 3, 4, 3, 1, 3, 2, 1, 3, 3, 2, 1, 2, 3, 3, 3, 4, 4, 3, 2, 2, 1, 2], \"Freq\": [0.9607664239453814, 0.9610404115213204, 0.9610404373153851, 0.961266590244403, 0.6409330247518292, 0.9600715716885826, 0.6398722279279051, 0.9600715716885826, 0.6398722578162018, 0.9607664110557023, 0.9610404373153851, 0.6398722097775269, 0.9612665773412997, 0.9612665773412997, 0.9600715583628436, 0.9611296026560809, 0.9600716231727522, 0.6409330618284802, 0.9612665504351858, 0.7685690909268218, 0.9600715581750627, 0.9600715716885826, 0.9600715716885826, 0.8241927966743489, 0.6409330677674272, 0.9612665773412997, 0.9607664239453814, 0.9607664239453814, 0.6409330618284802, 0.6398722350392176, 0.639872239258726, 0.9600715716885826, 0.9607664374784698, 0.9612665773412997, 0.961040383152154, 0.6409330618284802, 0.6407322716268706, 0.961040383152154, 0.9600715961733935, 0.9607664110557023, 0.961266590244403, 0.961040383152154, 0.961040383152154, 0.9612665637941182, 0.6409330620311274, 0.6404889965325613, 0.961266590244403, 0.6409330615421438, 0.9607664511718875, 0.9600715716885826, 0.9607664374784698, 0.9612665515350947, 0.9612665504351858, 0.9600716231727522, 0.9600715718486799, 0.9612665773412997, 0.7676814130973674, 0.6409331045577467, 0.9612665773412997, 0.9607664245887901, 0.961266590244403, 0.9612665773412997, 0.9607664374784698, 0.6404890026181074, 0.6409330619121695, 0.9614684828245048, 0.9612665637941182, 0.9610404239627369, 0.960071609659231, 0.961040383152154, 0.6404890681055385, 0.960766437638799, 0.9612665773412997, 0.9612665637941182, 0.640732224789522, 0.961040398168673, 0.9600715581750627, 0.6404890917812908, 0.6407322895874936, 0.9610404373153851, 0.6404889965325613, 0.6404889843614695, 0.9600715826598727, 0.9610404115213204, 0.6407323014103703, 0.9610403844674451, 0.9600715583628436, 0.9607664239453814, 0.9610403289889294, 0.6407322895399168, 0.961040398168673, 0.6398722037748114, 0.9600715716885826, 0.9607664374784698, 0.9607664511718875, 0.9596789215033174, 0.9611295958041951, 0.9600716231727522, 0.9607664239453814, 0.9612665504351858, 0.9607664374784698, 0.639872215851358, 0.961040383152154, 0.6407322719843344, 0.6398722039293392, 0.961266590244403, 0.9612665637941182, 0.9600715583628436, 0.960766437638799, 0.9607664374784698, 0.961040383152154, 0.9607664374784698, 0.9610404373153851, 0.9607664239453814, 0.6404890025468549, 0.9612665379879136, 0.6409331037238195, 0.6407322955227203, 0.9612665773412997, 0.6407322834973234, 0.6398722569490697, 0.960766437638799, 0.6409330558058443, 0.6407322777646172, 0.6404890917100382, 0.9607664382822078, 0.6404890741910859, 0.9610404373153851, 0.9607193563836414, 0.6398722219251891, 0.9607664374784698, 0.9612665773412997, 0.9607664511718875, 0.9611296089314711, 0.9612665773412997, 0.6404890026181074, 0.9607664239453814, 0.6407322838547873, 0.9612665504351858, 0.6407322834497468, 0.960766437638799, 0.9607664374784698, 0.9607664110557023, 0.6398722070642773, 0.6398722238450794, 0.9607664382822078, 0.6407322175797916, 0.9610404373153851, 0.9612665773412997, 0.961194582948776], \"Term\": [\"14\", \"15\", \"2011\", \"2021\", \"2022:\", \"4,9\", \"ab\", \"austria:\", \"bayern\", \"beierste\", \"beratungen\", \"beratungen:\", \"berufsleben\", \"betrafen\", \"blockiert\", \"bund\", \"bundeskriminalamt\", \"bundesstaat\", \"charles\", \"chef\", \"christian\", \"coalition:\", \"comeback:\", \"corona\", \"coronapandemie:\", \"coronatestumstrittene\", \"cup\", \"davis\", \"deutsche\", \"deutschland\", \"d\\u2019or\", \"e\", \"ehrt\", \"elektrisiertexperimente:\", \"england\", \"epstein\", \"erreichen\", \"erschie\\u00dft\", \"erstes\", \"extern\", \"farc\", \"fc\", \"fernsehreporterin\", \"fla\\u00dfp\\u00f6hler:\", \"fordert\", \"frau\", \"frauen:\", \"f\\u00fchlt\", \"f\\u00fcrs\", \"ganz\", \"geb\\u00e4ude\", \"geb\\u00fchr:\", \"gelaufen\\u00abklinikum\", \"geplantmigration:\", \"geschlafen\\u00abnach\", \"glas,\", \"gro\\u00dfe\", \"gr\\u00fcnen\", \"halbfinale\", \"hilferuf\", \"hohen\", \"h\\u00e4ftlingheld\", \"h\\u00f6hepunkt\", \"impfpflicht\", \"inflation\", \"jahre\", \"jahrenbrasiliens\", \"jahrenkulturhauptstadt\", \"j\\u00e4hriger\", \"karl\\u0131da\\u011faff\\u00e4ren:\", \"kinder\", \"kinderimpfungen\", \"krone:\", \"kurz\", \"lage\", \"lassentennis:\", \"laut:\", \"l\\u00e4nder\", \"mann\", \"maut\", \"maxwell:\", \"ma\\u00dfnahmen:\", \"medienbericht:\", \"mehrere\", \"menschen\", \"michigan:\", \"minister\", \"mitsch\\u00fcler,\", \"morgen:\", \"mutma\\u00dfliche\", \"m\\u00e4nner\", \"new\", \"nichtvera\", \"novi\", \"offenbar\", \"omikron\", \"omikron:\", \"palace\", \"panth\\u00e9on:\", \"paris\", \"partei\", \"politik\", \"polizei\", \"prinz\", \"prozess\", \"quarreling\\\"arbeitnehmer\", \"rausolaf\", \"reaktives\", \"rechnet\", \"rechtlukaschenko\", \"rechtsstreit\", \"rihanna,\", \"royal\", \"sad!us\", \"scholz\", \"schon\", \"schulschlie\\u00dfungen\", \"schutz\", \"schwarze\", \"schweren\", \"seit\", \"sinaloa\", \"sinkt\", \"spieler\", \"spielt\", \"s\\u00fcdafrika\", \"tages:\", \"technik:\", \"tiger\", \"to\", \"trennung\", \"tritt\", \"tv\", \"u\", \"untersuchen\", \"variante:\", \"verletztvierte\", \"verl\\u00e4ngerte\", \"verstie\\u00df\", \"vier\", \"vorsto\\u00df\", \"wand\", \"weihnachten\\u00abbarbados\", \"welle\", \"wood\", \"xm:\", \"zweiter\", \"\\u00bbden\", \"\\u00bbvon\", \"\\u2013\"]}, \"R\": 30, \"lambda.step\": 0.01, \"plot.opts\": {\"xlab\": \"PC1\", \"ylab\": \"PC2\"}, \"topic.order\": [1, 4, 3, 2]};\n",
       "\n",
       "function LDAvis_load_lib(url, callback){\n",
       "  var s = document.createElement('script');\n",
       "  s.src = url;\n",
       "  s.async = true;\n",
       "  s.onreadystatechange = s.onload = callback;\n",
       "  s.onerror = function(){console.warn(\"failed to load library \" + url);};\n",
       "  document.getElementsByTagName(\"head\")[0].appendChild(s);\n",
       "}\n",
       "\n",
       "if(typeof(LDAvis) !== \"undefined\"){\n",
       "   // already loaded: just create the visualization\n",
       "   !function(LDAvis){\n",
       "       new LDAvis(\"#\" + \"ldavis_el17978018360572070729082022402\", ldavis_el17978018360572070729082022402_data);\n",
       "   }(LDAvis);\n",
       "}else if(typeof define === \"function\" && define.amd){\n",
       "   // require.js is available: use it to load d3/LDAvis\n",
       "   require.config({paths: {d3: \"https://d3js.org/d3.v5\"}});\n",
       "   require([\"d3\"], function(d3){\n",
       "      window.d3 = d3;\n",
       "      LDAvis_load_lib(\"https://cdn.jsdelivr.net/gh/bmabey/pyLDAvis@3.3.1/pyLDAvis/js/ldavis.v3.0.0.js\", function(){\n",
       "        new LDAvis(\"#\" + \"ldavis_el17978018360572070729082022402\", ldavis_el17978018360572070729082022402_data);\n",
       "      });\n",
       "    });\n",
       "}else{\n",
       "    // require.js not available: dynamically load d3 & LDAvis\n",
       "    LDAvis_load_lib(\"https://d3js.org/d3.v5.js\", function(){\n",
       "         LDAvis_load_lib(\"https://cdn.jsdelivr.net/gh/bmabey/pyLDAvis@3.3.1/pyLDAvis/js/ldavis.v3.0.0.js\", function(){\n",
       "                 new LDAvis(\"#\" + \"ldavis_el17978018360572070729082022402\", ldavis_el17978018360572070729082022402_data);\n",
       "            })\n",
       "         });\n",
       "}\n",
       "</script>"
      ],
      "text/plain": [
       "PreparedData(topic_coordinates=              x         y  topics  cluster       Freq\n",
       "topic                                                \n",
       "0      0.082159  0.086669       1        1  25.613739\n",
       "3     -0.115180  0.041294       2        1  25.313841\n",
       "2      0.020340 -0.096855       3        1  24.962085\n",
       "1      0.012681 -0.031107       4        1  24.110335, topic_info=                  Term      Freq     Total Category  logprob  loglift\n",
       "104                  –  6.000000  6.000000  Default  30.0000  30.0000\n",
       "124             corona  3.000000  3.000000  Default  29.0000  29.0000\n",
       "60               große  2.000000  2.000000  Default  28.0000  28.0000\n",
       "560               chef  2.000000  2.000000  Default  27.0000  27.0000\n",
       "130            omikron  2.000000  2.000000  Default  26.0000  26.0000\n",
       "..                 ...       ...       ...      ...      ...      ...\n",
       "342  geplantmigration:  0.650946  1.041589   Topic4  -5.9095   0.9525\n",
       "400  bundeskriminalamt  0.650946  1.041589   Topic4  -5.9095   0.9525\n",
       "0       medienbericht:  0.650946  1.041589   Topic4  -5.9095   0.9525\n",
       "9               erstes  0.650946  1.041589   Topic4  -5.9095   0.9525\n",
       "23            jähriger  0.650946  1.041589   Topic4  -5.9095   0.9525\n",
       "\n",
       "[180 rows x 6 columns], token_table=      Topic      Freq     Term\n",
       "term                          \n",
       "14        3  0.960766       14\n",
       "22        2  0.961040       15\n",
       "90        2  0.961040     2011\n",
       "245       1  0.961267     2021\n",
       "16        1  0.640933    2022:\n",
       "...     ...       ...      ...\n",
       "143       3  0.960766      xm:\n",
       "783       2  0.640732  zweiter\n",
       "30        2  0.961040     »den\n",
       "227       1  0.961267     »von\n",
       "104       2  0.961195        –\n",
       "\n",
       "[150 rows x 3 columns], R=30, lambda_step=0.01, plot_opts={'xlab': 'PC1', 'ylab': 'PC2'}, topic_order=[1, 4, 3, 2])"
      ]
     },
     "execution_count": 14,
     "metadata": {},
     "output_type": "execute_result"
    }
   ],
   "source": [
    "lda(Novspiegel.replace(\"-\",\" \"))"
   ]
  },
  {
   "cell_type": "code",
   "execution_count": 36,
   "id": "496f5803",
   "metadata": {
    "collapsed": true
   },
   "outputs": [
    {
     "name": "stderr",
     "output_type": "stream",
     "text": [
      "C:\\Users\\bened\\anaconda3\\envs\\Finalproject\\lib\\site-packages\\pyLDAvis\\_prepare.py:246: FutureWarning: In a future version of pandas all arguments of DataFrame.drop except for the argument 'labels' will be keyword-only.\n",
      "  default_term_info = default_term_info.sort_values(\n"
     ]
    },
    {
     "data": {
      "text/html": [
       "\n",
       "<link rel=\"stylesheet\" type=\"text/css\" href=\"https://cdn.jsdelivr.net/gh/bmabey/pyLDAvis@3.3.1/pyLDAvis/js/ldavis.v1.0.0.css\">\n",
       "\n",
       "\n",
       "<div id=\"ldavis_el15584422267302582081473400168\"></div>\n",
       "<script type=\"text/javascript\">\n",
       "\n",
       "var ldavis_el15584422267302582081473400168_data = {\"mdsDat\": {\"x\": [0.12470134604102096, -0.057505196240653075, -0.04168824707814711, -0.025507902722220793], \"y\": [0.010974563405784102, 0.09728363404815311, -0.09050067392136749, -0.017757523532569708], \"topics\": [1, 2, 3, 4], \"cluster\": [1, 1, 1, 1], \"Freq\": [26.94588774343248, 25.031719746612346, 24.648754783793596, 23.373637726161583]}, \"tinfo\": {\"Term\": [\"jahre\", \"\\u2013\", \"silvester:\", \"2022\", \"\\u00bbwir\", \"neujahrsansprache:\", \"welt\", \"heute\", \"frau\", \"menschen\", \"2021\", \"f\\u00fcrs\", \"erste\", \"scholz:\", \"deutschland\", \"2021:\", \"sportjahr\", \"pandemie:\", \"olaf\", \"\\u00fcberschrittenneujahrsrede\", \"aufstieg\", \"plus\", \"omikron-welle\", \"machenabrechnung\", \"\\u00bbnichts\", \"bilder\", \"dobler\", \"feierlichem\", \"h\\u00f6rt\", \"schei\\u00dfe\", \"jahre\", \"\\u2013\", \"silvester:\", \"2022\", \"sportjahr\", \"pandemie:\", \"olaf\", \"anlegencorona,\", \"\\u00bbbleiben\", \"hobbyforscherin\", \"gewinnt\", \"us-truckervon\", \"australien:\", \"johnson\", \"finanziell\", \"herrenmagazinwaldbr\\u00e4nde\", \"seelenfrieden\", \"traurigen\", \"tropenforschersfamilien-gl\\u00fccksformel\", \"jahr:\", \"d\", \"politik-prognosen:\", \"gef\\u00e4hrlich\\u00absicherheitsm\\u00e4ngel\", \"gr\\u00fcnen\", \"sah\", \"kurz\", \"bilderquiz:\", \"ex-weltmeister\", \"lebensmittelspenden\", \"feiern\", \"geburtstag:\", \"white\", \"wirdusa:\", \"todesopfer\", \"geht\", \"papst\", \"starkvorsitzender\", \"christen\", \"sollen\", \"\\u00bbtr\\u00e4nen\", \"trauer\\u00ab\", \"dankenungl\\u00fcck\", \"zw\\u00f6lfj\\u00e4hriger\", \"niederlandenscholz'\", \"200.000\", \"wales\\u00bbdie\", \"keechant\", \"f\\u00fcrs\", \"erste\", \"scholz:\", \"deutschland\", \"2021:\", \"york\", \"geredet\", \"hatteerste\", \"coronatest\", \"wohnungsnot?nach\", \"ba\", \"waldbr\\u00e4nden\", \"penny\", \"wer\", \"gl\\u00fccklich\\u00abneujahrsbotschaft\", \"britischen\", \"ampel\", \"corona\", \"entscheidet\", \"corona:\", \"nicht\\u00ab\", \"l\\u00f6sungerwachsenwerden\", \"jahres\", \"us-zulassungsantragzehn\", \"gewaltig\\u00abwas\", \"beim\", \"h\\u00f6hepunkt\", \"sydney\", \"monats:\", \"100.\", \"park\", \"bisher\", \"verwirklichender\", \"kult\", \"frau\", \"menschen\", \"2021\", \"china\", \"eisenbichler\", \"qualifikation\", \"stundenlang\", \"dezember32\", \"quadratmeter\", \"findet\", \"viertelfinaletsch\\u00fcs,\", \"spiegel-bilderntv-klassiker\", \"lassen\", \"girl\\u00ab\", \"betty\", \"neujahrswunder\\u00ab\", \"coloradoschritt\", \"leitung\", \"silvestergottesdienstneue\", \"sorge\", \"entdeckt:\", \"tesla\", \"zur\\u00fcckmehr\", \"reduziert:\", \"zehn\", \"flugzeugtoiletteregierungserkl\\u00e4rung:\", \"s\\u00fcdafrika\", \"ausfl\\u00fcchtlinge\", \"landtagswahlen:\", \"entlassentragischer\", \"jahreswechselkurz\", \"\\u00bbgolden\", \"\\u00bbunser\", \"weiter:\", \"r\\u00fcckblick\", \"boosterimpfung\", \"bischofskonferenz:\", \"trotz\", \"fahrzeuge\", \"kunst\", \"gangsdas\", \"schwierige\", \"\\u00bbwir\", \"neujahrsansprache:\", \"welt\", \"heute\", \"\\u00fcberschrittenneujahrsrede\", \"omikron-welle\", \"machenabrechnung\", \"aufstieg\", \"plus\", \"\\u00bbnichts\", \"feierlichem\", \"dobler\", \"h\\u00f6rt\", \"bilder\", \"durchs\", \"k\\u00e4mmerleinvierschanzentournee:\", \"politik\", \"schei\\u00dfe\", \"w\\u00fctend?\\u00fcberfall\", \"manchester\", \"statt\", \"eltern:\", \"regimegegnern\", \"silvester-explosion\", \"zusammen!\\u00abvirologe\", \"macht\", \"f\\u00e4higkeiten\", \"jong\", \"silvesterparty\", \"wichtig\", \"totspiegel-korrespondenten\", \"eigenes\", \"schritt:\", \"vors\\u00e4tze\", \"omikron\", \"gott\", \"sprengstoffapparat:\", \"stirbt\", \"drosten\", \"ungeimpfte\", \"60\", \"\\u00bbrichtig\"], \"Freq\": [2.0, 2.0, 2.0, 2.0, 1.0, 1.0, 1.0, 1.0, 1.0, 1.0, 1.0, 1.0, 1.0, 1.0, 1.0, 1.0, 1.0, 1.0, 1.0, 1.0, 1.0, 1.0, 1.0, 1.0, 1.0, 1.0, 1.0, 1.0, 1.0, 1.0, 2.186820230723781, 1.6721418746463634, 1.6721418746463634, 1.6721406971742576, 1.1574526269519672, 1.1574526269519672, 1.1574525288292916, 0.6427200580963445, 0.6427200580963445, 0.6427200580963445, 0.6427200580963445, 0.6427200580963445, 0.6427200580963445, 0.6427200580963445, 0.6427200580963445, 0.6427200580963445, 0.6427200580963445, 0.6427200580963445, 0.6427200580963445, 0.6427200580963445, 0.6427200580963445, 0.6427200580963445, 0.6427200580963445, 0.6427200580963445, 0.6427200580963445, 0.6427200580963445, 0.6427200580963445, 0.6427200580963445, 0.6427200580963445, 0.6427200580963445, 0.6427200580963445, 0.6427200580963445, 0.6427200580963445, 0.6427200580963445, 0.6427200580963445, 0.6427200580963445, 0.6427200580963445, 0.6427200580963445, 0.6427200580963445, 0.6427200580963445, 0.6427200580963445, 0.6427200580963445, 0.6427200580963445, 0.6427200580963445, 0.6427200580963445, 0.6427200580963445, 0.6427200580963445, 1.1601055576755304, 1.1601055576755304, 1.1601055576755304, 1.1601055576755304, 1.1601046461526527, 0.644222986745264, 0.644222986745264, 0.644222986745264, 0.644222986745264, 0.644222986745264, 0.644222986745264, 0.644222986745264, 0.644222986745264, 0.644222986745264, 0.644222986745264, 0.644222986745264, 0.644222986745264, 0.644222986745264, 0.644222986745264, 0.644222986745264, 0.644222986745264, 0.644222986745264, 0.644222986745264, 0.644222986745264, 0.644222986745264, 0.6442228955929762, 0.6442228955929762, 0.6442228955929762, 0.6442228955929762, 0.6442228955929762, 0.644222986745264, 0.6442228955929762, 0.6442228955929762, 0.6442228955929762, 1.1606867609515614, 1.1606855043433153, 1.1606855043433153, 0.6445515739605107, 0.6445515739605107, 0.6445515739605107, 0.6445515739605107, 0.6445515739605107, 0.6445515739605107, 0.6445515739605107, 0.6445515739605107, 0.6445515739605107, 0.6445515739605107, 0.6445515739605107, 0.6445515739605107, 0.6445515739605107, 0.6445515739605107, 0.6445515739605107, 0.6445515739605107, 0.6445515739605107, 0.6445515739605107, 0.6445515739605107, 0.6445515739605107, 0.6445515739605107, 0.6445515739605107, 0.6445515739605107, 0.6445515739605107, 0.6445515739605107, 0.6445515739605107, 0.6445515739605107, 0.6445515739605107, 0.6445515739605107, 0.6445515739605107, 0.6445515739605107, 0.6445515739605107, 0.6445515739605107, 0.6445515739605107, 0.6445515739605107, 0.6445515739605107, 0.6445515739605107, 0.6445515739605107, 0.6445515739605107, 1.1627594599772562, 1.1627594599772562, 1.1627593748628262, 1.1627583534896693, 0.6457224512907014, 0.6457224512907014, 0.6457224512907014, 0.6457224512907014, 0.6457224512907014, 0.6457224512907014, 0.6457224512907014, 0.6457224512907014, 0.6457224512907014, 0.6457224512907014, 0.6457223236190568, 0.6457223236190568, 0.6457223236190568, 0.6457223236190568, 0.6457223236190568, 0.6457223236190568, 0.6457223236190568, 0.6457223236190568, 0.6457223236190568, 0.6457223236190568, 0.6457223236190568, 0.6457223236190568, 0.6457223236190568, 0.6457223236190568, 0.6457223236190568, 0.6457223236190568, 0.6457223236190568, 0.6457223236190568, 0.6457223236190568, 0.6457223236190568, 0.6457223236190568, 0.6457223236190568, 0.6457223236190568, 0.6457223236190568, 0.6457223236190568, 0.6457223236190568, 0.6457223236190568, 0.6457223236190568], \"Total\": [2.0, 2.0, 2.0, 2.0, 1.0, 1.0, 1.0, 1.0, 1.0, 1.0, 1.0, 1.0, 1.0, 1.0, 1.0, 1.0, 1.0, 1.0, 1.0, 1.0, 1.0, 1.0, 1.0, 1.0, 1.0, 1.0, 1.0, 1.0, 1.0, 1.0, 2.5745346395933435, 2.059866493338738, 2.0598665058935994, 2.059866413630473, 1.5451979581653759, 1.5451979910123386, 1.5451979041093795, 1.0305274794405643, 1.0305274908346003, 1.0305274908346003, 1.0305274908346003, 1.0305274908346003, 1.0305274908346003, 1.0305274908346003, 1.0305274908346003, 1.0305274908346003, 1.0305274908346003, 1.0305274908346003, 1.0305274908346003, 1.0305274908346003, 1.0305274908346003, 1.0305275026347296, 1.0305275026347296, 1.0305275026347296, 1.0305275026347296, 1.0305275026347296, 1.0305275026347296, 1.0305275026347296, 1.0305275130997136, 1.0305275132740332, 1.0305275132740332, 1.0305275132740332, 1.0305275132740332, 1.0305275345526408, 1.0305275345526408, 1.0305275132740332, 1.0305275360621051, 1.0305275457723573, 1.0305275132740332, 1.0305275132740332, 1.0305275132740332, 1.0305275132740332, 1.0305275132740332, 1.0305275132740332, 1.0305275132740332, 1.0305275132740332, 1.0305275132740332, 1.5475111438947518, 1.5475111545340554, 1.5475111566252913, 1.547511175812663, 1.5475113405023617, 1.031684383151509, 1.0316843954168435, 1.0316843954168435, 1.0316843959972561, 1.0316843959972561, 1.0316843959972561, 1.03168440663656, 1.03168440663656, 1.03168440663656, 1.03168440663656, 1.03168440663656, 1.03168440663656, 1.03168440663656, 1.03168440663656, 1.03168440663656, 1.03168440663656, 1.0316844189018943, 1.0316844189018943, 1.031684429075993, 1.031684429075993, 1.0316843042645556, 1.0316843042645556, 1.0316843042645556, 1.0316843042645556, 1.031684315484272, 1.0316844626199346, 1.031684315484272, 1.0316843277496066, 1.0316843277496066, 1.548018816463911, 1.5480186301403138, 1.548018630895046, 1.0319381509977286, 1.0319381509977286, 1.0319381509977286, 1.0319381509977286, 1.0319381509977286, 1.0319381509977286, 1.0319381509977286, 1.0319381509977286, 1.0319381509977286, 1.0319381509977286, 1.0319381632630629, 1.0319381632630629, 1.0319381632630629, 1.0319381632630629, 1.0319381632630629, 1.0319381632630629, 1.0319381632630629, 1.0319381632630629, 1.0319381632630629, 1.0319381632630629, 1.0319381632630629, 1.0319381632630629, 1.0319381632630629, 1.0319381632630629, 1.0319381632630629, 1.0319381632630629, 1.0319381632630629, 1.0319381966904386, 1.0319381984330356, 1.0319381966904386, 1.0319381739023668, 1.031938186051135, 1.0319381739023668, 1.031938186051135, 1.0319381737858004, 1.0319381737858004, 1.031938186051135, 1.0319382105818038, 1.031938186051135, 1.5498312272127064, 1.5498312280840048, 1.5498311543636107, 1.549831233916926, 1.0328446232255037, 1.0328446346195397, 1.0328446346195397, 1.0328446346195397, 1.0328446346195397, 1.032844635490838, 1.032844646884874, 1.032844646884874, 1.032844646884874, 1.032844646884874, 1.032844506947895, 1.032844506947895, 1.032844506947895, 1.032844506947895, 1.032844506947895, 1.032844506947895, 1.0328445078191935, 1.0328445078191935, 1.0328445078191935, 1.0328445181676116, 1.0328445181676116, 1.0328445181676116, 1.03284451903891, 1.03284451903891, 1.0328445192132296, 1.0328445192132296, 1.0328445304329459, 1.0328445192132296, 1.0328445192132296, 1.0328445304329459, 1.0328445192132296, 1.0328445192132296, 1.0328445304329459, 1.0328445192132296, 1.0328445192132296, 1.0328445192132296, 1.032844554963615, 1.0328445192132296], \"Category\": [\"Default\", \"Default\", \"Default\", \"Default\", \"Default\", \"Default\", \"Default\", \"Default\", \"Default\", \"Default\", \"Default\", \"Default\", \"Default\", \"Default\", \"Default\", \"Default\", \"Default\", \"Default\", \"Default\", \"Default\", \"Default\", \"Default\", \"Default\", \"Default\", \"Default\", \"Default\", \"Default\", \"Default\", \"Default\", \"Default\", \"Topic1\", \"Topic1\", \"Topic1\", \"Topic1\", \"Topic1\", \"Topic1\", \"Topic1\", \"Topic1\", \"Topic1\", \"Topic1\", \"Topic1\", \"Topic1\", \"Topic1\", \"Topic1\", \"Topic1\", \"Topic1\", \"Topic1\", \"Topic1\", \"Topic1\", \"Topic1\", \"Topic1\", \"Topic1\", \"Topic1\", \"Topic1\", \"Topic1\", \"Topic1\", \"Topic1\", \"Topic1\", \"Topic1\", \"Topic1\", \"Topic1\", \"Topic1\", \"Topic1\", \"Topic1\", \"Topic1\", \"Topic1\", \"Topic1\", \"Topic1\", \"Topic1\", \"Topic1\", \"Topic1\", \"Topic1\", \"Topic1\", \"Topic1\", \"Topic1\", \"Topic1\", \"Topic1\", \"Topic2\", \"Topic2\", \"Topic2\", \"Topic2\", \"Topic2\", \"Topic2\", \"Topic2\", \"Topic2\", \"Topic2\", \"Topic2\", \"Topic2\", \"Topic2\", \"Topic2\", \"Topic2\", \"Topic2\", \"Topic2\", \"Topic2\", \"Topic2\", \"Topic2\", \"Topic2\", \"Topic2\", \"Topic2\", \"Topic2\", \"Topic2\", \"Topic2\", \"Topic2\", \"Topic2\", \"Topic2\", \"Topic2\", \"Topic2\", \"Topic2\", \"Topic2\", \"Topic2\", \"Topic2\", \"Topic3\", \"Topic3\", \"Topic3\", \"Topic3\", \"Topic3\", \"Topic3\", \"Topic3\", \"Topic3\", \"Topic3\", \"Topic3\", \"Topic3\", \"Topic3\", \"Topic3\", \"Topic3\", \"Topic3\", \"Topic3\", \"Topic3\", \"Topic3\", \"Topic3\", \"Topic3\", \"Topic3\", \"Topic3\", \"Topic3\", \"Topic3\", \"Topic3\", \"Topic3\", \"Topic3\", \"Topic3\", \"Topic3\", \"Topic3\", \"Topic3\", \"Topic3\", \"Topic3\", \"Topic3\", \"Topic3\", \"Topic3\", \"Topic3\", \"Topic3\", \"Topic3\", \"Topic3\", \"Topic3\", \"Topic3\", \"Topic4\", \"Topic4\", \"Topic4\", \"Topic4\", \"Topic4\", \"Topic4\", \"Topic4\", \"Topic4\", \"Topic4\", \"Topic4\", \"Topic4\", \"Topic4\", \"Topic4\", \"Topic4\", \"Topic4\", \"Topic4\", \"Topic4\", \"Topic4\", \"Topic4\", \"Topic4\", \"Topic4\", \"Topic4\", \"Topic4\", \"Topic4\", \"Topic4\", \"Topic4\", \"Topic4\", \"Topic4\", \"Topic4\", \"Topic4\", \"Topic4\", \"Topic4\", \"Topic4\", \"Topic4\", \"Topic4\", \"Topic4\", \"Topic4\", \"Topic4\", \"Topic4\", \"Topic4\", \"Topic4\", \"Topic4\"], \"logprob\": [30.0, 29.0, 28.0, 27.0, 26.0, 25.0, 24.0, 23.0, 22.0, 21.0, 20.0, 19.0, 18.0, 17.0, 16.0, 15.0, 14.0, 13.0, 12.0, 11.0, 10.0, 9.0, 8.0, 7.0, 6.0, 5.0, 4.0, 3.0, 2.0, 1.0, -3.8749, -4.1433, -4.1433, -4.1433, -4.5111, -4.5111, -4.5111, -5.0994, -5.0994, -5.0994, -5.0994, -5.0994, -5.0994, -5.0994, -5.0994, -5.0994, -5.0994, -5.0994, -5.0994, -5.0994, -5.0994, -5.0994, -5.0994, -5.0994, -5.0994, -5.0994, -5.0994, -5.0994, -5.0994, -5.0994, -5.0994, -5.0994, -5.0994, -5.0994, -5.0994, -5.0994, -5.0994, -5.0994, -5.0994, -5.0994, -5.0994, -5.0994, -5.0994, -5.0994, -5.0994, -5.0994, -5.0994, -4.4352, -4.4352, -4.4352, -4.4352, -4.4352, -5.0234, -5.0234, -5.0234, -5.0234, -5.0234, -5.0234, -5.0234, -5.0234, -5.0234, -5.0234, -5.0234, -5.0234, -5.0234, -5.0234, -5.0234, -5.0234, -5.0234, -5.0234, -5.0234, -5.0234, -5.0234, -5.0234, -5.0234, -5.0234, -5.0234, -5.0234, -5.0234, -5.0234, -5.0234, -4.4193, -4.4193, -4.4193, -5.0075, -5.0075, -5.0075, -5.0075, -5.0075, -5.0075, -5.0075, -5.0075, -5.0075, -5.0075, -5.0075, -5.0075, -5.0075, -5.0075, -5.0075, -5.0075, -5.0075, -5.0075, -5.0075, -5.0075, -5.0075, -5.0075, -5.0075, -5.0075, -5.0075, -5.0075, -5.0075, -5.0075, -5.0075, -5.0075, -5.0075, -5.0075, -5.0075, -5.0075, -5.0075, -5.0075, -5.0075, -5.0075, -5.0075, -4.3644, -4.3644, -4.3644, -4.3644, -4.9525, -4.9525, -4.9525, -4.9525, -4.9525, -4.9525, -4.9525, -4.9525, -4.9525, -4.9525, -4.9525, -4.9525, -4.9525, -4.9525, -4.9525, -4.9525, -4.9525, -4.9525, -4.9525, -4.9525, -4.9525, -4.9525, -4.9525, -4.9525, -4.9525, -4.9525, -4.9525, -4.9525, -4.9525, -4.9525, -4.9525, -4.9525, -4.9525, -4.9525, -4.9525, -4.9525, -4.9525, -4.9525], \"loglift\": [30.0, 29.0, 28.0, 27.0, 26.0, 25.0, 24.0, 23.0, 22.0, 21.0, 20.0, 19.0, 18.0, 17.0, 16.0, 15.0, 14.0, 13.0, 12.0, 11.0, 10.0, 9.0, 8.0, 7.0, 6.0, 5.0, 4.0, 3.0, 2.0, 1.0, 1.1481, 1.1028, 1.1028, 1.1028, 1.0224, 1.0224, 1.0224, 0.8392, 0.8392, 0.8392, 0.8392, 0.8392, 0.8392, 0.8392, 0.8392, 0.8392, 0.8392, 0.8392, 0.8392, 0.8392, 0.8392, 0.8392, 0.8392, 0.8392, 0.8392, 0.8392, 0.8392, 0.8392, 0.8392, 0.8392, 0.8392, 0.8392, 0.8392, 0.8392, 0.8392, 0.8392, 0.8392, 0.8392, 0.8392, 0.8392, 0.8392, 0.8392, 0.8392, 0.8392, 0.8392, 0.8392, 0.8392, 1.0969, 1.0969, 1.0969, 1.0969, 1.0969, 0.9141, 0.9141, 0.9141, 0.9141, 0.9141, 0.9141, 0.9141, 0.9141, 0.9141, 0.9141, 0.9141, 0.9141, 0.9141, 0.9141, 0.9141, 0.9141, 0.9141, 0.9141, 0.9141, 0.9141, 0.9141, 0.9141, 0.9141, 0.9141, 0.9141, 0.9141, 0.9141, 0.9141, 0.9141, 1.1125, 1.1125, 1.1125, 0.9298, 0.9298, 0.9298, 0.9298, 0.9298, 0.9298, 0.9298, 0.9298, 0.9298, 0.9298, 0.9298, 0.9298, 0.9298, 0.9298, 0.9298, 0.9298, 0.9298, 0.9298, 0.9298, 0.9298, 0.9298, 0.9298, 0.9298, 0.9298, 0.9298, 0.9298, 0.9298, 0.9298, 0.9298, 0.9298, 0.9298, 0.9298, 0.9298, 0.9298, 0.9298, 0.9298, 0.9298, 0.9298, 0.9298, 1.1662, 1.1662, 1.1662, 1.1662, 0.9839, 0.9839, 0.9839, 0.9839, 0.9839, 0.9839, 0.9839, 0.9839, 0.9839, 0.9839, 0.9839, 0.9839, 0.9839, 0.9839, 0.9839, 0.9839, 0.9839, 0.9839, 0.9839, 0.9839, 0.9839, 0.9839, 0.9839, 0.9839, 0.9839, 0.9839, 0.9839, 0.9839, 0.9839, 0.9839, 0.9839, 0.9839, 0.9839, 0.9839, 0.9839, 0.9839, 0.9839, 0.9839]}, \"token.table\": {\"Topic\": [2, 1, 3, 2, 1, 4, 2, 1, 4, 3, 1, 2, 2, 3, 4, 1, 3, 2, 3, 2, 3, 1, 3, 2, 2, 2, 1, 1, 2, 3, 4, 4, 4, 4, 3, 4, 3, 3, 2, 2, 1, 3, 4, 1, 1, 3, 3, 3, 4, 2, 3, 1, 1, 1, 2, 2, 1, 3, 2, 4, 1, 2, 1, 4, 1, 2, 4, 1, 1, 2, 3, 1, 4, 1, 2, 3, 1, 4, 3, 3, 1, 3, 2, 4, 4, 4, 3, 2, 4, 3, 2, 1, 1, 4, 4, 1, 1, 2, 2, 4, 4, 1, 3, 3, 3, 4, 3, 1, 4, 2, 4, 3, 1, 4, 1, 3, 4, 1, 3, 3, 1, 4, 1, 4, 4, 3, 2, 3, 3, 1, 4, 1, 1, 1, 3, 4, 1, 2, 2, 3, 4, 2, 1, 3, 4, 2, 1, 4, 1, 2, 4, 2, 3, 3, 4, 1, 1, 3, 4, 4, 1, 3, 4, 4, 1], \"Freq\": [0.9692887494665464, 0.9703768090799963, 0.6459870572887174, 0.6461988185982369, 0.9709367494734964, 0.9681999050043189, 0.9692886638270944, 0.9703768409386457, 0.9681998303339802, 0.9690503128965866, 0.9703768302096659, 0.9692886738229388, 0.9692887600077021, 0.9690503128965866, 0.968199818836322, 0.9703768190982962, 0.9690502914972541, 0.9692887494665464, 0.969050302905658, 0.9692886638270944, 0.9690503244144534, 0.9703767784785631, 0.9690503128965866, 0.9692886638270944, 0.9692886638270944, 0.9692886738229388, 0.9703768302096659, 0.9703768090799963, 0.6461988873682014, 0.9690503244144534, 0.968199818836322, 0.9681999385171265, 0.9681999500147876, 0.9681999385171265, 0.9690503244144534, 0.9681999491980229, 0.9690503128965866, 0.9690503128965866, 0.9692886638270944, 0.6461988962535736, 0.9703768190982962, 0.9690503030151205, 0.968199818836322, 0.9703768090799963, 0.9703768302096659, 0.9690503244144534, 0.9690503128965866, 0.6459869798509733, 0.9681999386805357, 0.6461989006962597, 0.9690502684615224, 0.9703768090799963, 0.9703768190982962, 0.9703767890433971, 0.9692886743682483, 0.9692886427447873, 0.9703768302096659, 0.9690503128965866, 0.9692886638270944, 0.9681999385171265, 0.9703768190982962, 0.9692886743682483, 0.9703768302096659, 0.6452315440002301, 0.9703768302096659, 0.9692887600077021, 0.968199818836322, 0.9703768302096659, 0.7768394214792569, 0.9692886523035613, 0.969050281506326, 0.9703768302096659, 0.9681999386805357, 0.9703768090799963, 0.9692887379430111, 0.9690502914972541, 0.9703768190982962, 0.9681999500147876, 0.9690503128965866, 0.9690503244144534, 0.9703768092441413, 0.9690503128965866, 0.9692886523035613, 0.9681998303339802, 0.9681999394973004, 0.9681999500147876, 0.6459870576036666, 0.9692887600077021, 0.6452315464286138, 0.9690503128965866, 0.9692886638270944, 0.9703768090799963, 0.6471662932887419, 0.9681999385171265, 0.9681998303339802, 0.6471662568916807, 0.9703768090799963, 0.9692886112295684, 0.9692886638270944, 0.9681998303339802, 0.9681999500147876, 0.9703768190982962, 0.9690503244144534, 0.9690503244144534, 0.9690503128965866, 0.9681999491980229, 0.9690502914972541, 0.9703768190982962, 0.9681999500147876, 0.6461988953803299, 0.9681999385171265, 0.9690502914972541, 0.9703768302096659, 0.9681999394973004, 0.9709367059844354, 0.9690503128965866, 0.9681999385171265, 0.9703768090799963, 0.9690503128965866, 0.9690503244144534, 0.6471662706487826, 0.9681999279996398, 0.9703767876220385, 0.9681999491980229, 0.9681999385171265, 0.9690503244144534, 0.9692887600077021, 0.9690503128965866, 0.9690503128965866, 0.9703767890433971, 0.9681999279996398, 0.9703768090799963, 0.9703768302096659, 0.9703768302096659, 0.9690503030151205, 0.9681999385171265, 0.9703768302096659, 0.9692886427447873, 0.9692887379430111, 0.9690503244144534, 0.9681999279996398, 0.9692886638270944, 0.9703768090799963, 0.969050302905658, 0.645231577120166, 0.9692886638270944, 0.9703768090799963, 0.9681999385171265, 0.9703768090799963, 0.9692886738229388, 0.9681999500147876, 0.9692886858917821, 0.9690503128965866, 0.9690503128965866, 0.9681999394973004, 0.9703768090799963, 0.9703768302096659, 0.9690502798699256, 0.9681998295172155, 0.9681999385171265, 0.9703768090799963, 0.969050281506326, 0.645231546791356, 0.9681998410148739, 0.970936711902283], \"Term\": [\"100.\", \"200.000\", \"2021\", \"2021:\", \"2022\", \"60\", \"ampel\", \"anlegencorona,\", \"aufstieg\", \"ausfl\\u00fcchtlinge\", \"australien:\", \"ba\", \"beim\", \"betty\", \"bilder\", \"bilderquiz:\", \"bischofskonferenz:\", \"bisher\", \"boosterimpfung\", \"britischen\", \"china\", \"christen\", \"coloradoschritt\", \"corona\", \"corona:\", \"coronatest\", \"d\", \"dankenungl\\u00fcck\", \"deutschland\", \"dezember32\", \"dobler\", \"drosten\", \"durchs\", \"eigenes\", \"eisenbichler\", \"eltern:\", \"entdeckt:\", \"entlassentragischer\", \"entscheidet\", \"erste\", \"ex-weltmeister\", \"fahrzeuge\", \"feierlichem\", \"feiern\", \"finanziell\", \"findet\", \"flugzeugtoiletteregierungserkl\\u00e4rung:\", \"frau\", \"f\\u00e4higkeiten\", \"f\\u00fcrs\", \"gangsdas\", \"geburtstag:\", \"gef\\u00e4hrlich\\u00absicherheitsm\\u00e4ngel\", \"geht\", \"geredet\", \"gewaltig\\u00abwas\", \"gewinnt\", \"girl\\u00ab\", \"gl\\u00fccklich\\u00abneujahrsbotschaft\", \"gott\", \"gr\\u00fcnen\", \"hatteerste\", \"herrenmagazinwaldbr\\u00e4nde\", \"heute\", \"hobbyforscherin\", \"h\\u00f6hepunkt\", \"h\\u00f6rt\", \"jahr:\", \"jahre\", \"jahres\", \"jahreswechselkurz\", \"johnson\", \"jong\", \"keechant\", \"kult\", \"kunst\", \"kurz\", \"k\\u00e4mmerleinvierschanzentournee:\", \"landtagswahlen:\", \"lassen\", \"lebensmittelspenden\", \"leitung\", \"l\\u00f6sungerwachsenwerden\", \"machenabrechnung\", \"macht\", \"manchester\", \"menschen\", \"monats:\", \"neujahrsansprache:\", \"neujahrswunder\\u00ab\", \"nicht\\u00ab\", \"niederlandenscholz'\", \"olaf\", \"omikron\", \"omikron-welle\", \"pandemie:\", \"papst\", \"park\", \"penny\", \"plus\", \"politik\", \"politik-prognosen:\", \"quadratmeter\", \"qualifikation\", \"reduziert:\", \"regimegegnern\", \"r\\u00fcckblick\", \"sah\", \"schei\\u00dfe\", \"scholz:\", \"schritt:\", \"schwierige\", \"seelenfrieden\", \"silvester-explosion\", \"silvester:\", \"silvestergottesdienstneue\", \"silvesterparty\", \"sollen\", \"sorge\", \"spiegel-bilderntv-klassiker\", \"sportjahr\", \"sprengstoffapparat:\", \"starkvorsitzender\", \"statt\", \"stirbt\", \"stundenlang\", \"sydney\", \"s\\u00fcdafrika\", \"tesla\", \"todesopfer\", \"totspiegel-korrespondenten\", \"trauer\\u00ab\", \"traurigen\", \"tropenforschersfamilien-gl\\u00fccksformel\", \"trotz\", \"ungeimpfte\", \"us-truckervon\", \"us-zulassungsantragzehn\", \"verwirklichender\", \"viertelfinaletsch\\u00fcs,\", \"vors\\u00e4tze\", \"waldbr\\u00e4nden\", \"wales\\u00bbdie\", \"weiter:\", \"welt\", \"wer\", \"white\", \"wichtig\", \"wirdusa:\", \"wohnungsnot?nach\", \"w\\u00fctend?\\u00fcberfall\", \"york\", \"zehn\", \"zur\\u00fcckmehr\", \"zusammen!\\u00abvirologe\", \"zw\\u00f6lfj\\u00e4hriger\", \"\\u00bbbleiben\", \"\\u00bbgolden\", \"\\u00bbnichts\", \"\\u00bbrichtig\", \"\\u00bbtr\\u00e4nen\", \"\\u00bbunser\", \"\\u00bbwir\", \"\\u00fcberschrittenneujahrsrede\", \"\\u2013\"]}, \"R\": 30, \"lambda.step\": 0.01, \"plot.opts\": {\"xlab\": \"PC1\", \"ylab\": \"PC2\"}, \"topic.order\": [1, 3, 2, 4]};\n",
       "\n",
       "function LDAvis_load_lib(url, callback){\n",
       "  var s = document.createElement('script');\n",
       "  s.src = url;\n",
       "  s.async = true;\n",
       "  s.onreadystatechange = s.onload = callback;\n",
       "  s.onerror = function(){console.warn(\"failed to load library \" + url);};\n",
       "  document.getElementsByTagName(\"head\")[0].appendChild(s);\n",
       "}\n",
       "\n",
       "if(typeof(LDAvis) !== \"undefined\"){\n",
       "   // already loaded: just create the visualization\n",
       "   !function(LDAvis){\n",
       "       new LDAvis(\"#\" + \"ldavis_el15584422267302582081473400168\", ldavis_el15584422267302582081473400168_data);\n",
       "   }(LDAvis);\n",
       "}else if(typeof define === \"function\" && define.amd){\n",
       "   // require.js is available: use it to load d3/LDAvis\n",
       "   require.config({paths: {d3: \"https://d3js.org/d3.v5\"}});\n",
       "   require([\"d3\"], function(d3){\n",
       "      window.d3 = d3;\n",
       "      LDAvis_load_lib(\"https://cdn.jsdelivr.net/gh/bmabey/pyLDAvis@3.3.1/pyLDAvis/js/ldavis.v3.0.0.js\", function(){\n",
       "        new LDAvis(\"#\" + \"ldavis_el15584422267302582081473400168\", ldavis_el15584422267302582081473400168_data);\n",
       "      });\n",
       "    });\n",
       "}else{\n",
       "    // require.js not available: dynamically load d3 & LDAvis\n",
       "    LDAvis_load_lib(\"https://d3js.org/d3.v5.js\", function(){\n",
       "         LDAvis_load_lib(\"https://cdn.jsdelivr.net/gh/bmabey/pyLDAvis@3.3.1/pyLDAvis/js/ldavis.v3.0.0.js\", function(){\n",
       "                 new LDAvis(\"#\" + \"ldavis_el15584422267302582081473400168\", ldavis_el15584422267302582081473400168_data);\n",
       "            })\n",
       "         });\n",
       "}\n",
       "</script>"
      ],
      "text/plain": [
       "PreparedData(topic_coordinates=              x         y  topics  cluster       Freq\n",
       "topic                                                \n",
       "0      0.124701  0.010975       1        1  26.945888\n",
       "2     -0.057505  0.097284       2        1  25.031720\n",
       "1     -0.041688 -0.090501       3        1  24.648755\n",
       "3     -0.025508 -0.017758       4        1  23.373638, topic_info=           Term      Freq     Total Category  logprob  loglift\n",
       "86        jahre  2.000000  2.000000  Default  30.0000  30.0000\n",
       "21            –  2.000000  2.000000  Default  29.0000  29.0000\n",
       "173  silvester:  2.000000  2.000000  Default  28.0000  28.0000\n",
       "15         2022  2.000000  2.000000  Default  27.0000  27.0000\n",
       "141        »wir  1.000000  1.000000  Default  26.0000  26.0000\n",
       "..          ...       ...       ...      ...      ...      ...\n",
       "64       stirbt  0.645722  1.032845   Topic4  -4.9525   0.9839\n",
       "71      drosten  0.645722  1.032845   Topic4  -4.9525   0.9839\n",
       "73   ungeimpfte  0.645722  1.032845   Topic4  -4.9525   0.9839\n",
       "74           60  0.645722  1.032845   Topic4  -4.9525   0.9839\n",
       "75     »richtig  0.645722  1.032845   Topic4  -4.9525   0.9839\n",
       "\n",
       "[195 rows x 6 columns], token_table=      Topic      Freq                       Term\n",
       "term                                            \n",
       "7         2  0.969289                       100.\n",
       "80        1  0.970377                    200.000\n",
       "60        3  0.645987                       2021\n",
       "34        2  0.646199                      2021:\n",
       "15        1  0.970937                       2022\n",
       "...     ...       ...                        ...\n",
       "57        1  0.970377                    »tränen\n",
       "18        3  0.969050                     »unser\n",
       "141       4  0.645232                       »wir\n",
       "134       4  0.968200  überschrittenneujahrsrede\n",
       "21        1  0.970937                          –\n",
       "\n",
       "[165 rows x 3 columns], R=30, lambda_step=0.01, plot_opts={'xlab': 'PC1', 'ylab': 'PC2'}, topic_order=[1, 3, 2, 4])"
      ]
     },
     "execution_count": 36,
     "metadata": {},
     "output_type": "execute_result"
    }
   ],
   "source": [
    "lda(Dezspiegel)"
   ]
  },
  {
   "cell_type": "code",
   "execution_count": 37,
   "id": "ac98d772",
   "metadata": {
    "collapsed": true
   },
   "outputs": [
    {
     "name": "stderr",
     "output_type": "stream",
     "text": [
      "C:\\Users\\bened\\anaconda3\\envs\\Finalproject\\lib\\site-packages\\pyLDAvis\\_prepare.py:246: FutureWarning: In a future version of pandas all arguments of DataFrame.drop except for the argument 'labels' will be keyword-only.\n",
      "  default_term_info = default_term_info.sort_values(\n"
     ]
    },
    {
     "data": {
      "text/html": [
       "\n",
       "<link rel=\"stylesheet\" type=\"text/css\" href=\"https://cdn.jsdelivr.net/gh/bmabey/pyLDAvis@3.3.1/pyLDAvis/js/ldavis.v1.0.0.css\">\n",
       "\n",
       "\n",
       "<div id=\"ldavis_el15584422267224745765021849554\"></div>\n",
       "<script type=\"text/javascript\">\n",
       "\n",
       "var ldavis_el15584422267224745765021849554_data = {\"mdsDat\": {\"x\": [0.12765955058936104, -0.04054231102053248, -0.033931899836842604, -0.05318533973198595], \"y\": [0.009648628382480286, -0.07921003499587262, -0.038613899591032355, 0.10817530620442473], \"topics\": [1, 2, 3, 4], \"cluster\": [1, 1, 1, 1], \"Freq\": [26.21282497959086, 24.83668935822656, 24.54708738768978, 24.4033982744928]}, \"tinfo\": {\"Term\": [\"\\u2013\", \"johnson\", \"deutschland\", \"bundesregierung\", \"sch\\u00fcsse\", \"boris\", \"\\u00bbich\", \"polizisten\", \"kritisiert\", \"offenbar\", \"russland:\", \"polizei\", \"lage\", \"\\u00bbim\", \"super\", \"\\u00e4u\\u00dfert\", \"pandemie:\", \"gerhard\", \"ende\", \"dr\\u00e4ngt\", \"nimmt\", \"t\\u00f6dliche\", \"deutschen\", \"joe\", \"k\\u00e4mpft\", \"osteuropa:\", \"gr\\u00f6\\u00dften\", \"ukraine:\", \"1,4\", \"vorsicht,\", \"\\u2013\", \"johnson\", \"polizei\", \"essen\", \"milliarden\", \"gro\\u00dfbritannien:\", \"rheinland-pfalz:\", \"schr\\u00f6der\", \"frau\", \"29\", \"deutsche\", \"tankstellen\", \"abend:\", \"max\", \"toten\", \"trauert\", \"habenneuer\", \"mitarbeiter\", \"angeklagtus-basketball:\", \"hause\", \"allgemeines\", \"gutachten\", \"l\\u00e4dt\", \"usa\", \"benzinversorgung:\", \"waffenlieferungen\", \"strom\", \"kreml-widerstand:\", \"habengr\\u00fcnenspitze\", \"\\u00bbeigenverantwortung\\u00ab:\", \"kurz\", \"2017:\", \"sicherheitsleute\", \"lockdown-feiernfahndung\", \"tatverd\\u00e4chtige\", \"ber\\u00e4t\", \"fdp\", \"abschaffung\", \"17-j\\u00e4hrigen\", \"hintergrund\", \"alarmstufe\", \"russland:\", \"deutschen\", \"k\\u00e4mpft\", \"joe\", \"osteuropa:\", \"gr\\u00f6\\u00dften\", \"ukraine:\", \"1,4\", \"vorsicht,\", \"festdie\", \"spezialeinheiten:\", \"fernehaltung\", \"heizkostenzuschuss\", \"nordkoreas\", \"j\\u00fcngster\", \"botschafter\", \"4,9\", \"opfer\", \"get\\u00f6tetjunta\", \"putin\", \"cyberangriff\", \"wer\", \"may\", \"leisten?stromio,\", \"paris:\", \"edeutlich\", \"merz\", \"schmecktcartoons\", \"nicht,\", \"musk\", \"giftspinne\", \"sorgt\", \"schwangerkonflikt\", \"umfeldlars\", \"russlandproblem\", \"zulieferer\", \"deutschlandboris\", \"problem\", \"pokerturnier:\", \"coup\", \"klimaaktivisten\", \"test\", \"hefner\", \"m\\u00f6chte\", \"polizisten\", \"kritisiert\", \"offenbar\", \"ende\", \"dr\\u00e4ngt\", \"nimmt\", \"t\\u00f6dliche\", \"zehetbauer\", \"blockchains:\", \"rasche\", \"raketenstart\", \"geht\", \"attackiert\", \"tiere\", \"teile\", \"zerschlagen\", \"springpferd\", \"wahlbetrugs\", \"staat\", \"sieg\", \"heusgen\", \"erdrutschen\", \"warnt\", \"ddr-best\\u00e4nden\", \"euphorie\", \"ops,\", \"digitales\", \"heute\", \"feuerwehreinsatzfotoshooting\", \"freund\", \"bananenkiste\", \"rocky:\", \"rihanna\", \"drohen\", \"sanktionen\", \"gr\\u00e4benenergiesparende\", \"h\\u00e4user:\", \"kfw-f\\u00f6rderstopp\", \"amt:\", \"\\u00bbpartygate\\u00ab-bericht:\", \"darauf\", \"totstreit\", \"land\", \"\\u00fcberfall\", \"dilettanten\\u00bbaufstand\", \"blockieren\", \"deutschland\", \"bundesregierung\", \"sch\\u00fcsse\", \"boris\", \"\\u00bbich\", \"lage\", \"\\u00bbim\", \"super\", \"\\u00e4u\\u00dfert\", \"pandemie:\", \"gerhard\", \"tatverd\\u00e4chtigemm\\u00f6gliche\", \"mann\", \"monats:\", \"san\", \"messengerdienst:\", \"firmenname\", \"waffen\", \"gas.de,\", \"lockdown-feste\", \"erh\\u00f6hen\", \"totkontroverse\", \"trifft\", \"\\u00bbunfallfahrers\\u00ab\", \"kriminalfall\", \"angek\\u00fcndigt\", \"krebssterblichkeit\", \"party\", \"menschen\", \"theresa\", \"supermarkt\", \"nrw:\", \"a$ap\", \"klingbeil\", \"alten\", \"zumindest\"], \"Freq\": [5.0, 3.0, 3.0, 2.0, 2.0, 2.0, 2.0, 2.0, 2.0, 2.0, 2.0, 2.0, 1.0, 1.0, 1.0, 1.0, 1.0, 1.0, 1.0, 1.0, 1.0, 1.0, 1.0, 1.0, 1.0, 1.0, 1.0, 1.0, 1.0, 1.0, 5.358387420933246, 3.2671023166591793, 1.6986261255487511, 1.1757853379568903, 1.1757853379568903, 1.1757853379568903, 1.1757853379568903, 1.1757853379568903, 1.1757853379568903, 0.6529010278937772, 0.6529010278937772, 0.6529010278937772, 0.6529010278937772, 0.6529010278937772, 0.6529010278937772, 0.6529010278937772, 0.6529010278937772, 0.6529010278937772, 0.6529010278937772, 0.6529010278937772, 0.6529010278937772, 0.6529010278937772, 0.6529010278937772, 0.6529010278937772, 0.6529010278937772, 0.6529010278937772, 0.6529010278937772, 0.6529010278937772, 0.6529010278937772, 0.6529010278937772, 0.6529010278937772, 0.6529010278937772, 0.6529010278937772, 0.6529010278937772, 0.6529010278937772, 0.6529010278937772, 0.6529010278937772, 0.6529010278937772, 0.6529010278937772, 0.6529010278937772, 0.6529010278937772, 1.7029673825681377, 1.178803727322423, 1.178803727322423, 1.178803727322423, 1.178803727322423, 1.178803727322423, 1.178803727322423, 1.1788036476362316, 1.1788034882638487, 1.178802532029551, 0.6545996313345329, 0.6545996313345329, 0.6545996313345329, 0.6545996313345329, 0.6545996313345329, 0.6545996313345329, 0.6545996313345329, 0.6545996313345329, 0.6545996313345329, 0.6545996313345329, 0.6545996313345329, 0.6545996313345329, 0.6545996313345329, 0.6545996313345329, 0.6545996313345329, 0.6545996313345329, 0.6545996313345329, 0.6545996313345329, 0.6545996313345329, 0.6545996313345329, 0.6545996313345329, 0.6545996313345329, 0.6545996313345329, 0.6545996313345329, 0.6545996313345329, 0.6545996313345329, 0.6545996313345329, 0.6545996313345329, 0.6545996313345329, 0.6545996313345329, 0.6545996313345329, 0.6545996313345329, 0.6545996313345329, 0.6545996313345329, 1.7039450595765064, 1.7039450595765064, 1.7039450595765064, 1.1794834056073238, 1.1794834056073238, 1.1794834056073238, 1.1794823030088943, 0.6549818612021008, 0.6549818612021008, 0.6549818612021008, 0.6549818218235854, 0.6549818218235854, 0.6549818218235854, 0.6549818218235854, 0.6549818218235854, 0.6549818218235854, 0.6549818218235854, 0.6549818218235854, 0.6549818218235854, 0.6549818218235854, 0.6549818218235854, 0.6549818218235854, 0.6549818218235854, 0.6549818218235854, 0.6549818218235854, 0.6549818218235854, 0.6549818218235854, 0.6549818218235854, 0.6549818218235854, 0.6549818218235854, 0.6549818218235854, 0.6549818218235854, 0.6549818218235854, 0.6549818218235854, 0.6549818218235854, 0.6549818218235854, 0.6549818218235854, 0.6549818218235854, 0.6549818218235854, 0.6549818218235854, 0.6549818218235854, 0.6549818218235854, 0.6549818218235854, 0.6549818218235854, 0.6549818218235854, 0.6549818218235854, 2.753633984000262, 2.229038138578646, 2.229036102882188, 1.7044368124357965, 1.7044355596995147, 1.179825151218621, 1.179825151218621, 1.179825151218621, 1.179825151218621, 1.179825151218621, 1.179823976778357, 0.6551739896605562, 0.6551739896605562, 0.6551739896605562, 0.6551739113645385, 0.6551739113645385, 0.6551739113645385, 0.6551739113645385, 0.6551739113645385, 0.6551739113645385, 0.6551739113645385, 0.6551739113645385, 0.6551739113645385, 0.6551738330685208, 0.6551738330685208, 0.6551738330685208, 0.6551739113645385, 0.6551738330685208, 0.6551738330685208, 0.6551738330685208, 0.6551738330685208, 0.6551738330685208, 0.6551738330685208, 0.6551738330685208, 0.6551738330685208, 0.6551738330685208], \"Total\": [5.0, 3.0, 3.0, 2.0, 2.0, 2.0, 2.0, 2.0, 2.0, 2.0, 2.0, 2.0, 1.0, 1.0, 1.0, 1.0, 1.0, 1.0, 1.0, 1.0, 1.0, 1.0, 1.0, 1.0, 1.0, 1.0, 1.0, 1.0, 1.0, 1.0, 5.752145636118717, 3.6608693102041276, 2.092411799125855, 1.5695912702268473, 1.5695912901483953, 1.5695913098376528, 1.5695913197984268, 1.5695913294116572, 1.5695913393724312, 1.0467674992707634, 1.0467674992707634, 1.0467675091153923, 1.0467675092315374, 1.0467675092315374, 1.0467675092315374, 1.0467675092315374, 1.0467675092315374, 1.0467675092315374, 1.0467675092315374, 1.0467675092315374, 1.0467675092315374, 1.0467675092315374, 1.0467675092315374, 1.0467675190761663, 1.0467675190761663, 1.0467675190761663, 1.0467675190761663, 1.0467675190761663, 1.0467675190761663, 1.0467675190761663, 1.0467675386501707, 1.0467675585717184, 1.0467675386501707, 1.0467675386501707, 1.0467675386501707, 1.0467675386501707, 1.0467675386501707, 1.046767538997714, 1.0467675585717184, 1.0467675585717184, 1.0467675386501707, 2.096385956556465, 1.5722409593082793, 1.5722409698209536, 1.5722409698209536, 1.572240989394958, 1.572240989394958, 1.57224101959689, 1.572240920221441, 1.5722407805383158, 1.5722409262344021, 1.0480927586135742, 1.0480927676749043, 1.0480927676749043, 1.0480927781875786, 1.0480927781875786, 1.0480927781875786, 1.0480927781875786, 1.0480927781875786, 1.0480927783028318, 1.048092787364162, 1.048092787364162, 1.048092787364162, 1.048092787364162, 1.048092787364162, 1.048092787364162, 1.048092787364162, 1.048092787364162, 1.048092787364162, 1.048092787364162, 1.048092787364162, 1.0480928272954695, 1.0480927978768362, 1.0480927978768362, 1.0480927978768362, 1.0480928069381663, 1.0480927978768362, 1.0480927978768362, 1.0480928174508406, 1.0480927978768362, 1.0480927978768362, 1.0480927978768362, 1.0480928272954695, 1.0480927978768362, 1.0480928174508406, 2.0972814141933585, 2.097281424327904, 2.0972814636496846, 1.5728380920853706, 1.5728381518805996, 1.5728381730797194, 1.5728381446197595, 1.0483914822521019, 1.0483914837034458, 1.0483915032774505, 1.0483914428735865, 1.0483914443249307, 1.0483914443249307, 1.0483914443249307, 1.0483914443249307, 1.0483914443249307, 1.0483914443249307, 1.0483914443249307, 1.0483914443249307, 1.0483914443249307, 1.0483914443249307, 1.0483914443249307, 1.0483914443249307, 1.048391453938161, 1.048391453938161, 1.048391454837605, 1.048391454837605, 1.048391454837605, 1.048391463898935, 1.048391463898935, 1.0483914943331571, 1.048391463898935, 1.048391463898935, 1.048391463898935, 1.0483914834729393, 1.0483914838204829, 1.048391463898935, 1.048391463898935, 1.048391463898935, 1.048391463898935, 1.048391463898935, 1.048391463898935, 1.048391463898935, 1.048391463898935, 1.0483914838204829, 1.048391463898935, 3.1469168402196845, 2.6223242368239337, 2.622324354889599, 2.0977318790206723, 2.097731711660314, 1.5731384168326914, 1.5731384179364918, 1.573138456443497, 1.5731384575472975, 1.5731384774688453, 1.5731383346067451, 1.0485416728936396, 1.0485416939189878, 1.0485417235690195, 1.0485416045583957, 1.04854161562297, 1.0485416242476533, 1.048541625583744, 1.048541625583744, 1.048541625583744, 1.048541625583744, 1.048541625583744, 1.048541625583744, 1.0485415163016043, 1.0485415163016043, 1.0485415163016043, 1.0485416452730019, 1.048541526262378, 1.048541526262378, 1.048541526262378, 1.0485415669769842, 1.0485415472877264, 1.0485415472877264, 1.0485415472877264, 1.0485415570162102, 1.0485415472877264], \"Category\": [\"Default\", \"Default\", \"Default\", \"Default\", \"Default\", \"Default\", \"Default\", \"Default\", \"Default\", \"Default\", \"Default\", \"Default\", \"Default\", \"Default\", \"Default\", \"Default\", \"Default\", \"Default\", \"Default\", \"Default\", \"Default\", \"Default\", \"Default\", \"Default\", \"Default\", \"Default\", \"Default\", \"Default\", \"Default\", \"Default\", \"Topic1\", \"Topic1\", \"Topic1\", \"Topic1\", \"Topic1\", \"Topic1\", \"Topic1\", \"Topic1\", \"Topic1\", \"Topic1\", \"Topic1\", \"Topic1\", \"Topic1\", \"Topic1\", \"Topic1\", \"Topic1\", \"Topic1\", \"Topic1\", \"Topic1\", \"Topic1\", \"Topic1\", \"Topic1\", \"Topic1\", \"Topic1\", \"Topic1\", \"Topic1\", \"Topic1\", \"Topic1\", \"Topic1\", \"Topic1\", \"Topic1\", \"Topic1\", \"Topic1\", \"Topic1\", \"Topic1\", \"Topic1\", \"Topic1\", \"Topic1\", \"Topic1\", \"Topic1\", \"Topic1\", \"Topic2\", \"Topic2\", \"Topic2\", \"Topic2\", \"Topic2\", \"Topic2\", \"Topic2\", \"Topic2\", \"Topic2\", \"Topic2\", \"Topic2\", \"Topic2\", \"Topic2\", \"Topic2\", \"Topic2\", \"Topic2\", \"Topic2\", \"Topic2\", \"Topic2\", \"Topic2\", \"Topic2\", \"Topic2\", \"Topic2\", \"Topic2\", \"Topic2\", \"Topic2\", \"Topic2\", \"Topic2\", \"Topic2\", \"Topic2\", \"Topic2\", \"Topic2\", \"Topic2\", \"Topic2\", \"Topic2\", \"Topic2\", \"Topic2\", \"Topic2\", \"Topic2\", \"Topic2\", \"Topic2\", \"Topic2\", \"Topic2\", \"Topic2\", \"Topic3\", \"Topic3\", \"Topic3\", \"Topic3\", \"Topic3\", \"Topic3\", \"Topic3\", \"Topic3\", \"Topic3\", \"Topic3\", \"Topic3\", \"Topic3\", \"Topic3\", \"Topic3\", \"Topic3\", \"Topic3\", \"Topic3\", \"Topic3\", \"Topic3\", \"Topic3\", \"Topic3\", \"Topic3\", \"Topic3\", \"Topic3\", \"Topic3\", \"Topic3\", \"Topic3\", \"Topic3\", \"Topic3\", \"Topic3\", \"Topic3\", \"Topic3\", \"Topic3\", \"Topic3\", \"Topic3\", \"Topic3\", \"Topic3\", \"Topic3\", \"Topic3\", \"Topic3\", \"Topic3\", \"Topic3\", \"Topic3\", \"Topic3\", \"Topic3\", \"Topic3\", \"Topic4\", \"Topic4\", \"Topic4\", \"Topic4\", \"Topic4\", \"Topic4\", \"Topic4\", \"Topic4\", \"Topic4\", \"Topic4\", \"Topic4\", \"Topic4\", \"Topic4\", \"Topic4\", \"Topic4\", \"Topic4\", \"Topic4\", \"Topic4\", \"Topic4\", \"Topic4\", \"Topic4\", \"Topic4\", \"Topic4\", \"Topic4\", \"Topic4\", \"Topic4\", \"Topic4\", \"Topic4\", \"Topic4\", \"Topic4\", \"Topic4\", \"Topic4\", \"Topic4\", \"Topic4\", \"Topic4\", \"Topic4\"], \"logprob\": [30.0, 29.0, 28.0, 27.0, 26.0, 25.0, 24.0, 23.0, 22.0, 21.0, 20.0, 19.0, 18.0, 17.0, 16.0, 15.0, 14.0, 13.0, 12.0, 11.0, 10.0, 9.0, 8.0, 7.0, 6.0, 5.0, 4.0, 3.0, 2.0, 1.0, -3.5177, -4.0124, -4.6665, -5.0344, -5.0344, -5.0344, -5.0344, -5.0344, -5.0344, -5.6226, -5.6226, -5.6226, -5.6226, -5.6226, -5.6226, -5.6226, -5.6226, -5.6226, -5.6226, -5.6226, -5.6226, -5.6226, -5.6226, -5.6226, -5.6226, -5.6226, -5.6226, -5.6226, -5.6226, -5.6226, -5.6226, -5.6226, -5.6226, -5.6226, -5.6226, -5.6226, -5.6226, -5.6226, -5.6226, -5.6226, -5.6226, -4.61, -4.9779, -4.9779, -4.9779, -4.9779, -4.9779, -4.9779, -4.9779, -4.9779, -4.9779, -5.5661, -5.5661, -5.5661, -5.5661, -5.5661, -5.5661, -5.5661, -5.5661, -5.5661, -5.5661, -5.5661, -5.5661, -5.5661, -5.5661, -5.5661, -5.5661, -5.5661, -5.5661, -5.5661, -5.5661, -5.5661, -5.5661, -5.5661, -5.5661, -5.5661, -5.5661, -5.5661, -5.5661, -5.5661, -5.5661, -5.5661, -5.5661, -5.5661, -5.5661, -4.5977, -4.5977, -4.5977, -4.9656, -4.9656, -4.9656, -4.9656, -5.5538, -5.5538, -5.5538, -5.5538, -5.5538, -5.5538, -5.5538, -5.5538, -5.5538, -5.5538, -5.5538, -5.5538, -5.5538, -5.5538, -5.5538, -5.5538, -5.5538, -5.5538, -5.5538, -5.5538, -5.5538, -5.5538, -5.5538, -5.5538, -5.5538, -5.5538, -5.5538, -5.5538, -5.5538, -5.5538, -5.5538, -5.5538, -5.5538, -5.5538, -5.5538, -5.5538, -5.5538, -5.5538, -5.5538, -4.1119, -4.3232, -4.3232, -4.5916, -4.5916, -4.9594, -4.9594, -4.9594, -4.9594, -4.9594, -4.9594, -5.5476, -5.5476, -5.5476, -5.5476, -5.5476, -5.5476, -5.5476, -5.5476, -5.5476, -5.5476, -5.5476, -5.5476, -5.5476, -5.5476, -5.5476, -5.5476, -5.5476, -5.5476, -5.5476, -5.5476, -5.5476, -5.5476, -5.5476, -5.5476, -5.5476], \"loglift\": [30.0, 29.0, 28.0, 27.0, 26.0, 25.0, 24.0, 23.0, 22.0, 21.0, 20.0, 19.0, 18.0, 17.0, 16.0, 15.0, 14.0, 13.0, 12.0, 11.0, 10.0, 9.0, 8.0, 7.0, 6.0, 5.0, 4.0, 3.0, 2.0, 1.0, 1.268, 1.2251, 1.1304, 1.05, 1.05, 1.05, 1.05, 1.05, 1.05, 0.8669, 0.8669, 0.8669, 0.8669, 0.8669, 0.8669, 0.8669, 0.8669, 0.8669, 0.8669, 0.8669, 0.8669, 0.8669, 0.8669, 0.8669, 0.8669, 0.8669, 0.8669, 0.8669, 0.8669, 0.8669, 0.8669, 0.8669, 0.8669, 0.8669, 0.8669, 0.8669, 0.8669, 0.8669, 0.8669, 0.8669, 0.8669, 1.185, 1.1048, 1.1048, 1.1048, 1.1048, 1.1048, 1.1048, 1.1048, 1.1048, 1.1048, 0.9221, 0.9221, 0.9221, 0.9221, 0.9221, 0.9221, 0.9221, 0.9221, 0.9221, 0.9221, 0.9221, 0.9221, 0.9221, 0.9221, 0.9221, 0.9221, 0.9221, 0.9221, 0.9221, 0.9221, 0.9221, 0.9221, 0.9221, 0.9221, 0.9221, 0.9221, 0.9221, 0.9221, 0.9221, 0.9221, 0.9221, 0.9221, 0.9221, 0.9221, 1.1969, 1.1969, 1.1969, 1.1168, 1.1168, 1.1168, 1.1168, 0.9342, 0.9342, 0.9342, 0.9342, 0.9342, 0.9342, 0.9342, 0.9342, 0.9342, 0.9342, 0.9342, 0.9342, 0.9342, 0.9342, 0.9342, 0.9342, 0.9342, 0.9342, 0.9342, 0.9342, 0.9342, 0.9342, 0.9342, 0.9342, 0.9342, 0.9342, 0.9342, 0.9342, 0.9342, 0.9342, 0.9342, 0.9342, 0.9342, 0.9342, 0.9342, 0.9342, 0.9342, 0.9342, 0.9342, 1.2769, 1.248, 1.248, 1.2028, 1.2028, 1.1227, 1.1227, 1.1227, 1.1227, 1.1227, 1.1227, 0.9402, 0.9402, 0.9402, 0.9402, 0.9402, 0.9402, 0.9402, 0.9402, 0.9402, 0.9402, 0.9402, 0.9402, 0.9402, 0.9402, 0.9402, 0.9402, 0.9402, 0.9402, 0.9402, 0.9402, 0.9402, 0.9402, 0.9402, 0.9402, 0.9402]}, \"token.table\": {\"Topic\": [2, 1, 1, 1, 2, 4, 1, 1, 1, 1, 4, 3, 1, 4, 3, 3, 1, 1, 3, 3, 4, 2, 4, 2, 2, 3, 3, 1, 2, 4, 2, 3, 3, 3, 3, 2, 3, 3, 4, 1, 3, 1, 2, 2, 3, 4, 1, 3, 4, 3, 4, 2, 2, 1, 3, 2, 1, 1, 1, 1, 2, 2, 3, 3, 1, 3, 2, 1, 2, 3, 2, 4, 4, 1, 4, 3, 1, 2, 4, 3, 2, 1, 4, 1, 4, 1, 2, 4, 2, 4, 1, 1, 4, 2, 2, 2, 3, 2, 4, 3, 2, 3, 2, 4, 2, 4, 2, 1, 3, 2, 2, 3, 3, 1, 3, 3, 2, 2, 4, 3, 2, 1, 2, 4, 1, 3, 2, 2, 3, 3, 1, 4, 4, 1, 1, 4, 3, 2, 4, 3, 1, 4, 3, 1, 4, 3, 2, 2, 1, 2, 4, 1, 3, 3, 2, 3, 3, 2, 4, 1, 4, 4, 3, 4, 4, 3, 1], \"Freq\": [0.6360348386423856, 0.9553219258767139, 0.9553219258767139, 0.9553219799971395, 0.9541140067096509, 0.9537056519951075, 0.955321970906538, 0.9553219437407333, 0.9553219440579153, 0.955321970906538, 0.9537056431465217, 0.9538421805544195, 0.955321970906538, 0.9537056801786743, 0.9538421983631405, 0.9538421528649113, 0.9553219619219353, 0.9553219440579153, 0.9538421625359805, 0.9538421805544195, 0.9534106908523036, 0.9541140067096509, 0.762682193115192, 0.9541139887858597, 0.9541139983558994, 0.9538421805544195, 0.9538421896168802, 0.9553219799971395, 0.636034822830184, 0.9533140379364368, 0.9541139887858597, 0.9538421887985525, 0.9538421624294985, 0.9538421805544195, 0.6357933260992731, 0.9541139983558994, 0.6357933502704879, 0.9538421983631405, 0.95370558078062, 0.6371085383620116, 0.9538421896168802, 0.9553219440579153, 0.954114016279691, 0.6360348362099003, 0.9538421805544195, 0.9537055819958671, 0.6371085102953163, 0.9538421805544195, 0.95370558078062, 0.9538421983631405, 0.6356720054438068, 0.9541140066047321, 0.9541139620050929, 0.6371085222836974, 0.9538421624294985, 0.6360348106589103, 0.955321970906538, 0.9553219619219353, 0.955321970906538, 0.955321970906538, 0.9541139887858597, 0.954114016279691, 0.9538421983631405, 0.9538421887985525, 0.9553219258767139, 0.9538421805544195, 0.6360348185773836, 0.8194774917634855, 0.9541140067096509, 0.9538421805544195, 0.9541139887858597, 0.9537056519951075, 0.9537055628721706, 0.9553219619219353, 0.9537056801786743, 0.9536154646679909, 0.9553219440579153, 0.6360348185773836, 0.6356719722180387, 0.9538421805544195, 0.9541139983558994, 0.9553219440579153, 0.95370558078062, 0.955321970906538, 0.9537055186260068, 0.955321970906538, 0.9541139983558994, 0.9537056711188076, 0.9541139983558994, 0.9537055898404851, 0.6371085302757102, 0.955321970906538, 0.9537054916576962, 0.9541139983558994, 0.954113970966988, 0.9541139983558994, 0.6357933175298861, 0.9541140067096509, 0.9537056519951075, 0.9536154467887226, 0.9541140067096509, 0.9538421887985525, 0.6360348106589103, 0.6356719477162519, 0.9541139983558994, 0.9537056711188076, 0.9541139887858597, 0.9558347935313394, 0.9536154692760799, 0.954113970966988, 0.9541139983558994, 0.9538421996835952, 0.9538421447272604, 0.6371085182405468, 0.9538421805544195, 0.9538421805544195, 0.9540227999262173, 0.9541139805370273, 0.953705599904317, 0.9538421627456988, 0.9541139983558994, 0.6371085143384668, 0.9541139887858597, 0.7626821587767318, 0.9553219440579153, 0.9538421983631405, 0.9541139887858597, 0.9541140245285239, 0.9538421983631405, 0.9538421983631405, 0.9553219619219353, 0.6356719562121501, 0.9537056340866554, 0.9553219710125367, 0.9553219440579153, 0.9537055377497013, 0.9538421983631405, 0.9541139620050929, 0.9537056711188076, 0.9538421983631405, 0.955321970906538, 0.95370558078062, 0.9538421805544195, 0.955321970906538, 0.95370558078062, 0.6357933290343454, 0.6360347984410125, 0.9541139887858597, 0.9553219619219353, 0.6360348951498461, 0.95370558078062, 0.9553219619219353, 0.9538421983631405, 0.9538421983631405, 0.9541139983558994, 0.9538421638564348, 0.9538421983631405, 0.9541139887858597, 0.9537056519951075, 0.9553219619219353, 0.9534107669169185, 0.6356719717720163, 0.9538421805544195, 0.9537056801786743, 0.6356719557661277, 0.9538421805544195, 0.8692408565951695], \"Term\": [\"1,4\", \"17-j\\u00e4hrigen\", \"2017:\", \"29\", \"4,9\", \"a$ap\", \"abend:\", \"abschaffung\", \"alarmstufe\", \"allgemeines\", \"alten\", \"amt:\", \"angeklagtus-basketball:\", \"angek\\u00fcndigt\", \"attackiert\", \"bananenkiste\", \"benzinversorgung:\", \"ber\\u00e4t\", \"blockchains:\", \"blockieren\", \"boris\", \"botschafter\", \"bundesregierung\", \"coup\", \"cyberangriff\", \"darauf\", \"ddr-best\\u00e4nden\", \"deutsche\", \"deutschen\", \"deutschland\", \"deutschlandboris\", \"digitales\", \"dilettanten\\u00bbaufstand\", \"drohen\", \"dr\\u00e4ngt\", \"edeutlich\", \"ende\", \"erdrutschen\", \"erh\\u00f6hen\", \"essen\", \"euphorie\", \"fdp\", \"fernehaltung\", \"festdie\", \"feuerwehreinsatzfotoshooting\", \"firmenname\", \"frau\", \"freund\", \"gas.de,\", \"geht\", \"gerhard\", \"get\\u00f6tetjunta\", \"giftspinne\", \"gro\\u00dfbritannien:\", \"gr\\u00e4benenergiesparende\", \"gr\\u00f6\\u00dften\", \"gutachten\", \"habengr\\u00fcnenspitze\", \"habenneuer\", \"hause\", \"hefner\", \"heizkostenzuschuss\", \"heusgen\", \"heute\", \"hintergrund\", \"h\\u00e4user:\", \"joe\", \"johnson\", \"j\\u00fcngster\", \"kfw-f\\u00f6rderstopp\", \"klimaaktivisten\", \"klingbeil\", \"krebssterblichkeit\", \"kreml-widerstand:\", \"kriminalfall\", \"kritisiert\", \"kurz\", \"k\\u00e4mpft\", \"lage\", \"land\", \"leisten?stromio,\", \"lockdown-feiernfahndung\", \"lockdown-feste\", \"l\\u00e4dt\", \"mann\", \"max\", \"may\", \"menschen\", \"merz\", \"messengerdienst:\", \"milliarden\", \"mitarbeiter\", \"monats:\", \"musk\", \"m\\u00f6chte\", \"nicht,\", \"nimmt\", \"nordkoreas\", \"nrw:\", \"offenbar\", \"opfer\", \"ops,\", \"osteuropa:\", \"pandemie:\", \"paris:\", \"party\", \"pokerturnier:\", \"polizei\", \"polizisten\", \"problem\", \"putin\", \"raketenstart\", \"rasche\", \"rheinland-pfalz:\", \"rihanna\", \"rocky:\", \"russland:\", \"russlandproblem\", \"san\", \"sanktionen\", \"schmecktcartoons\", \"schr\\u00f6der\", \"schwangerkonflikt\", \"sch\\u00fcsse\", \"sicherheitsleute\", \"sieg\", \"sorgt\", \"spezialeinheiten:\", \"springpferd\", \"staat\", \"strom\", \"super\", \"supermarkt\", \"tankstellen\", \"tatverd\\u00e4chtige\", \"tatverd\\u00e4chtigemm\\u00f6gliche\", \"teile\", \"test\", \"theresa\", \"tiere\", \"toten\", \"totkontroverse\", \"totstreit\", \"trauert\", \"trifft\", \"t\\u00f6dliche\", \"ukraine:\", \"umfeldlars\", \"usa\", \"vorsicht,\", \"waffen\", \"waffenlieferungen\", \"wahlbetrugs\", \"warnt\", \"wer\", \"zehetbauer\", \"zerschlagen\", \"zulieferer\", \"zumindest\", \"\\u00bbeigenverantwortung\\u00ab:\", \"\\u00bbich\", \"\\u00bbim\", \"\\u00bbpartygate\\u00ab-bericht:\", \"\\u00bbunfallfahrers\\u00ab\", \"\\u00e4u\\u00dfert\", \"\\u00fcberfall\", \"\\u2013\"]}, \"R\": 30, \"lambda.step\": 0.01, \"plot.opts\": {\"xlab\": \"PC1\", \"ylab\": \"PC2\"}, \"topic.order\": [4, 1, 3, 2]};\n",
       "\n",
       "function LDAvis_load_lib(url, callback){\n",
       "  var s = document.createElement('script');\n",
       "  s.src = url;\n",
       "  s.async = true;\n",
       "  s.onreadystatechange = s.onload = callback;\n",
       "  s.onerror = function(){console.warn(\"failed to load library \" + url);};\n",
       "  document.getElementsByTagName(\"head\")[0].appendChild(s);\n",
       "}\n",
       "\n",
       "if(typeof(LDAvis) !== \"undefined\"){\n",
       "   // already loaded: just create the visualization\n",
       "   !function(LDAvis){\n",
       "       new LDAvis(\"#\" + \"ldavis_el15584422267224745765021849554\", ldavis_el15584422267224745765021849554_data);\n",
       "   }(LDAvis);\n",
       "}else if(typeof define === \"function\" && define.amd){\n",
       "   // require.js is available: use it to load d3/LDAvis\n",
       "   require.config({paths: {d3: \"https://d3js.org/d3.v5\"}});\n",
       "   require([\"d3\"], function(d3){\n",
       "      window.d3 = d3;\n",
       "      LDAvis_load_lib(\"https://cdn.jsdelivr.net/gh/bmabey/pyLDAvis@3.3.1/pyLDAvis/js/ldavis.v3.0.0.js\", function(){\n",
       "        new LDAvis(\"#\" + \"ldavis_el15584422267224745765021849554\", ldavis_el15584422267224745765021849554_data);\n",
       "      });\n",
       "    });\n",
       "}else{\n",
       "    // require.js not available: dynamically load d3 & LDAvis\n",
       "    LDAvis_load_lib(\"https://d3js.org/d3.v5.js\", function(){\n",
       "         LDAvis_load_lib(\"https://cdn.jsdelivr.net/gh/bmabey/pyLDAvis@3.3.1/pyLDAvis/js/ldavis.v3.0.0.js\", function(){\n",
       "                 new LDAvis(\"#\" + \"ldavis_el15584422267224745765021849554\", ldavis_el15584422267224745765021849554_data);\n",
       "            })\n",
       "         });\n",
       "}\n",
       "</script>"
      ],
      "text/plain": [
       "PreparedData(topic_coordinates=              x         y  topics  cluster       Freq\n",
       "topic                                                \n",
       "3      0.127660  0.009649       1        1  26.212825\n",
       "0     -0.040542 -0.079210       2        1  24.836689\n",
       "2     -0.033932 -0.038614       3        1  24.547087\n",
       "1     -0.053185  0.108175       4        1  24.403398, topic_info=                Term      Freq     Total Category  logprob  loglift\n",
       "29                 –  5.000000  5.000000  Default  30.0000  30.0000\n",
       "37           johnson  3.000000  3.000000  Default  29.0000  29.0000\n",
       "211      deutschland  3.000000  3.000000  Default  28.0000  28.0000\n",
       "25   bundesregierung  2.000000  2.000000  Default  27.0000  27.0000\n",
       "122          schüsse  2.000000  2.000000  Default  26.0000  26.0000\n",
       "..               ...       ...       ...      ...      ...      ...\n",
       "1               nrw:  0.655174  1.048542   Topic4  -5.5476   0.9402\n",
       "7               a$ap  0.655174  1.048542   Topic4  -5.5476   0.9402\n",
       "17         klingbeil  0.655174  1.048542   Topic4  -5.5476   0.9402\n",
       "22             alten  0.655174  1.048542   Topic4  -5.5476   0.9402\n",
       "30         zumindest  0.655174  1.048542   Topic4  -5.5476   0.9402\n",
       "\n",
       "[197 rows x 6 columns], token_table=      Topic      Freq                  Term\n",
       "term                                       \n",
       "66        2  0.636035                   1,4\n",
       "167       1  0.955322           17-jährigen\n",
       "83        1  0.955322                 2017:\n",
       "411       1  0.955322                    29\n",
       "235       2  0.954114                   4,9\n",
       "...     ...       ...                   ...\n",
       "44        3  0.953842  »partygate«-bericht:\n",
       "230       4  0.953706       »unfallfahrers«\n",
       "108       4  0.635672                äußert\n",
       "72        3  0.953842              überfall\n",
       "29        1  0.869241                     –\n",
       "\n",
       "[167 rows x 3 columns], R=30, lambda_step=0.01, plot_opts={'xlab': 'PC1', 'ylab': 'PC2'}, topic_order=[4, 1, 3, 2])"
      ]
     },
     "execution_count": 37,
     "metadata": {},
     "output_type": "execute_result"
    }
   ],
   "source": [
    "lda(Janspiegel)"
   ]
  },
  {
   "cell_type": "code",
   "execution_count": 47,
   "id": "2821e4ad",
   "metadata": {
    "collapsed": true
   },
   "outputs": [
    {
     "name": "stderr",
     "output_type": "stream",
     "text": [
      "C:\\Users\\bened\\anaconda3\\envs\\Finalproject\\lib\\site-packages\\pyLDAvis\\_prepare.py:246: FutureWarning: In a future version of pandas all arguments of DataFrame.drop except for the argument 'labels' will be keyword-only.\n",
      "  default_term_info = default_term_info.sort_values(\n"
     ]
    },
    {
     "data": {
      "text/html": [
       "\n",
       "<link rel=\"stylesheet\" type=\"text/css\" href=\"https://cdn.jsdelivr.net/gh/bmabey/pyLDAvis@3.3.1/pyLDAvis/js/ldavis.v1.0.0.css\">\n",
       "\n",
       "\n",
       "<div id=\"ldavis_el15584422267315324643540120454\"></div>\n",
       "<script type=\"text/javascript\">\n",
       "\n",
       "var ldavis_el15584422267315324643540120454_data = {\"mdsDat\": {\"x\": [0.07533539846909351, -0.12341018866238769, 0.019697918771819468, 0.028376871421474725], \"y\": [0.0979913764083589, 0.03260876289585429, -0.040103635482095966, -0.09049650382211721], \"topics\": [1, 2, 3, 4], \"cluster\": [1, 1, 1, 1], \"Freq\": [25.282874005958334, 25.07846575507245, 24.870272427930534, 24.768387811038682]}, \"tinfo\": {\"Term\": [\"putin\", \"\\u2013\", \"ukraine:\", \"angriff\", \"neuen\", \"russlands\", \"lauterbach\", \"f\\u00fcnf\", \"ukrainekrieg:\", \"weniger\", \"kiew\", \"formel\", \"jahren\", \"russische\", \"russischen\", \"ukrainische\", \"lage\", \"krieg\", \"zahl\", \"welt\", \"ukraine\", \"bundesregierung\", \"erwartet:\", \"warnt\", \"m\\u00e4dchen\", \"streicht\", \"ausnachfolger\", \"eu\", \"model\", \"kellerman\", \"\\u2013\", \"lauterbach\", \"f\\u00fcnf\", \"warnt\", \"m\\u00e4dchen\", \"streicht\", \"ausbremsen\", \"\\u00bbm.a.s.h.\\u00ab:\", \"befundenfinanzminister\", \"beruf\", \"manchmal\", \"marine\", \"day\\u00absicherheit\", \"hacker\", \"legt\", \"nebenwirkungen\", \"saisonkrieg\", \"kultfilm\", \"dna-stammbaum\", \"putin:\", \"k\\u00f6ln:\", \"angenommenau\\u00dfenhandel:\", \"neuinfektionen\", \"m\\u00f6glich\", \"vorweigerung\", \"kriegstagwie\", \"bereit,\", \"schulden\", \"r\\u00fcstungskonzernen\", \"sapiens:\", \"preis\", \"rennkalenderputin\", \"bereitkampf\", \"marsch\", \"kommen\\u00bbgrenzen\", \"impfreaktionen:\", \"macht\", \"vater\", \"habenauslosung\", \"spielt\", \"kleiner\", \"freudekrieg\", \"kreml\", \"sanktionen\", \"anahnenforschung\", \"putin\", \"ukraine:\", \"ukrainische\", \"lage\", \"krieg\", \"ukraine\", \"welt\", \"zahl\", \"bundesregierung\", \"erwartet:\", \"risiken\", \"ukrainekriegs:\", \"registriert\", \"schulz\", \"verhandlungen\", \"kapitulieren:\", \"beschie\\u00dft\", \"lage,\", \"zweite\", \"zukunftso\", \"euro\", \"bitte\", \"baden-baden:\", \"leverkusen\", \"machtwort\", \"herbst\", \"putin's\", \"is\", \"ergebnis\", \"unbekannte\", \"neues\", \"sanktionen:\", \"get\\u00f6tet\", \"rekordtiefdeutscher\", \"\\u00bbfreedom\", \"russlands\", \"russische\", \"russischen\", \"gedachtprofiteure\", \"explosionen\", \"bundespr\\u00e4sident\", \"chatprotokolle\", \"emix-maskenaff\\u00e4re:\", \"sagt\", \"zur\\u00fcckstatistisches\", \"paris\", \"energiepreisenlandgericht\", \"haltung\", \"vorw\\u00fcrfe:\", \"acapulco:\", \"bezeichnet:\", \"kirchenasyl:\", \"dorfjugend:\", \"schlangeninselputins\", \"wappnen:\", \"it-sicherheitsbeh\\u00f6rde\", \"\\u00bbwartet,\", \"atalanta,\", \"vergeltung\", \"ministerpr\\u00e4sident:\", \"umgang\", \"verlogen,\", \"coronawelle\", \"hatchampions-league-finale:\", \"zdf-karnevalssendung\", \"schriftsteller\", \"daniel\", \"rechtsextreme\", \"ist?\\u00abreaktion\", \"eckpunkte\", \"grenzsch\\u00fctzer\", \"ukrainer\", \"schauerm\\u00e4rchen\", \"geklauten\", \"unversch\\u00e4mte\", \"ukrainealarmstufe\", \"dritten\", \"fragen\", \"ausgaben\", \"staat\", \"gefragtfliehende\", \"angriff\", \"neuen\", \"ukrainekrieg:\", \"kiew\", \"weniger\", \"formel\", \"jahren\", \"ausnachfolger\", \"model\", \"eu\", \"mord\", \"heben\", \"gesicht\", \"us-rehazentren\", \"kellerman\", \"krieg:\", \"merkel\", \"vinted\", \"corona-todesf\\u00e4lle\", \"rennwagen\", \"angriff,\", \"europa-league-achtelfinals:\", \"attack\", \"schrumpfte\", \"panzer\", \"europa:\", \"ort,\", \"russland\", \"rechtsextremismus:\", \"demokratief\\u00f6rdergesetz\", \"ostdeutsche\", \"1\", \"folgen:\", \"wjatscheslaw\", \"wachstums\\u00ab:\", \"gesehen:\", \"kriegstreibereistatement:\", \"orange:\", \"hacksdaten\", \"lieber\", \"krankenkasserussischer\", \"diagnostiziert\", \"narzissmushohe\", \"pandemie:\", \"21\", \"milliarden\"], \"Freq\": [5.0, 4.0, 3.0, 2.0, 2.0, 2.0, 2.0, 2.0, 1.0, 1.0, 1.0, 1.0, 1.0, 1.0, 1.0, 1.0, 1.0, 1.0, 1.0, 1.0, 1.0, 1.0, 1.0, 1.0, 1.0, 1.0, 1.0, 1.0, 1.0, 1.0, 3.8111416803276303, 1.7081578957100971, 1.7081568679048893, 1.1823971605807808, 1.1823971605807808, 1.1823960185749944, 0.6565955416443141, 0.6565955416443141, 0.6565955416443141, 0.6565955416443141, 0.6565955416443141, 0.6565955416443141, 0.6565955416443141, 0.6565955416443141, 0.6565955416443141, 0.6565955416443141, 0.6565955416443141, 0.6565955416443141, 0.6565955416443141, 0.6565955416443141, 0.6565955416443141, 0.6565955416443141, 0.6565955416443141, 0.6565955416443141, 0.6565955416443141, 0.6565955416443141, 0.6565955416443141, 0.6565955416443141, 0.6565955416443141, 0.6565955416443141, 0.6565955416443141, 0.6565955416443141, 0.6565955416443141, 0.6565955416443141, 0.6565955416443141, 0.6565955416443141, 0.6565955416443141, 0.6565955416443141, 0.6565955416443141, 0.6565955416443141, 0.6565955416443141, 0.6565955416443141, 0.6565955416443141, 0.6565955416443141, 0.6565955416443141, 4.864667589538424, 3.2867793641794334, 1.1828975856128494, 1.1828975856128494, 1.1828975856128494, 1.1828974723355654, 1.1828974723355654, 1.1828974723355654, 1.1828974723355654, 1.1828921483032149, 0.656876845857084, 0.656876845857084, 0.656876845857084, 0.656876845857084, 0.656876845857084, 0.656876845857084, 0.656876845857084, 0.656876845857084, 0.656876845857084, 0.656876845857084, 0.656876845857084, 0.656876845857084, 0.656876845857084, 0.656876845857084, 0.656876845857084, 0.656876845857084, 0.656876845857084, 0.656876845857084, 0.656876845857084, 0.656876845857084, 0.656876845857084, 0.656876845857084, 0.656876845857084, 0.656876845857084, 0.656876845857084, 1.7096301174678548, 1.1834196230513165, 1.1834161406076458, 0.6571703724068287, 0.6571703724068287, 0.6571703724068287, 0.6571703724068287, 0.6571703724068287, 0.6571703162383825, 0.6571703162383825, 0.6571703162383825, 0.6571703162383825, 0.6571703162383825, 0.6571703162383825, 0.6571703162383825, 0.6571703162383825, 0.6571703162383825, 0.6571703162383825, 0.6571703162383825, 0.6571703162383825, 0.6571703162383825, 0.6571703162383825, 0.6571703162383825, 0.6571703162383825, 0.6571703162383825, 0.6571703162383825, 0.6571703162383825, 0.6571703162383825, 0.6571703162383825, 0.6571703162383825, 0.6571703162383825, 0.6571703162383825, 0.6571703162383825, 0.6571703162383825, 0.6571703162383825, 0.6571703162383825, 0.6571703162383825, 0.6571703162383825, 0.6571703162383825, 0.6571703162383825, 0.6571703162383825, 0.6571703162383825, 0.6571703162383825, 0.6571703162383825, 0.6571703162383825, 0.6571703162383825, 2.2363129717857153, 1.7100000546033676, 1.1836770685190536, 1.1836769566423653, 1.1836770685190536, 1.1836769566423653, 1.1836743834785295, 0.65731464590204, 0.65731464590204, 0.65731464590204, 0.65731464590204, 0.65731464590204, 0.65731464590204, 0.65731464590204, 0.65731464590204, 0.65731464590204, 0.65731464590204, 0.65731464590204, 0.65731464590204, 0.65731464590204, 0.65731464590204, 0.65731464590204, 0.65731464590204, 0.65731464590204, 0.65731464590204, 0.65731464590204, 0.65731464590204, 0.65731464590204, 0.65731464590204, 0.65731464590204, 0.65731464590204, 0.65731464590204, 0.65731464590204, 0.65731464590204, 0.65731464590204, 0.65731464590204, 0.65731464590204, 0.65731464590204, 0.65731464590204, 0.65731464590204, 0.65731464590204, 0.65731464590204, 0.65731464590204, 0.65731464590204, 0.65731464590204, 0.65731464590204], \"Total\": [5.0, 4.0, 3.0, 2.0, 2.0, 2.0, 2.0, 2.0, 1.0, 1.0, 1.0, 1.0, 1.0, 1.0, 1.0, 1.0, 1.0, 1.0, 1.0, 1.0, 1.0, 1.0, 1.0, 1.0, 1.0, 1.0, 1.0, 1.0, 1.0, 1.0, 4.206203095421119, 2.103239804386211, 2.1032398954029157, 1.577498347252074, 1.57749836123666, 1.5774983093496582, 1.0517542108331879, 1.0517542108331879, 1.0517542108331879, 1.05175423880236, 1.05175423880236, 1.051754238917411, 1.051754239152509, 1.051754239152509, 1.0517542668865831, 1.0517542668865831, 1.0517542668865831, 1.0517542668865831, 1.051754267121681, 1.051754267121681, 1.051754267121681, 1.051754267121681, 1.051754267121681, 1.0517542672367322, 1.0517542672367322, 1.0517542672367322, 1.0517542672367322, 1.0517542672367322, 1.0517542672367322, 1.0517542672367322, 1.0517542952059042, 1.0517542952059042, 1.0517542952059042, 1.0517542952059042, 1.0517542952059042, 1.0517542952059042, 1.0517542952059042, 1.0517542952059042, 1.0517542952059042, 1.0517542952059042, 1.0517543093655646, 1.0517542952059042, 1.0517542952059042, 1.0517542952059042, 1.0517542952059042, 5.259664426656689, 3.6817821789028655, 1.5779381275846003, 1.5779381422076844, 1.5779381561922705, 1.5779380568995727, 1.5779380568995727, 1.5779380568995727, 1.577938071174645, 1.5779381395461005, 1.051974232221446, 1.051974232221446, 1.051974232221446, 1.0519742462060322, 1.0519742462060322, 1.0519742462060322, 1.0519742462060322, 1.0519742462060322, 1.0519742462060322, 1.0519742462060322, 1.0519742462060322, 1.0519742462060322, 1.0519742462060322, 1.0519742462060322, 1.0519742462060322, 1.0519742462060322, 1.0519742462060322, 1.0519742462060322, 1.0519742462060322, 1.0519742462060322, 1.0519742602481437, 1.0519742744656906, 1.0519742745232161, 1.0519742462635575, 1.0519742604811044, 2.104588741796249, 1.5783975404342658, 1.5783975960908692, 1.0522038976290355, 1.0522038976290355, 1.0522039119041078, 1.0522039119041078, 1.052203925888694, 1.0522038414605892, 1.0522038414605892, 1.0522038414605892, 1.0522038414605892, 1.0522038414605892, 1.0522038414605892, 1.0522038414605892, 1.0522038556202498, 1.0522038556202498, 1.0522038557356617, 1.0522038557356617, 1.0522038557356617, 1.0522038557356617, 1.0522038557356617, 1.0522038557356617, 1.0522038557356617, 1.0522038557356617, 1.0522038557356617, 1.0522038557356617, 1.0522038557356617, 1.0522038557356617, 1.0522038557356617, 1.052203869895322, 1.0522038838799082, 1.0522038697202476, 1.052203869895322, 1.052203869895322, 1.052203869895322, 1.052203869895322, 1.052203869895322, 1.0522038697202476, 1.0522038697202476, 1.052203869895322, 1.052203869895322, 1.05220388399532, 1.052203869895322, 1.0522038697202476, 1.05220388399532, 2.631231400422579, 2.1049277987794266, 1.5786234442394234, 1.5786233182030744, 1.578623472556607, 1.5786233891146517, 1.5786234210975256, 1.0523167739684036, 1.0523167739684036, 1.0523167739684036, 1.0523167881280642, 1.0523167881280642, 1.0523167881280642, 1.0523167881280642, 1.0523167881280642, 1.0523167882434759, 1.0523167882434759, 1.0523167882434759, 1.0523167882434759, 1.0523167882434759, 1.0523168021701756, 1.0523168021701756, 1.0523168021701756, 1.0523168021701756, 1.0523168022855875, 1.0523168022855875, 1.0523168024031364, 1.0523168024031364, 1.0523168024031364, 1.0523168024031364, 1.052316816445248, 1.052316816445248, 1.0523168024031364, 1.052316816445248, 1.052316816445248, 1.0523168024031364, 1.0523168024031364, 1.052316816445248, 1.052316816445248, 1.052316816562797, 1.052316816445248, 1.052316816445248, 1.0523168024031364, 1.0523168024031364, 1.052316816562797, 1.052316816445248], \"Category\": [\"Default\", \"Default\", \"Default\", \"Default\", \"Default\", \"Default\", \"Default\", \"Default\", \"Default\", \"Default\", \"Default\", \"Default\", \"Default\", \"Default\", \"Default\", \"Default\", \"Default\", \"Default\", \"Default\", \"Default\", \"Default\", \"Default\", \"Default\", \"Default\", \"Default\", \"Default\", \"Default\", \"Default\", \"Default\", \"Default\", \"Topic1\", \"Topic1\", \"Topic1\", \"Topic1\", \"Topic1\", \"Topic1\", \"Topic1\", \"Topic1\", \"Topic1\", \"Topic1\", \"Topic1\", \"Topic1\", \"Topic1\", \"Topic1\", \"Topic1\", \"Topic1\", \"Topic1\", \"Topic1\", \"Topic1\", \"Topic1\", \"Topic1\", \"Topic1\", \"Topic1\", \"Topic1\", \"Topic1\", \"Topic1\", \"Topic1\", \"Topic1\", \"Topic1\", \"Topic1\", \"Topic1\", \"Topic1\", \"Topic1\", \"Topic1\", \"Topic1\", \"Topic1\", \"Topic1\", \"Topic1\", \"Topic1\", \"Topic1\", \"Topic1\", \"Topic1\", \"Topic1\", \"Topic1\", \"Topic1\", \"Topic2\", \"Topic2\", \"Topic2\", \"Topic2\", \"Topic2\", \"Topic2\", \"Topic2\", \"Topic2\", \"Topic2\", \"Topic2\", \"Topic2\", \"Topic2\", \"Topic2\", \"Topic2\", \"Topic2\", \"Topic2\", \"Topic2\", \"Topic2\", \"Topic2\", \"Topic2\", \"Topic2\", \"Topic2\", \"Topic2\", \"Topic2\", \"Topic2\", \"Topic2\", \"Topic2\", \"Topic2\", \"Topic2\", \"Topic2\", \"Topic2\", \"Topic2\", \"Topic2\", \"Topic2\", \"Topic2\", \"Topic3\", \"Topic3\", \"Topic3\", \"Topic3\", \"Topic3\", \"Topic3\", \"Topic3\", \"Topic3\", \"Topic3\", \"Topic3\", \"Topic3\", \"Topic3\", \"Topic3\", \"Topic3\", \"Topic3\", \"Topic3\", \"Topic3\", \"Topic3\", \"Topic3\", \"Topic3\", \"Topic3\", \"Topic3\", \"Topic3\", \"Topic3\", \"Topic3\", \"Topic3\", \"Topic3\", \"Topic3\", \"Topic3\", \"Topic3\", \"Topic3\", \"Topic3\", \"Topic3\", \"Topic3\", \"Topic3\", \"Topic3\", \"Topic3\", \"Topic3\", \"Topic3\", \"Topic3\", \"Topic3\", \"Topic3\", \"Topic3\", \"Topic3\", \"Topic3\", \"Topic3\", \"Topic4\", \"Topic4\", \"Topic4\", \"Topic4\", \"Topic4\", \"Topic4\", \"Topic4\", \"Topic4\", \"Topic4\", \"Topic4\", \"Topic4\", \"Topic4\", \"Topic4\", \"Topic4\", \"Topic4\", \"Topic4\", \"Topic4\", \"Topic4\", \"Topic4\", \"Topic4\", \"Topic4\", \"Topic4\", \"Topic4\", \"Topic4\", \"Topic4\", \"Topic4\", \"Topic4\", \"Topic4\", \"Topic4\", \"Topic4\", \"Topic4\", \"Topic4\", \"Topic4\", \"Topic4\", \"Topic4\", \"Topic4\", \"Topic4\", \"Topic4\", \"Topic4\", \"Topic4\", \"Topic4\", \"Topic4\", \"Topic4\", \"Topic4\", \"Topic4\", \"Topic4\"], \"logprob\": [30.0, 29.0, 28.0, 27.0, 26.0, 25.0, 24.0, 23.0, 22.0, 21.0, 20.0, 19.0, 18.0, 17.0, 16.0, 15.0, 14.0, 13.0, 12.0, 11.0, 10.0, 9.0, 8.0, 7.0, 6.0, 5.0, 4.0, 3.0, 2.0, 1.0, -3.4712, -4.2737, -4.2737, -4.6416, -4.6416, -4.6416, -5.2298, -5.2298, -5.2298, -5.2298, -5.2298, -5.2298, -5.2298, -5.2298, -5.2298, -5.2298, -5.2298, -5.2298, -5.2298, -5.2298, -5.2298, -5.2298, -5.2298, -5.2298, -5.2298, -5.2298, -5.2298, -5.2298, -5.2298, -5.2298, -5.2298, -5.2298, -5.2298, -5.2298, -5.2298, -5.2298, -5.2298, -5.2298, -5.2298, -5.2298, -5.2298, -5.2298, -5.2298, -5.2298, -5.2298, -3.219, -3.6111, -4.633, -4.633, -4.633, -4.633, -4.633, -4.633, -4.633, -4.633, -5.2212, -5.2212, -5.2212, -5.2212, -5.2212, -5.2212, -5.2212, -5.2212, -5.2212, -5.2212, -5.2212, -5.2212, -5.2212, -5.2212, -5.2212, -5.2212, -5.2212, -5.2212, -5.2212, -5.2212, -5.2212, -5.2212, -5.2212, -5.2212, -5.2212, -4.2564, -4.6242, -4.6242, -5.2125, -5.2125, -5.2125, -5.2125, -5.2125, -5.2125, -5.2125, -5.2125, -5.2125, -5.2125, -5.2125, -5.2125, -5.2125, -5.2125, -5.2125, -5.2125, -5.2125, -5.2125, -5.2125, -5.2125, -5.2125, -5.2125, -5.2125, -5.2125, -5.2125, -5.2125, -5.2125, -5.2125, -5.2125, -5.2125, -5.2125, -5.2125, -5.2125, -5.2125, -5.2125, -5.2125, -5.2125, -5.2125, -5.2125, -5.2125, -5.2125, -5.2125, -5.2125, -3.9837, -4.2521, -4.6199, -4.6199, -4.6199, -4.6199, -4.6199, -5.2081, -5.2081, -5.2081, -5.2081, -5.2081, -5.2081, -5.2081, -5.2081, -5.2081, -5.2081, -5.2081, -5.2081, -5.2081, -5.2081, -5.2081, -5.2081, -5.2081, -5.2081, -5.2081, -5.2081, -5.2081, -5.2081, -5.2081, -5.2081, -5.2081, -5.2081, -5.2081, -5.2081, -5.2081, -5.2081, -5.2081, -5.2081, -5.2081, -5.2081, -5.2081, -5.2081, -5.2081, -5.2081, -5.2081], \"loglift\": [30.0, 29.0, 28.0, 27.0, 26.0, 25.0, 24.0, 23.0, 22.0, 21.0, 20.0, 19.0, 18.0, 17.0, 16.0, 15.0, 14.0, 13.0, 12.0, 11.0, 10.0, 9.0, 8.0, 7.0, 6.0, 5.0, 4.0, 3.0, 2.0, 1.0, 1.2764, 1.167, 1.167, 1.0867, 1.0867, 1.0867, 0.9039, 0.9039, 0.9039, 0.9039, 0.9039, 0.9039, 0.9039, 0.9039, 0.9039, 0.9039, 0.9039, 0.9039, 0.9039, 0.9039, 0.9039, 0.9039, 0.9039, 0.9039, 0.9039, 0.9039, 0.9039, 0.9039, 0.9039, 0.9039, 0.9039, 0.9039, 0.9039, 0.9039, 0.9039, 0.9039, 0.9039, 0.9039, 0.9039, 0.9039, 0.9039, 0.9039, 0.9039, 0.9039, 0.9039, 1.3051, 1.2697, 1.095, 1.095, 1.095, 1.095, 1.095, 1.095, 1.095, 1.095, 0.9122, 0.9122, 0.9122, 0.9122, 0.9122, 0.9122, 0.9122, 0.9122, 0.9122, 0.9122, 0.9122, 0.9122, 0.9122, 0.9122, 0.9122, 0.9122, 0.9122, 0.9122, 0.9122, 0.9122, 0.9122, 0.9122, 0.9122, 0.9122, 0.9122, 1.1837, 1.1035, 1.1035, 0.9208, 0.9208, 0.9208, 0.9208, 0.9208, 0.9208, 0.9208, 0.9208, 0.9208, 0.9208, 0.9208, 0.9208, 0.9208, 0.9208, 0.9208, 0.9208, 0.9208, 0.9208, 0.9208, 0.9208, 0.9208, 0.9208, 0.9208, 0.9208, 0.9208, 0.9208, 0.9208, 0.9208, 0.9208, 0.9208, 0.9208, 0.9208, 0.9208, 0.9208, 0.9208, 0.9208, 0.9208, 0.9208, 0.9208, 0.9208, 0.9208, 0.9208, 0.9208, 1.233, 1.1878, 1.1077, 1.1077, 1.1077, 1.1077, 1.1077, 0.925, 0.925, 0.925, 0.925, 0.925, 0.925, 0.925, 0.925, 0.925, 0.925, 0.925, 0.925, 0.925, 0.925, 0.925, 0.925, 0.925, 0.925, 0.925, 0.925, 0.925, 0.925, 0.925, 0.925, 0.925, 0.925, 0.925, 0.925, 0.925, 0.925, 0.925, 0.925, 0.925, 0.925, 0.925, 0.925, 0.925, 0.925, 0.925]}, \"token.table\": {\"Topic\": [4, 4, 3, 1, 1, 4, 4, 3, 4, 1, 3, 4, 2, 1, 1, 1, 1, 2, 3, 2, 3, 2, 3, 4, 3, 3, 1, 4, 4, 1, 3, 3, 3, 3, 3, 2, 2, 4, 2, 4, 4, 3, 4, 4, 3, 1, 1, 3, 3, 3, 4, 4, 2, 3, 1, 1, 4, 3, 3, 4, 2, 1, 2, 3, 3, 4, 2, 4, 4, 3, 1, 1, 4, 1, 2, 4, 1, 4, 1, 1, 2, 2, 1, 1, 2, 4, 1, 2, 1, 1, 1, 4, 4, 3, 4, 4, 1, 1, 4, 1, 4, 2, 1, 4, 4, 4, 4, 4, 3, 1, 2, 2, 1, 3, 4, 2, 2, 1, 4, 2, 3, 3, 4, 3, 1, 3, 1, 1, 2, 1, 3, 3, 3, 4, 1, 2, 1, 3, 1, 2, 2, 3, 4, 2, 3, 2, 3, 2, 3, 4, 1, 3, 2, 3, 4, 1, 3, 4, 3, 1, 2, 4, 4, 2, 3, 2, 3, 2, 2, 1, 3, 1], \"Freq\": [0.9502841581283709, 0.9502841580222195, 0.9503861900103655, 0.9507924089858153, 0.950792434374128, 0.7601003848155649, 0.9502841710193323, 0.9503861771166361, 0.9502841710193323, 0.9507924852592805, 0.9503861643271513, 0.9502841964866613, 0.9505936134905598, 0.9507924852592805, 0.9507924342701211, 0.9507924089858153, 0.950792459974972, 0.9505936134905598, 0.95038617722088, 0.9505936134905598, 0.950386126383395, 0.6337384326214922, 0.950386126383395, 0.9502841835956994, 0.9503861771166361, 0.9503861516957997, 0.9507924596584351, 0.9502841708089593, 0.9502841581283709, 0.950792434374128, 0.9503861771166361, 0.9503861643271513, 0.9503861643271513, 0.9503861137520444, 0.9503861900103655, 0.9505936134905598, 0.6337384051618484, 0.9502841964866613, 0.9505936134905598, 0.9502841710193323, 0.9502841709151106, 0.9503861392771228, 0.9502841708089593, 0.6334633117027587, 0.9503861515915558, 0.9507924089858153, 0.9509138754791744, 0.9503861392771228, 0.9503861515915558, 0.9503861644852845, 0.9502841708089593, 0.9502841836999208, 0.950593587902354, 0.9503861643271513, 0.9507924089858153, 0.9507924596584351, 0.9502841581283709, 0.9503861900103655, 0.9503861771166361, 0.9502841836999208, 0.9505936134905598, 0.9507924089858153, 0.9505936134905598, 0.9503861643271513, 0.9503861771166361, 0.6334632988688067, 0.9505936134905598, 0.9502841836999208, 0.6334633401578575, 0.95038617722088, 0.9507923961853947, 0.9507924089858153, 0.9502841581283709, 0.9507924089858153, 0.6337383984763411, 0.9502841835956994, 0.9507924342701211, 0.9502841708089593, 0.950792434586658, 0.950792434374128, 0.6337384040928915, 0.9505936134905598, 0.9509139166295213, 0.950792434586658, 0.9505936134905598, 0.9502841580222195, 0.9507924089858153, 0.9505936134905598, 0.950792459974972, 0.9507924598709652, 0.9507924089858153, 0.9502841835956994, 0.9502841581283709, 0.9503861771166361, 0.9502841964866613, 0.9502841836999208, 0.6339150800867156, 0.9507924342701211, 0.9502841708089593, 0.950792434586658, 0.950151354910952, 0.9505936008017118, 0.950792434374128, 0.9502841581283709, 0.9502841708089593, 0.9502841581283709, 0.9502841708089593, 0.9502841709151106, 0.9503861900103655, 0.9507924089858153, 0.9506309898135944, 0.9505936134905598, 0.950792434374128, 0.9503861644852845, 0.9502841708089593, 0.9505936261274267, 0.9505936134385783, 0.9507924089858153, 0.9502841835956994, 0.9505936261274267, 0.6335539522729294, 0.6335539299328922, 0.9502841708089593, 0.9503044277871678, 0.9507924342701211, 0.9503861900103655, 0.950792434586658, 0.9507924089858153, 0.9505935879543358, 0.9507924342701211, 0.9503861643271513, 0.9503861771166361, 0.9503861643271513, 0.9502841710193323, 0.9507924342701211, 0.9505936134905598, 0.9507924089858153, 0.9503861644852845, 0.6339151009374213, 0.6337384383547096, 0.8148227826160999, 0.9503861643271513, 0.6334632895825245, 0.9505936261274267, 0.9503861643271513, 0.6337384099658784, 0.9503861771166361, 0.9505936134905598, 0.9503861644852845, 0.9502841836999208, 0.9507924089858153, 0.9503861771166361, 0.9505936134905598, 0.9503861771166361, 0.9502841835956994, 0.9507924342701211, 0.9503861900103655, 0.9502841581283709, 0.9503861771166361, 0.6339150857063982, 0.6337384383547096, 0.6334632782195259, 0.9502841581283709, 0.6337384383547096, 0.9503861771166361, 0.9505936134905598, 0.9503861900103655, 0.9505936134905598, 0.9505936005912019, 0.9507924852592805, 0.9503861771166361, 0.9509764291587365], \"Term\": [\"1\", \"21\", \"acapulco:\", \"anahnenforschung\", \"angenommenau\\u00dfenhandel:\", \"angriff\", \"angriff,\", \"atalanta,\", \"attack\", \"ausbremsen\", \"ausgaben\", \"ausnachfolger\", \"baden-baden:\", \"befundenfinanzminister\", \"bereit,\", \"bereitkampf\", \"beruf\", \"beschie\\u00dft\", \"bezeichnet:\", \"bitte\", \"bundespr\\u00e4sident\", \"bundesregierung\", \"chatprotokolle\", \"corona-todesf\\u00e4lle\", \"coronawelle\", \"daniel\", \"day\\u00absicherheit\", \"demokratief\\u00f6rdergesetz\", \"diagnostiziert\", \"dna-stammbaum\", \"dorfjugend:\", \"dritten\", \"eckpunkte\", \"emix-maskenaff\\u00e4re:\", \"energiepreisenlandgericht\", \"ergebnis\", \"erwartet:\", \"eu\", \"euro\", \"europa-league-achtelfinals:\", \"europa:\", \"explosionen\", \"folgen:\", \"formel\", \"fragen\", \"freudekrieg\", \"f\\u00fcnf\", \"gedachtprofiteure\", \"gefragtfliehende\", \"geklauten\", \"gesehen:\", \"gesicht\", \"get\\u00f6tet\", \"grenzsch\\u00fctzer\", \"habenauslosung\", \"hacker\", \"hacksdaten\", \"haltung\", \"hatchampions-league-finale:\", \"heben\", \"herbst\", \"impfreaktionen:\", \"is\", \"ist?\\u00abreaktion\", \"it-sicherheitsbeh\\u00f6rde\", \"jahren\", \"kapitulieren:\", \"kellerman\", \"kiew\", \"kirchenasyl:\", \"kleiner\", \"kommen\\u00bbgrenzen\", \"krankenkasserussischer\", \"kreml\", \"krieg\", \"krieg:\", \"kriegstagwie\", \"kriegstreibereistatement:\", \"kultfilm\", \"k\\u00f6ln:\", \"lage\", \"lage,\", \"lauterbach\", \"legt\", \"leverkusen\", \"lieber\", \"macht\", \"machtwort\", \"manchmal\", \"marine\", \"marsch\", \"merkel\", \"milliarden\", \"ministerpr\\u00e4sident:\", \"model\", \"mord\", \"m\\u00e4dchen\", \"m\\u00f6glich\", \"narzissmushohe\", \"nebenwirkungen\", \"neuen\", \"neues\", \"neuinfektionen\", \"orange:\", \"ort,\", \"ostdeutsche\", \"pandemie:\", \"panzer\", \"paris\", \"preis\", \"putin\", \"putin's\", \"putin:\", \"rechtsextreme\", \"rechtsextremismus:\", \"registriert\", \"rekordtiefdeutscher\", \"rennkalenderputin\", \"rennwagen\", \"risiken\", \"russische\", \"russischen\", \"russland\", \"russlands\", \"r\\u00fcstungskonzernen\", \"sagt\", \"saisonkrieg\", \"sanktionen\", \"sanktionen:\", \"sapiens:\", \"schauerm\\u00e4rchen\", \"schlangeninselputins\", \"schriftsteller\", \"schrumpfte\", \"schulden\", \"schulz\", \"spielt\", \"staat\", \"streicht\", \"ukraine\", \"ukraine:\", \"ukrainealarmstufe\", \"ukrainekrieg:\", \"ukrainekriegs:\", \"ukrainer\", \"ukrainische\", \"umgang\", \"unbekannte\", \"unversch\\u00e4mte\", \"us-rehazentren\", \"vater\", \"vergeltung\", \"verhandlungen\", \"verlogen,\", \"vinted\", \"vorweigerung\", \"vorw\\u00fcrfe:\", \"wachstums\\u00ab:\", \"wappnen:\", \"warnt\", \"welt\", \"weniger\", \"wjatscheslaw\", \"zahl\", \"zdf-karnevalssendung\", \"zukunftso\", \"zur\\u00fcckstatistisches\", \"zweite\", \"\\u00bbfreedom\", \"\\u00bbm.a.s.h.\\u00ab:\", \"\\u00bbwartet,\", \"\\u2013\"]}, \"R\": 30, \"lambda.step\": 0.01, \"plot.opts\": {\"xlab\": \"PC1\", \"ylab\": \"PC2\"}, \"topic.order\": [4, 2, 1, 3]};\n",
       "\n",
       "function LDAvis_load_lib(url, callback){\n",
       "  var s = document.createElement('script');\n",
       "  s.src = url;\n",
       "  s.async = true;\n",
       "  s.onreadystatechange = s.onload = callback;\n",
       "  s.onerror = function(){console.warn(\"failed to load library \" + url);};\n",
       "  document.getElementsByTagName(\"head\")[0].appendChild(s);\n",
       "}\n",
       "\n",
       "if(typeof(LDAvis) !== \"undefined\"){\n",
       "   // already loaded: just create the visualization\n",
       "   !function(LDAvis){\n",
       "       new LDAvis(\"#\" + \"ldavis_el15584422267315324643540120454\", ldavis_el15584422267315324643540120454_data);\n",
       "   }(LDAvis);\n",
       "}else if(typeof define === \"function\" && define.amd){\n",
       "   // require.js is available: use it to load d3/LDAvis\n",
       "   require.config({paths: {d3: \"https://d3js.org/d3.v5\"}});\n",
       "   require([\"d3\"], function(d3){\n",
       "      window.d3 = d3;\n",
       "      LDAvis_load_lib(\"https://cdn.jsdelivr.net/gh/bmabey/pyLDAvis@3.3.1/pyLDAvis/js/ldavis.v3.0.0.js\", function(){\n",
       "        new LDAvis(\"#\" + \"ldavis_el15584422267315324643540120454\", ldavis_el15584422267315324643540120454_data);\n",
       "      });\n",
       "    });\n",
       "}else{\n",
       "    // require.js not available: dynamically load d3 & LDAvis\n",
       "    LDAvis_load_lib(\"https://d3js.org/d3.v5.js\", function(){\n",
       "         LDAvis_load_lib(\"https://cdn.jsdelivr.net/gh/bmabey/pyLDAvis@3.3.1/pyLDAvis/js/ldavis.v3.0.0.js\", function(){\n",
       "                 new LDAvis(\"#\" + \"ldavis_el15584422267315324643540120454\", ldavis_el15584422267315324643540120454_data);\n",
       "            })\n",
       "         });\n",
       "}\n",
       "</script>"
      ],
      "text/plain": [
       "PreparedData(topic_coordinates=              x         y  topics  cluster       Freq\n",
       "topic                                                \n",
       "3      0.075335  0.097991       1        1  25.282874\n",
       "1     -0.123410  0.032609       2        1  25.078466\n",
       "0      0.019698 -0.040104       3        1  24.870272\n",
       "2      0.028377 -0.090497       4        1  24.768388, topic_info=               Term      Freq     Total Category  logprob  loglift\n",
       "10            putin  5.000000  5.000000  Default  30.0000   30.000\n",
       "47                –  4.000000  4.000000  Default  29.0000   29.000\n",
       "80         ukraine:  3.000000  3.000000  Default  28.0000   28.000\n",
       "65          angriff  2.000000  2.000000  Default  27.0000   27.000\n",
       "144           neuen  2.000000  2.000000  Default  26.0000   26.000\n",
       "..              ...       ...       ...      ...      ...      ...\n",
       "82   diagnostiziert  0.657315  1.052317   Topic4  -5.2081    0.925\n",
       "83   narzissmushohe  0.657315  1.052317   Topic4  -5.2081    0.925\n",
       "85        pandemie:  0.657315  1.052317   Topic4  -5.2081    0.925\n",
       "88               21  0.657315  1.052317   Topic4  -5.2081    0.925\n",
       "89       milliarden  0.657315  1.052317   Topic4  -5.2081    0.925\n",
       "\n",
       "[202 rows x 6 columns], token_table=      Topic      Freq                    Term\n",
       "term                                         \n",
       "13        4  0.950284                       1\n",
       "88        4  0.950284                      21\n",
       "336       3  0.950386               acapulco:\n",
       "131       1  0.950792        anahnenforschung\n",
       "321       1  0.950792  angenommenaußenhandel:\n",
       "...     ...       ...                     ...\n",
       "48        2  0.950594                  zweite\n",
       "171       2  0.950594                »freedom\n",
       "399       1  0.950792             »m.a.s.h.«:\n",
       "100       3  0.950386                »wartet,\n",
       "47        1  0.950976                       –\n",
       "\n",
       "[172 rows x 3 columns], R=30, lambda_step=0.01, plot_opts={'xlab': 'PC1', 'ylab': 'PC2'}, topic_order=[4, 2, 1, 3])"
      ]
     },
     "execution_count": 47,
     "metadata": {},
     "output_type": "execute_result"
    }
   ],
   "source": [
    "lda(Febspiegel)"
   ]
  },
  {
   "cell_type": "code",
   "execution_count": null,
   "id": "70e0307a",
   "metadata": {},
   "outputs": [],
   "source": []
  }
 ],
 "metadata": {
  "kernelspec": {
   "display_name": "Python 3 (ipykernel)",
   "language": "python",
   "name": "python3"
  },
  "language_info": {
   "codemirror_mode": {
    "name": "ipython",
    "version": 3
   },
   "file_extension": ".py",
   "mimetype": "text/x-python",
   "name": "python",
   "nbconvert_exporter": "python",
   "pygments_lexer": "ipython3",
   "version": "3.9.7"
  }
 },
 "nbformat": 4,
 "nbformat_minor": 5
}
