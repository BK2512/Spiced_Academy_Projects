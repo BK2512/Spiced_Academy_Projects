{
 "cells": [
  {
   "cell_type": "markdown",
   "id": "9bf71bb4",
   "metadata": {},
   "source": [
    "## Getting Data From the Guardian via API"
   ]
  },
  {
   "cell_type": "markdown",
   "id": "0609c7a9",
   "metadata": {},
   "source": [
    "###### importing necessary librarys"
   ]
  },
  {
   "cell_type": "code",
   "execution_count": 1,
   "id": "fa751e28",
   "metadata": {},
   "outputs": [],
   "source": [
    "import pandas as pd\n",
    "import requests\n",
    "import json"
   ]
  },
  {
   "cell_type": "markdown",
   "id": "a8475fa0",
   "metadata": {},
   "source": [
    "###### API Key and required fields"
   ]
  },
  {
   "cell_type": "code",
   "execution_count": 2,
   "id": "0f8f1fe2",
   "metadata": {},
   "outputs": [],
   "source": [
    "api_key = \"27ab9418-8649-4c07-83a8-070f621f947e\""
   ]
  },
  {
   "cell_type": "code",
   "execution_count": 3,
   "id": "76c1134b",
   "metadata": {},
   "outputs": [],
   "source": [
    "base_url = \"https://content.guardianapis.com/\""
   ]
  },
  {
   "cell_type": "code",
   "execution_count": 4,
   "id": "191b12f7",
   "metadata": {},
   "outputs": [],
   "source": [
    "show_fields='all'\n",
    "page_size = 200\n",
    "order_by = 'oldest'"
   ]
  },
  {
   "cell_type": "markdown",
   "id": "6ac37889",
   "metadata": {},
   "source": [
    "###### January'22"
   ]
  },
  {
   "cell_type": "code",
   "execution_count": 7,
   "id": "37c252e2",
   "metadata": {
    "scrolled": true
   },
   "outputs": [],
   "source": [
    "jan2022=pd.Series(pd.date_range(start='2022-01-01',end='2022-01-31')).dt.strftime('%Y-%m-%d').to_list()"
   ]
  },
  {
   "cell_type": "code",
   "execution_count": 8,
   "id": "64d366b2",
   "metadata": {
    "collapsed": true
   },
   "outputs": [
    {
     "data": {
      "text/plain": [
       "['2022-01-01',\n",
       " '2022-01-02',\n",
       " '2022-01-03',\n",
       " '2022-01-04',\n",
       " '2022-01-05',\n",
       " '2022-01-06',\n",
       " '2022-01-07',\n",
       " '2022-01-08',\n",
       " '2022-01-09',\n",
       " '2022-01-10',\n",
       " '2022-01-11',\n",
       " '2022-01-12',\n",
       " '2022-01-13',\n",
       " '2022-01-14',\n",
       " '2022-01-15',\n",
       " '2022-01-16',\n",
       " '2022-01-17',\n",
       " '2022-01-18',\n",
       " '2022-01-19',\n",
       " '2022-01-20',\n",
       " '2022-01-21',\n",
       " '2022-01-22',\n",
       " '2022-01-23',\n",
       " '2022-01-24',\n",
       " '2022-01-25',\n",
       " '2022-01-26',\n",
       " '2022-01-27',\n",
       " '2022-01-28',\n",
       " '2022-01-29',\n",
       " '2022-01-30',\n",
       " '2022-01-31']"
      ]
     },
     "execution_count": 8,
     "metadata": {},
     "output_type": "execute_result"
    }
   ],
   "source": [
    "jan2022"
   ]
  },
  {
   "cell_type": "code",
   "execution_count": 9,
   "id": "10a7c8aa",
   "metadata": {},
   "outputs": [],
   "source": [
    "for i in jan2022:\n",
    "    from_date=i\n",
    "    to_date=i\n",
    "    final_url=\"{}search?from-date={}&to-date={}&order-by={}&show-fields={}&page-size={}&api-key={}\".format(base_url,from_date,to_date, order_by,show_fields ,page_size, api_key)\n",
    "    r=requests.get(url=final_url,params={}).json()\n",
    "    results=r['response']['results']\n",
    "    with open(f'{i}.txt',mode='a',encoding='utf-8')as file:\n",
    "        for result in results:\n",
    "            bodytext=result['fields']['bodyText']\n",
    "            file.write(bodytext)"
   ]
  },
  {
   "cell_type": "markdown",
   "id": "151dd8b0",
   "metadata": {},
   "source": [
    "###### December'21"
   ]
  },
  {
   "cell_type": "code",
   "execution_count": 13,
   "id": "bd67e259",
   "metadata": {},
   "outputs": [],
   "source": [
    "dez2021=pd.Series(pd.date_range(start='2021-12-01',end='2021-12-31')).dt.strftime('%Y-%m-%d').to_list()"
   ]
  },
  {
   "cell_type": "code",
   "execution_count": 14,
   "id": "fad00044",
   "metadata": {
    "collapsed": true
   },
   "outputs": [
    {
     "data": {
      "text/plain": [
       "['2021-12-01',\n",
       " '2021-12-02',\n",
       " '2021-12-03',\n",
       " '2021-12-04',\n",
       " '2021-12-05',\n",
       " '2021-12-06',\n",
       " '2021-12-07',\n",
       " '2021-12-08',\n",
       " '2021-12-09',\n",
       " '2021-12-10',\n",
       " '2021-12-11',\n",
       " '2021-12-12',\n",
       " '2021-12-13',\n",
       " '2021-12-14',\n",
       " '2021-12-15',\n",
       " '2021-12-16',\n",
       " '2021-12-17',\n",
       " '2021-12-18',\n",
       " '2021-12-19',\n",
       " '2021-12-20',\n",
       " '2021-12-21',\n",
       " '2021-12-22',\n",
       " '2021-12-23',\n",
       " '2021-12-24',\n",
       " '2021-12-25',\n",
       " '2021-12-26',\n",
       " '2021-12-27',\n",
       " '2021-12-28',\n",
       " '2021-12-29',\n",
       " '2021-12-30',\n",
       " '2021-12-31']"
      ]
     },
     "execution_count": 14,
     "metadata": {},
     "output_type": "execute_result"
    }
   ],
   "source": [
    "dez2021"
   ]
  },
  {
   "cell_type": "code",
   "execution_count": 15,
   "id": "f22611ba",
   "metadata": {},
   "outputs": [],
   "source": [
    "for i in dez2021:\n",
    "    from_date=i\n",
    "    to_date=i\n",
    "    final_url=\"{}search?from-date={}&to-date={}&order-by={}&show-fields={}&page-size={}&api-key={}\".format(base_url,from_date,to_date, order_by,show_fields ,page_size, api_key)\n",
    "    r=requests.get(url=final_url,params={}).json()\n",
    "    results=r['response']['results']\n",
    "    with open(f'{i}.txt',mode='a',encoding='utf-8')as file:\n",
    "        for result in results:\n",
    "            bodytext=result['fields']['bodyText']\n",
    "            file.write(bodytext)"
   ]
  },
  {
   "cell_type": "markdown",
   "id": "d6a35970",
   "metadata": {},
   "source": [
    "###### November'21"
   ]
  },
  {
   "cell_type": "code",
   "execution_count": 16,
   "id": "68b80319",
   "metadata": {},
   "outputs": [],
   "source": [
    "nov2021=pd.Series(pd.date_range(start='2021-11-01',end='2021-11-30')).dt.strftime('%Y-%m-%d').to_list()"
   ]
  },
  {
   "cell_type": "code",
   "execution_count": 17,
   "id": "93b4df1c",
   "metadata": {
    "collapsed": true
   },
   "outputs": [
    {
     "data": {
      "text/plain": [
       "['2021-11-01',\n",
       " '2021-11-02',\n",
       " '2021-11-03',\n",
       " '2021-11-04',\n",
       " '2021-11-05',\n",
       " '2021-11-06',\n",
       " '2021-11-07',\n",
       " '2021-11-08',\n",
       " '2021-11-09',\n",
       " '2021-11-10',\n",
       " '2021-11-11',\n",
       " '2021-11-12',\n",
       " '2021-11-13',\n",
       " '2021-11-14',\n",
       " '2021-11-15',\n",
       " '2021-11-16',\n",
       " '2021-11-17',\n",
       " '2021-11-18',\n",
       " '2021-11-19',\n",
       " '2021-11-20',\n",
       " '2021-11-21',\n",
       " '2021-11-22',\n",
       " '2021-11-23',\n",
       " '2021-11-24',\n",
       " '2021-11-25',\n",
       " '2021-11-26',\n",
       " '2021-11-27',\n",
       " '2021-11-28',\n",
       " '2021-11-29',\n",
       " '2021-11-30']"
      ]
     },
     "execution_count": 17,
     "metadata": {},
     "output_type": "execute_result"
    }
   ],
   "source": [
    "nov2021"
   ]
  },
  {
   "cell_type": "code",
   "execution_count": 18,
   "id": "ab4c8ad1",
   "metadata": {},
   "outputs": [],
   "source": [
    "for i in nov2021:\n",
    "    from_date=i\n",
    "    to_date=i\n",
    "    final_url=\"{}search?from-date={}&to-date={}&order-by={}&show-fields={}&page-size={}&api-key={}\".format(base_url,from_date,to_date, order_by,show_fields ,page_size, api_key)\n",
    "    r=requests.get(url=final_url,params={}).json()\n",
    "    results=r['response']['results']\n",
    "    with open(f'{i}.txt',mode='a',encoding='utf-8')as file:\n",
    "        for result in results:\n",
    "            bodytext=result['fields']['bodyText']\n",
    "            file.write(bodytext)"
   ]
  },
  {
   "cell_type": "markdown",
   "id": "c6714ac9",
   "metadata": {},
   "source": [
    "###### February'22"
   ]
  },
  {
   "cell_type": "code",
   "execution_count": 7,
   "id": "3a818ceb",
   "metadata": {},
   "outputs": [],
   "source": [
    "feb2022=pd.Series(pd.date_range(start='2022-02-01',end='2022-02-25')).dt.strftime('%Y-%m-%d').to_list()"
   ]
  },
  {
   "cell_type": "code",
   "execution_count": 8,
   "id": "41cd263d",
   "metadata": {
    "collapsed": true
   },
   "outputs": [
    {
     "data": {
      "text/plain": [
       "['2022-02-01',\n",
       " '2022-02-02',\n",
       " '2022-02-03',\n",
       " '2022-02-04',\n",
       " '2022-02-05',\n",
       " '2022-02-06',\n",
       " '2022-02-07',\n",
       " '2022-02-08',\n",
       " '2022-02-09',\n",
       " '2022-02-10',\n",
       " '2022-02-11',\n",
       " '2022-02-12',\n",
       " '2022-02-13',\n",
       " '2022-02-14',\n",
       " '2022-02-15',\n",
       " '2022-02-16',\n",
       " '2022-02-17',\n",
       " '2022-02-18',\n",
       " '2022-02-19',\n",
       " '2022-02-20',\n",
       " '2022-02-21',\n",
       " '2022-02-22',\n",
       " '2022-02-23',\n",
       " '2022-02-24',\n",
       " '2022-02-25']"
      ]
     },
     "execution_count": 8,
     "metadata": {},
     "output_type": "execute_result"
    }
   ],
   "source": [
    "feb2022"
   ]
  },
  {
   "cell_type": "code",
   "execution_count": 9,
   "id": "6ff224c4",
   "metadata": {},
   "outputs": [],
   "source": [
    "for i in feb2022:\n",
    "    from_date=i\n",
    "    to_date=i\n",
    "    final_url=\"{}search?from-date={}&to-date={}&order-by={}&show-fields={}&page-size={}&api-key={}\".format(base_url,from_date,to_date, order_by,show_fields ,page_size, api_key)\n",
    "    r=requests.get(url=final_url,params={}).json()\n",
    "    results=r['response']['results']\n",
    "    with open(f'{i}.txt',mode='a',encoding='utf-8')as file:\n",
    "        for result in results:\n",
    "            bodytext=result['fields']['bodyText']\n",
    "            file.write(bodytext)"
   ]
  },
  {
   "cell_type": "code",
   "execution_count": null,
   "id": "b176e234",
   "metadata": {},
   "outputs": [],
   "source": []
  }
 ],
 "metadata": {
  "kernelspec": {
   "display_name": "Python 3 (ipykernel)",
   "language": "python",
   "name": "python3"
  },
  "language_info": {
   "codemirror_mode": {
    "name": "ipython",
    "version": 3
   },
   "file_extension": ".py",
   "mimetype": "text/x-python",
   "name": "python",
   "nbconvert_exporter": "python",
   "pygments_lexer": "ipython3",
   "version": "3.9.7"
  }
 },
 "nbformat": 4,
 "nbformat_minor": 5
}
