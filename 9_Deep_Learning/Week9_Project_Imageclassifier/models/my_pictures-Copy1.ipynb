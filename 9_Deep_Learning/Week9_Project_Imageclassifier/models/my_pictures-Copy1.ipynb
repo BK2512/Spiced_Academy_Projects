{
 "cells": [
  {
   "cell_type": "code",
   "execution_count": 1,
   "id": "52b4a44e",
   "metadata": {},
   "outputs": [],
   "source": [
    "from tensorflow.keras.preprocessing.image import load_img\n",
    "from tensorflow.keras.utils import to_categorical\n",
    "import os\n",
    "import pandas as pd\n",
    "import numpy as np\n",
    "import matplotlib.pyplot as plt\n",
    "import tensorflow.keras as keras\n",
    "from tensorflow.keras import backend as K\n",
    "from tensorflow.keras.utils import to_categorical\n",
    "from tensorflow.keras.layers import Conv2D, MaxPooling2D, Flatten, Dense,Dropout\n",
    "from tensorflow.keras.activations import relu, softmax\n",
    "from tensorflow.keras.models import Sequential\n",
    "from PIL import Image\n",
    "import IPython.display as display\n",
    "from tensorflow.keras.preprocessing import image\n",
    "from tensorflow.keras.applications.vgg16 import preprocess_input\n",
    "from sklearn.model_selection import train_test_split,cross_val_score\n",
    "from sklearn.linear_model import LogisticRegression\n",
    "from sklearn.metrics import accuracy_score\n",
    "from keras.layers import LeakyReLU\n",
    "from tensorflow.keras import layers\n",
    "from keras.layers.normalization.batch_normalization import BatchNormalization"
   ]
  },
  {
   "cell_type": "code",
   "execution_count": 2,
   "id": "fa0a10ac",
   "metadata": {},
   "outputs": [
    {
     "data": {
      "text/plain": [
       "['faces', 'vader']"
      ]
     },
     "execution_count": 2,
     "metadata": {},
     "output_type": "execute_result"
    }
   ],
   "source": [
    "base_path = \"../data/\"\n",
    "os.listdir(base_path)"
   ]
  },
  {
   "cell_type": "code",
   "execution_count": 3,
   "id": "b312be6c",
   "metadata": {},
   "outputs": [],
   "source": [
    "classes = os.listdir(base_path)"
   ]
  },
  {
   "cell_type": "markdown",
   "id": "8502f21d",
   "metadata": {},
   "source": [
    "###### Define the arrays"
   ]
  },
  {
   "cell_type": "code",
   "execution_count": 4,
   "id": "3c3cb4ca",
   "metadata": {},
   "outputs": [],
   "source": [
    "X_list=[]\n",
    "y_list=[]\n",
    "for class_ in classes:\n",
    "    files=os.listdir(base_path+class_)\n",
    "    for file in files:\n",
    "        img=load_img(path=base_path+class_+'/'+f'{file}',target_size=(224,224))\n",
    "        x=np.array(img)\n",
    "        X_list.append(x)\n",
    "        y_list.append(class_)\n",
    "\n",
    "X=np.array(X_list)\n",
    "y=np.array(y_list)"
   ]
  },
  {
   "cell_type": "markdown",
   "id": "91fe8d2b",
   "metadata": {},
   "source": [
    "###### plotting the images"
   ]
  },
  {
   "cell_type": "code",
   "execution_count": 5,
   "id": "c4aeeff5",
   "metadata": {},
   "outputs": [
    {
     "data": {
      "text/plain": [
       "(224, 224, 3)"
      ]
     },
     "execution_count": 5,
     "metadata": {},
     "output_type": "execute_result"
    }
   ],
   "source": [
    "X[0].shape"
   ]
  },
  {
   "cell_type": "code",
   "execution_count": 6,
   "id": "3e471db5",
   "metadata": {
    "scrolled": true
   },
   "outputs": [
    {
     "data": {
      "image/png": "[encoded data removed]",
      "text/plain": [
       "<Figure size 720x720 with 15 Axes>"
      ]
     },
     "metadata": {
      "needs_background": "light"
     },
     "output_type": "display_data"
    }
   ],
   "source": [
    "plt.figure(figsize=(10,10))\n",
    "for i in range(15):\n",
    "    plt.subplot(25, 8,i+1,title=f'class:{y[i]}')\n",
    "    plt.imshow(X=X[i])\n",
    "    plt.axis('off')"
   ]
  },
  {
   "cell_type": "code",
   "execution_count": 7,
   "id": "f829f742",
   "metadata": {},
   "outputs": [
    {
     "data": {
      "text/plain": [
       "0      0\n",
       "1      0\n",
       "2      0\n",
       "3      0\n",
       "4      0\n",
       "      ..\n",
       "195    1\n",
       "196    1\n",
       "197    1\n",
       "198    1\n",
       "199    1\n",
       "Length: 200, dtype: int64"
      ]
     },
     "execution_count": 7,
     "metadata": {},
     "output_type": "execute_result"
    }
   ],
   "source": [
    "y_series = pd.Series(y).map({classes[0]:0, classes[1]:1})\n",
    "y_series"
   ]
  },
  {
   "cell_type": "code",
   "execution_count": 8,
   "id": "d9189e2b",
   "metadata": {},
   "outputs": [],
   "source": [
    "y = to_categorical(y_series)"
   ]
  },
  {
   "cell_type": "code",
   "execution_count": 9,
   "id": "a45e1240",
   "metadata": {
    "scrolled": true
   },
   "outputs": [
    {
     "data": {
      "text/plain": [
       "array([[1., 0.],\n",
       "       [1., 0.],\n",
       "       [1., 0.],\n",
       "       [1., 0.],\n",
       "       [1., 0.],\n",
       "       [1., 0.],\n",
       "       [1., 0.],\n",
       "       [1., 0.],\n",
       "       [1., 0.],\n",
       "       [1., 0.],\n",
       "       [1., 0.],\n",
       "       [1., 0.],\n",
       "       [1., 0.],\n",
       "       [1., 0.],\n",
       "       [1., 0.],\n",
       "       [1., 0.],\n",
       "       [1., 0.],\n",
       "       [1., 0.],\n",
       "       [1., 0.],\n",
       "       [1., 0.],\n",
       "       [1., 0.],\n",
       "       [1., 0.],\n",
       "       [1., 0.],\n",
       "       [1., 0.],\n",
       "       [1., 0.],\n",
       "       [1., 0.],\n",
       "       [1., 0.],\n",
       "       [1., 0.],\n",
       "       [1., 0.],\n",
       "       [1., 0.],\n",
       "       [1., 0.],\n",
       "       [1., 0.],\n",
       "       [1., 0.],\n",
       "       [1., 0.],\n",
       "       [1., 0.],\n",
       "       [1., 0.],\n",
       "       [1., 0.],\n",
       "       [1., 0.],\n",
       "       [1., 0.],\n",
       "       [1., 0.],\n",
       "       [1., 0.],\n",
       "       [1., 0.],\n",
       "       [1., 0.],\n",
       "       [1., 0.],\n",
       "       [1., 0.],\n",
       "       [1., 0.],\n",
       "       [1., 0.],\n",
       "       [1., 0.],\n",
       "       [1., 0.],\n",
       "       [1., 0.],\n",
       "       [1., 0.],\n",
       "       [1., 0.],\n",
       "       [1., 0.],\n",
       "       [1., 0.],\n",
       "       [1., 0.],\n",
       "       [1., 0.],\n",
       "       [1., 0.],\n",
       "       [1., 0.],\n",
       "       [1., 0.],\n",
       "       [1., 0.],\n",
       "       [1., 0.],\n",
       "       [1., 0.],\n",
       "       [1., 0.],\n",
       "       [1., 0.],\n",
       "       [1., 0.],\n",
       "       [1., 0.],\n",
       "       [1., 0.],\n",
       "       [1., 0.],\n",
       "       [1., 0.],\n",
       "       [1., 0.],\n",
       "       [1., 0.],\n",
       "       [1., 0.],\n",
       "       [1., 0.],\n",
       "       [1., 0.],\n",
       "       [1., 0.],\n",
       "       [1., 0.],\n",
       "       [1., 0.],\n",
       "       [1., 0.],\n",
       "       [1., 0.],\n",
       "       [1., 0.],\n",
       "       [1., 0.],\n",
       "       [1., 0.],\n",
       "       [1., 0.],\n",
       "       [1., 0.],\n",
       "       [1., 0.],\n",
       "       [1., 0.],\n",
       "       [1., 0.],\n",
       "       [1., 0.],\n",
       "       [1., 0.],\n",
       "       [1., 0.],\n",
       "       [1., 0.],\n",
       "       [1., 0.],\n",
       "       [1., 0.],\n",
       "       [1., 0.],\n",
       "       [1., 0.],\n",
       "       [1., 0.],\n",
       "       [1., 0.],\n",
       "       [1., 0.],\n",
       "       [1., 0.],\n",
       "       [1., 0.],\n",
       "       [1., 0.],\n",
       "       [1., 0.],\n",
       "       [1., 0.],\n",
       "       [1., 0.],\n",
       "       [1., 0.],\n",
       "       [1., 0.],\n",
       "       [1., 0.],\n",
       "       [1., 0.],\n",
       "       [1., 0.],\n",
       "       [1., 0.],\n",
       "       [1., 0.],\n",
       "       [1., 0.],\n",
       "       [1., 0.],\n",
       "       [1., 0.],\n",
       "       [1., 0.],\n",
       "       [1., 0.],\n",
       "       [1., 0.],\n",
       "       [1., 0.],\n",
       "       [1., 0.],\n",
       "       [1., 0.],\n",
       "       [1., 0.],\n",
       "       [1., 0.],\n",
       "       [1., 0.],\n",
       "       [1., 0.],\n",
       "       [1., 0.],\n",
       "       [0., 1.],\n",
       "       [0., 1.],\n",
       "       [0., 1.],\n",
       "       [0., 1.],\n",
       "       [0., 1.],\n",
       "       [0., 1.],\n",
       "       [0., 1.],\n",
       "       [0., 1.],\n",
       "       [0., 1.],\n",
       "       [0., 1.],\n",
       "       [0., 1.],\n",
       "       [0., 1.],\n",
       "       [0., 1.],\n",
       "       [0., 1.],\n",
       "       [0., 1.],\n",
       "       [0., 1.],\n",
       "       [0., 1.],\n",
       "       [0., 1.],\n",
       "       [0., 1.],\n",
       "       [0., 1.],\n",
       "       [0., 1.],\n",
       "       [0., 1.],\n",
       "       [0., 1.],\n",
       "       [0., 1.],\n",
       "       [0., 1.],\n",
       "       [0., 1.],\n",
       "       [0., 1.],\n",
       "       [0., 1.],\n",
       "       [0., 1.],\n",
       "       [0., 1.],\n",
       "       [0., 1.],\n",
       "       [0., 1.],\n",
       "       [0., 1.],\n",
       "       [0., 1.],\n",
       "       [0., 1.],\n",
       "       [0., 1.],\n",
       "       [0., 1.],\n",
       "       [0., 1.],\n",
       "       [0., 1.],\n",
       "       [0., 1.],\n",
       "       [0., 1.],\n",
       "       [0., 1.],\n",
       "       [0., 1.],\n",
       "       [0., 1.],\n",
       "       [0., 1.],\n",
       "       [0., 1.],\n",
       "       [0., 1.],\n",
       "       [0., 1.],\n",
       "       [0., 1.],\n",
       "       [0., 1.],\n",
       "       [0., 1.],\n",
       "       [0., 1.],\n",
       "       [0., 1.],\n",
       "       [0., 1.],\n",
       "       [0., 1.],\n",
       "       [0., 1.],\n",
       "       [0., 1.],\n",
       "       [0., 1.],\n",
       "       [0., 1.],\n",
       "       [0., 1.],\n",
       "       [0., 1.],\n",
       "       [0., 1.],\n",
       "       [0., 1.],\n",
       "       [0., 1.],\n",
       "       [0., 1.],\n",
       "       [0., 1.],\n",
       "       [0., 1.],\n",
       "       [0., 1.],\n",
       "       [0., 1.],\n",
       "       [0., 1.],\n",
       "       [0., 1.],\n",
       "       [0., 1.],\n",
       "       [0., 1.],\n",
       "       [0., 1.],\n",
       "       [0., 1.]], dtype=float32)"
      ]
     },
     "execution_count": 9,
     "metadata": {},
     "output_type": "execute_result"
    }
   ],
   "source": [
    "y"
   ]
  },
  {
   "cell_type": "code",
   "execution_count": 10,
   "id": "026a43a1",
   "metadata": {},
   "outputs": [
    {
     "data": {
      "text/plain": [
       "array([[[[ 80,  81,  83],\n",
       "         [ 79,  82,  82],\n",
       "         [ 80,  82,  81],\n",
       "         ...,\n",
       "         [ 89,  90, 101],\n",
       "         [ 91,  90, 102],\n",
       "         [ 91,  91, 101]],\n",
       "\n",
       "        [[ 79,  80,  82],\n",
       "         [ 79,  82,  82],\n",
       "         [ 80,  82,  81],\n",
       "         ...,\n",
       "         [ 89,  92, 101],\n",
       "         [ 92,  92, 102],\n",
       "         [ 91,  92, 101]],\n",
       "\n",
       "        [[ 79,  80,  82],\n",
       "         [ 80,  81,  82],\n",
       "         [ 81,  82,  83],\n",
       "         ...,\n",
       "         [ 89,  92, 101],\n",
       "         [ 90,  93, 102],\n",
       "         [ 90,  93, 101]],\n",
       "\n",
       "        ...,\n",
       "\n",
       "        [[163,  41,  62],\n",
       "         [171,  49,  70],\n",
       "         [176,  53,  74],\n",
       "         ...,\n",
       "         [131,  37,  52],\n",
       "         [130,  36,  50],\n",
       "         [129,  36,  50]],\n",
       "\n",
       "        [[162,  40,  61],\n",
       "         [169,  48,  68],\n",
       "         [174,  52,  73],\n",
       "         ...,\n",
       "         [133,  37,  52],\n",
       "         [131,  36,  51],\n",
       "         [129,  34,  48]],\n",
       "\n",
       "        [[165,  43,  65],\n",
       "         [170,  48,  69],\n",
       "         [175,  52,  73],\n",
       "         ...,\n",
       "         [133,  35,  50],\n",
       "         [131,  33,  48],\n",
       "         [130,  32,  46]]],\n",
       "\n",
       "\n",
       "       [[[ 93,  94,  96],\n",
       "         [ 93,  95,  97],\n",
       "         [ 93,  94,  96],\n",
       "         ...,\n",
       "         [105, 111, 117],\n",
       "         [106, 112, 118],\n",
       "         [108, 113, 119]],\n",
       "\n",
       "        [[103, 104, 106],\n",
       "         [102, 105, 106],\n",
       "         [101, 102, 104],\n",
       "         ...,\n",
       "         [108, 113, 119],\n",
       "         [109, 114, 120],\n",
       "         [109, 114, 120]],\n",
       "\n",
       "        [[101, 102, 104],\n",
       "         [100, 103, 104],\n",
       "         [100, 101, 103],\n",
       "         ...,\n",
       "         [107, 111, 118],\n",
       "         [107, 112, 118],\n",
       "         [108, 113, 119]],\n",
       "\n",
       "        ...,\n",
       "\n",
       "        [[181,  52,  72],\n",
       "         [188,  59,  79],\n",
       "         [188,  59,  80],\n",
       "         ...,\n",
       "         [156,  48,  65],\n",
       "         [156,  46,  64],\n",
       "         [153,  45,  60]],\n",
       "\n",
       "        [[182,  53,  74],\n",
       "         [187,  58,  78],\n",
       "         [189,  60,  82],\n",
       "         ...,\n",
       "         [160,  51,  64],\n",
       "         [157,  47,  60],\n",
       "         [157,  48,  60]],\n",
       "\n",
       "        [[188,  59,  82],\n",
       "         [191,  62,  85],\n",
       "         [198,  69,  93],\n",
       "         ...,\n",
       "         [159,  47,  59],\n",
       "         [152,  41,  51],\n",
       "         [154,  44,  54]]],\n",
       "\n",
       "\n",
       "       [[[ 96,  96,  98],\n",
       "         [ 96,  97,  99],\n",
       "         [ 96,  97,  99],\n",
       "         ...,\n",
       "         [104, 111, 117],\n",
       "         [105, 112, 118],\n",
       "         [105, 113, 118]],\n",
       "\n",
       "        [[100,  98, 101],\n",
       "         [100,  99, 102],\n",
       "         [101, 101, 103],\n",
       "         ...,\n",
       "         [106, 112, 118],\n",
       "         [106, 112, 118],\n",
       "         [107, 114, 119]],\n",
       "\n",
       "        [[100,  98, 101],\n",
       "         [101, 100, 103],\n",
       "         [103, 103, 105],\n",
       "         ...,\n",
       "         [106, 112, 118],\n",
       "         [106, 112, 118],\n",
       "         [106, 112, 118]],\n",
       "\n",
       "        ...,\n",
       "\n",
       "        [[197,  63,  87],\n",
       "         [196,  61,  84],\n",
       "         [199,  65,  89],\n",
       "         ...,\n",
       "         [152,  46,  60],\n",
       "         [150,  45,  58],\n",
       "         [147,  43,  54]],\n",
       "\n",
       "        [[195,  63,  85],\n",
       "         [195,  62,  84],\n",
       "         [198,  65,  88],\n",
       "         ...,\n",
       "         [154,  46,  60],\n",
       "         [153,  46,  58],\n",
       "         [148,  42,  53]],\n",
       "\n",
       "        [[192,  61,  84],\n",
       "         [192,  61,  85],\n",
       "         [195,  63,  88],\n",
       "         ...,\n",
       "         [152,  43,  57],\n",
       "         [151,  42,  55],\n",
       "         [146,  38,  51]]],\n",
       "\n",
       "\n",
       "       ...,\n",
       "\n",
       "\n",
       "       [[[146, 148, 137],\n",
       "         [145, 147, 137],\n",
       "         [145, 148, 138],\n",
       "         ...,\n",
       "         [145, 153, 146],\n",
       "         [146, 154, 147],\n",
       "         [148, 155, 148]],\n",
       "\n",
       "        [[146, 148, 137],\n",
       "         [145, 147, 136],\n",
       "         [144, 147, 136],\n",
       "         ...,\n",
       "         [147, 154, 148],\n",
       "         [147, 154, 148],\n",
       "         [148, 155, 149]],\n",
       "\n",
       "        [[147, 149, 138],\n",
       "         [146, 148, 137],\n",
       "         [145, 148, 137],\n",
       "         ...,\n",
       "         [147, 154, 148],\n",
       "         [148, 155, 149],\n",
       "         [149, 154, 149]],\n",
       "\n",
       "        ...,\n",
       "\n",
       "        [[170,  35,  50],\n",
       "         [171,  36,  52],\n",
       "         [175,  40,  54],\n",
       "         ...,\n",
       "         [ 67,  81,  81],\n",
       "         [ 67,  81,  81],\n",
       "         [ 66,  80,  80]],\n",
       "\n",
       "        [[170,  33,  50],\n",
       "         [168,  31,  48],\n",
       "         [172,  37,  52],\n",
       "         ...,\n",
       "         [ 49,  60,  61],\n",
       "         [ 54,  65,  66],\n",
       "         [ 55,  67,  67]],\n",
       "\n",
       "        [[173,  36,  52],\n",
       "         [169,  33,  48],\n",
       "         [172,  37,  51],\n",
       "         ...,\n",
       "         [ 44,  52,  53],\n",
       "         [ 46,  55,  55],\n",
       "         [ 47,  55,  56]]],\n",
       "\n",
       "\n",
       "       [[[139, 147, 138],\n",
       "         [140, 150, 140],\n",
       "         [142, 152, 142],\n",
       "         ...,\n",
       "         [140, 148, 144],\n",
       "         [144, 152, 149],\n",
       "         [149, 158, 155]],\n",
       "\n",
       "        [[140, 148, 140],\n",
       "         [140, 150, 141],\n",
       "         [141, 151, 142],\n",
       "         ...,\n",
       "         [144, 152, 147],\n",
       "         [146, 154, 151],\n",
       "         [150, 159, 156]],\n",
       "\n",
       "        [[141, 148, 140],\n",
       "         [141, 150, 141],\n",
       "         [141, 149, 141],\n",
       "         ...,\n",
       "         [147, 155, 149],\n",
       "         [149, 157, 153],\n",
       "         [150, 159, 155]],\n",
       "\n",
       "        ...,\n",
       "\n",
       "        [[130, 140, 138],\n",
       "         [132, 142, 141],\n",
       "         [134, 144, 143],\n",
       "         ...,\n",
       "         [ 76,  82,  80],\n",
       "         [ 79,  85,  83],\n",
       "         [ 82,  88,  86]],\n",
       "\n",
       "        [[105, 114, 111],\n",
       "         [107, 117, 114],\n",
       "         [112, 122, 119],\n",
       "         ...,\n",
       "         [ 58,  65,  64],\n",
       "         [ 58,  66,  64],\n",
       "         [ 58,  66,  65]],\n",
       "\n",
       "        [[ 84,  90,  88],\n",
       "         [ 85,  93,  90],\n",
       "         [ 87,  94,  91],\n",
       "         ...,\n",
       "         [ 52,  60,  60],\n",
       "         [ 52,  59,  59],\n",
       "         [ 50,  59,  59]]],\n",
       "\n",
       "\n",
       "       [[[130, 137, 127],\n",
       "         [130, 138, 127],\n",
       "         [130, 138, 127],\n",
       "         ...,\n",
       "         [136, 140, 132],\n",
       "         [138, 141, 133],\n",
       "         [138, 142, 134]],\n",
       "\n",
       "        [[129, 136, 126],\n",
       "         [130, 138, 127],\n",
       "         [130, 138, 127],\n",
       "         ...,\n",
       "         [137, 141, 134],\n",
       "         [139, 142, 135],\n",
       "         [138, 142, 135]],\n",
       "\n",
       "        [[129, 136, 126],\n",
       "         [129, 137, 126],\n",
       "         [129, 137, 126],\n",
       "         ...,\n",
       "         [138, 144, 136],\n",
       "         [138, 143, 136],\n",
       "         [137, 144, 136]],\n",
       "\n",
       "        ...,\n",
       "\n",
       "        [[128, 136, 132],\n",
       "         [128, 136, 131],\n",
       "         [128, 137, 133],\n",
       "         ...,\n",
       "         [ 59,  64,  69],\n",
       "         [ 61,  67,  72],\n",
       "         [ 61,  71,  73]],\n",
       "\n",
       "        [[ 98, 103, 101],\n",
       "         [100, 105, 103],\n",
       "         [104, 109, 107],\n",
       "         ...,\n",
       "         [ 45,  50,  54],\n",
       "         [ 43,  50,  53],\n",
       "         [ 41,  51,  52]],\n",
       "\n",
       "        [[ 76,  76,  77],\n",
       "         [ 78,  77,  77],\n",
       "         [ 80,  79,  79],\n",
       "         ...,\n",
       "         [ 40,  46,  47],\n",
       "         [ 39,  46,  47],\n",
       "         [ 40,  49,  49]]]], dtype=uint8)"
      ]
     },
     "execution_count": 10,
     "metadata": {},
     "output_type": "execute_result"
    }
   ],
   "source": [
    "X"
   ]
  },
  {
   "cell_type": "code",
   "execution_count": 12,
   "id": "dc7a2940",
   "metadata": {},
   "outputs": [
    {
     "data": {
      "text/plain": [
       "224"
      ]
     },
     "execution_count": 12,
     "metadata": {},
     "output_type": "execute_result"
    }
   ],
   "source": [
    "len(x)"
   ]
  },
  {
   "cell_type": "code",
   "execution_count": 13,
   "id": "ec11e412",
   "metadata": {},
   "outputs": [
    {
     "data": {
      "text/plain": [
       "(200, 224, 224, 3)"
      ]
     },
     "execution_count": 13,
     "metadata": {},
     "output_type": "execute_result"
    }
   ],
   "source": [
    "X.shape"
   ]
  },
  {
   "cell_type": "code",
   "execution_count": 14,
   "id": "a24ccb44",
   "metadata": {},
   "outputs": [
    {
     "data": {
      "text/plain": [
       "(200, 2)"
      ]
     },
     "execution_count": 14,
     "metadata": {},
     "output_type": "execute_result"
    }
   ],
   "source": [
    "y.shape"
   ]
  },
  {
   "cell_type": "markdown",
   "id": "a5475e87",
   "metadata": {},
   "source": [
    "###### LeNet5"
   ]
  },
  {
   "cell_type": "code",
   "execution_count": 28,
   "id": "5bbc98ba",
   "metadata": {},
   "outputs": [],
   "source": [
    "K.clear_session()\n",
    "model=Sequential([\n",
    "    Conv2D(filters= 6, kernel_size=(5,5), strides=(1,1), input_shape=X[0].shape,\n",
    "           activation=keras.activations.relu,\n",
    "           padding='valid'), \n",
    "    \n",
    "    \n",
    "    MaxPooling2D(pool_size=(2,2), strides=(2,2), padding= 'valid'),\n",
    "    \n",
    "    \n",
    "    Conv2D(filters = 16, kernel_size=(5,5),strides=(1,1),\n",
    "           activation=keras.activations.relu, \n",
    "           padding = 'valid'), \n",
    "    \n",
    "    \n",
    "    MaxPooling2D(pool_size=(2,2), strides=(2,2), padding= 'valid'), \n",
    "    \n",
    "    \n",
    "    \n",
    "    Flatten(),\n",
    "    \n",
    "    Dropout(0.2),\n",
    "    Dense(units=120, activation=keras.activations.relu),\n",
    "    BatchNormalization(),\n",
    "      \n",
    "    Dropout(0.2),\n",
    "    Dense(units=84, activation=keras.activations.relu),\n",
    "    BatchNormalization(),\n",
    "    \n",
    "    Dropout(0.2),\n",
    "    Dense(units=2, activation=keras.activations.softmax)\n",
    "    \n",
    "])"
   ]
  },
  {
   "cell_type": "code",
   "execution_count": 29,
   "id": "a2dfd7ee",
   "metadata": {},
   "outputs": [],
   "source": [
    "model.compile(optimizer=keras.optimizers.Adam(learning_rate=0.05),\n",
    "              loss=keras.losses.Huber(delta=1.0, reduction=\"auto\", name=\"huber_loss\"),\n",
    "              #loss=keras.losses.categorical_crossentropy,\n",
    "              metrics=keras.metrics.Accuracy())"
   ]
  },
  {
   "cell_type": "code",
   "execution_count": 30,
   "id": "398b2669",
   "metadata": {},
   "outputs": [
    {
     "name": "stdout",
     "output_type": "stream",
     "text": [
      "Model: \"sequential\"\n",
      "_________________________________________________________________\n",
      " Layer (type)                Output Shape              Param #   \n",
      "=================================================================\n",
      " conv2d (Conv2D)             (None, 220, 220, 6)       456       \n",
      "                                                                 \n",
      " max_pooling2d (MaxPooling2D  (None, 110, 110, 6)      0         \n",
      " )                                                               \n",
      "                                                                 \n",
      " conv2d_1 (Conv2D)           (None, 106, 106, 16)      2416      \n",
      "                                                                 \n",
      " max_pooling2d_1 (MaxPooling  (None, 53, 53, 16)       0         \n",
      " 2D)                                                             \n",
      "                                                                 \n",
      " flatten (Flatten)           (None, 44944)             0         \n",
      "                                                                 \n",
      " dropout (Dropout)           (None, 44944)             0         \n",
      "                                                                 \n",
      " dense (Dense)               (None, 120)               5393400   \n",
      "                                                                 \n",
      " batch_normalization (BatchN  (None, 120)              480       \n",
      " ormalization)                                                   \n",
      "                                                                 \n",
      " dropout_1 (Dropout)         (None, 120)               0         \n",
      "                                                                 \n",
      " dense_1 (Dense)             (None, 84)                10164     \n",
      "                                                                 \n",
      " batch_normalization_1 (Batc  (None, 84)               336       \n",
      " hNormalization)                                                 \n",
      "                                                                 \n",
      " dropout_2 (Dropout)         (None, 84)                0         \n",
      "                                                                 \n",
      " dense_2 (Dense)             (None, 2)                 170       \n",
      "                                                                 \n",
      "=================================================================\n",
      "Total params: 5,407,422\n",
      "Trainable params: 5,407,014\n",
      "Non-trainable params: 408\n",
      "_________________________________________________________________\n"
     ]
    }
   ],
   "source": [
    "model.summary()"
   ]
  },
  {
   "cell_type": "code",
   "execution_count": 31,
   "id": "b94c9e66",
   "metadata": {},
   "outputs": [],
   "source": [
    "cb = keras.callbacks.EarlyStopping(\n",
    "    monitor=\"val_loss\",\n",
    "    min_delta=0.0005,\n",
    "    patience=5,\n",
    "    verbose=1,\n",
    "    mode=\"min\",\n",
    "    baseline=None,\n",
    "    restore_best_weights=False,)"
   ]
  },
  {
   "cell_type": "code",
   "execution_count": 32,
   "id": "10855e43",
   "metadata": {
    "scrolled": false
   },
   "outputs": [
    {
     "name": "stdout",
     "output_type": "stream",
     "text": [
      "Epoch 1/20\n",
      "16/16 [==============================] - 4s 198ms/step - loss: 0.0569 - accuracy: 0.0906 - val_loss: 0.0000e+00 - val_accuracy: 1.0000\n",
      "Epoch 2/20\n",
      "16/16 [==============================] - 3s 203ms/step - loss: 5.7407e-04 - accuracy: 0.3688 - val_loss: 0.0125 - val_accuracy: 0.9750\n",
      "Epoch 3/20\n",
      "16/16 [==============================] - 4s 250ms/step - loss: 2.1198e-07 - accuracy: 0.3906 - val_loss: 0.0125 - val_accuracy: 0.8750\n",
      "Epoch 4/20\n",
      "16/16 [==============================] - 4s 241ms/step - loss: 0.0336 - accuracy: 0.3438 - val_loss: 0.0000e+00 - val_accuracy: 0.9875\n",
      "Epoch 5/20\n",
      "16/16 [==============================] - 4s 243ms/step - loss: 0.0338 - accuracy: 0.4031 - val_loss: 0.0000e+00 - val_accuracy: 1.0000\n",
      "Epoch 6/20\n",
      "16/16 [==============================] - 4s 226ms/step - loss: 0.0061 - accuracy: 0.4563 - val_loss: 0.0000e+00 - val_accuracy: 1.0000\n",
      "Epoch 00006: early stopping\n"
     ]
    }
   ],
   "source": [
    "modelfix=model.fit(X,y,\n",
    "          epochs=20,\n",
    "          batch_size=10,\n",
    "          validation_split=0.2,\n",
    "          callbacks=[cb])"
   ]
  },
  {
   "cell_type": "code",
   "execution_count": 33,
   "id": "58453857",
   "metadata": {},
   "outputs": [
    {
     "data": {
      "text/plain": [
       "<AxesSubplot:>"
      ]
     },
     "execution_count": 33,
     "metadata": {},
     "output_type": "execute_result"
    },
    {
     "data": {
      "image/png": "[encoded data removed]",
      "text/plain": [
       "<Figure size 432x288 with 1 Axes>"
      ]
     },
     "metadata": {
      "needs_background": "light"
     },
     "output_type": "display_data"
    }
   ],
   "source": [
    "pd.DataFrame(modelfix.history).plot()"
   ]
  },
  {
   "cell_type": "code",
   "execution_count": 36,
   "id": "7a971f43",
   "metadata": {},
   "outputs": [],
   "source": [
    "model.save(\"modelfix.h5\")"
   ]
  },
  {
   "cell_type": "markdown",
   "id": "1fab3c87",
   "metadata": {},
   "source": [
    "### TransferLearn with pretrained Models"
   ]
  },
  {
   "cell_type": "code",
   "execution_count": 39,
   "id": "4b4096cd",
   "metadata": {},
   "outputs": [],
   "source": [
    "plt.rcParams['figure.figsize'] = (10, 10)"
   ]
  },
  {
   "cell_type": "markdown",
   "id": "35a3ec46",
   "metadata": {},
   "source": [
    "###### Instantiate a model"
   ]
  },
  {
   "cell_type": "code",
   "execution_count": 40,
   "id": "c0309ec6",
   "metadata": {},
   "outputs": [],
   "source": [
    "vgg_model=keras.applications.vgg16.VGG16(weights='imagenet')"
   ]
  },
  {
   "cell_type": "code",
   "execution_count": 41,
   "id": "cf0b0904",
   "metadata": {
    "scrolled": true
   },
   "outputs": [
    {
     "name": "stdout",
     "output_type": "stream",
     "text": [
      "Model: \"vgg16\"\n",
      "_________________________________________________________________\n",
      " Layer (type)                Output Shape              Param #   \n",
      "=================================================================\n",
      " input_1 (InputLayer)        [(None, 224, 224, 3)]     0         \n",
      "                                                                 \n",
      " block1_conv1 (Conv2D)       (None, 224, 224, 64)      1792      \n",
      "                                                                 \n",
      " block1_conv2 (Conv2D)       (None, 224, 224, 64)      36928     \n",
      "                                                                 \n",
      " block1_pool (MaxPooling2D)  (None, 112, 112, 64)      0         \n",
      "                                                                 \n",
      " block2_conv1 (Conv2D)       (None, 112, 112, 128)     73856     \n",
      "                                                                 \n",
      " block2_conv2 (Conv2D)       (None, 112, 112, 128)     147584    \n",
      "                                                                 \n",
      " block2_pool (MaxPooling2D)  (None, 56, 56, 128)       0         \n",
      "                                                                 \n",
      " block3_conv1 (Conv2D)       (None, 56, 56, 256)       295168    \n",
      "                                                                 \n",
      " block3_conv2 (Conv2D)       (None, 56, 56, 256)       590080    \n",
      "                                                                 \n",
      " block3_conv3 (Conv2D)       (None, 56, 56, 256)       590080    \n",
      "                                                                 \n",
      " block3_pool (MaxPooling2D)  (None, 28, 28, 256)       0         \n",
      "                                                                 \n",
      " block4_conv1 (Conv2D)       (None, 28, 28, 512)       1180160   \n",
      "                                                                 \n",
      " block4_conv2 (Conv2D)       (None, 28, 28, 512)       2359808   \n",
      "                                                                 \n",
      " block4_conv3 (Conv2D)       (None, 28, 28, 512)       2359808   \n",
      "                                                                 \n",
      " block4_pool (MaxPooling2D)  (None, 14, 14, 512)       0         \n",
      "                                                                 \n",
      " block5_conv1 (Conv2D)       (None, 14, 14, 512)       2359808   \n",
      "                                                                 \n",
      " block5_conv2 (Conv2D)       (None, 14, 14, 512)       2359808   \n",
      "                                                                 \n",
      " block5_conv3 (Conv2D)       (None, 14, 14, 512)       2359808   \n",
      "                                                                 \n",
      " block5_pool (MaxPooling2D)  (None, 7, 7, 512)         0         \n",
      "                                                                 \n",
      " flatten (Flatten)           (None, 25088)             0         \n",
      "                                                                 \n",
      " fc1 (Dense)                 (None, 4096)              102764544 \n",
      "                                                                 \n",
      " fc2 (Dense)                 (None, 4096)              16781312  \n",
      "                                                                 \n",
      " predictions (Dense)         (None, 1000)              4097000   \n",
      "                                                                 \n",
      "=================================================================\n",
      "Total params: 138,357,544\n",
      "Trainable params: 138,357,544\n",
      "Non-trainable params: 0\n",
      "_________________________________________________________________\n"
     ]
    }
   ],
   "source": [
    "vgg_model.summary()"
   ]
  },
  {
   "cell_type": "code",
   "execution_count": 42,
   "id": "7f0496c5",
   "metadata": {},
   "outputs": [
    {
     "data": {
      "text/plain": [
       "[<keras.engine.input_layer.InputLayer at 0x2490d636d30>,\n",
       " <keras.layers.convolutional.Conv2D at 0x2490d636dc0>,\n",
       " <keras.layers.convolutional.Conv2D at 0x24905aa8dc0>,\n",
       " <keras.layers.pooling.MaxPooling2D at 0x2490d63c130>,\n",
       " <keras.layers.convolutional.Conv2D at 0x2490d639550>,\n",
       " <keras.layers.convolutional.Conv2D at 0x2490d646280>,\n",
       " <keras.layers.pooling.MaxPooling2D at 0x2490d6413d0>,\n",
       " <keras.layers.convolutional.Conv2D at 0x2490d6418e0>,\n",
       " <keras.layers.convolutional.Conv2D at 0x2490d64aa30>,\n",
       " <keras.layers.convolutional.Conv2D at 0x2490d650700>,\n",
       " <keras.layers.pooling.MaxPooling2D at 0x2490d64a280>,\n",
       " <keras.layers.convolutional.Conv2D at 0x2490d64a970>,\n",
       " <keras.layers.convolutional.Conv2D at 0x2490d6600a0>,\n",
       " <keras.layers.convolutional.Conv2D at 0x2490d660850>,\n",
       " <keras.layers.pooling.MaxPooling2D at 0x2490d665760>,\n",
       " <keras.layers.convolutional.Conv2D at 0x2490d665610>,\n",
       " <keras.layers.convolutional.Conv2D at 0x2490d669940>,\n",
       " <keras.layers.convolutional.Conv2D at 0x2490d665be0>,\n",
       " <keras.layers.pooling.MaxPooling2D at 0x2490d6665e0>,\n",
       " <keras.layers.core.flatten.Flatten at 0x2490d678340>,\n",
       " <keras.layers.core.dense.Dense at 0x2490d678100>,\n",
       " <keras.layers.core.dense.Dense at 0x2490d64c2b0>,\n",
       " <keras.layers.core.dense.Dense at 0x2490d67fca0>]"
      ]
     },
     "execution_count": 42,
     "metadata": {},
     "output_type": "execute_result"
    }
   ],
   "source": [
    "vgg_model.layers"
   ]
  },
  {
   "cell_type": "markdown",
   "id": "5bd852a0",
   "metadata": {},
   "source": [
    "###### create base model"
   ]
  },
  {
   "cell_type": "code",
   "execution_count": 43,
   "id": "d31cd46b",
   "metadata": {},
   "outputs": [],
   "source": [
    "base_model=keras.applications.vgg16.VGG16(weights='imagenet',include_top=False)"
   ]
  },
  {
   "cell_type": "code",
   "execution_count": 44,
   "id": "891afce1",
   "metadata": {},
   "outputs": [
    {
     "name": "stdout",
     "output_type": "stream",
     "text": [
      "Model: \"vgg16\"\n",
      "_________________________________________________________________\n",
      " Layer (type)                Output Shape              Param #   \n",
      "=================================================================\n",
      " input_2 (InputLayer)        [(None, None, None, 3)]   0         \n",
      "                                                                 \n",
      " block1_conv1 (Conv2D)       (None, None, None, 64)    1792      \n",
      "                                                                 \n",
      " block1_conv2 (Conv2D)       (None, None, None, 64)    36928     \n",
      "                                                                 \n",
      " block1_pool (MaxPooling2D)  (None, None, None, 64)    0         \n",
      "                                                                 \n",
      " block2_conv1 (Conv2D)       (None, None, None, 128)   73856     \n",
      "                                                                 \n",
      " block2_conv2 (Conv2D)       (None, None, None, 128)   147584    \n",
      "                                                                 \n",
      " block2_pool (MaxPooling2D)  (None, None, None, 128)   0         \n",
      "                                                                 \n",
      " block3_conv1 (Conv2D)       (None, None, None, 256)   295168    \n",
      "                                                                 \n",
      " block3_conv2 (Conv2D)       (None, None, None, 256)   590080    \n",
      "                                                                 \n",
      " block3_conv3 (Conv2D)       (None, None, None, 256)   590080    \n",
      "                                                                 \n",
      " block3_pool (MaxPooling2D)  (None, None, None, 256)   0         \n",
      "                                                                 \n",
      " block4_conv1 (Conv2D)       (None, None, None, 512)   1180160   \n",
      "                                                                 \n",
      " block4_conv2 (Conv2D)       (None, None, None, 512)   2359808   \n",
      "                                                                 \n",
      " block4_conv3 (Conv2D)       (None, None, None, 512)   2359808   \n",
      "                                                                 \n",
      " block4_pool (MaxPooling2D)  (None, None, None, 512)   0         \n",
      "                                                                 \n",
      " block5_conv1 (Conv2D)       (None, None, None, 512)   2359808   \n",
      "                                                                 \n",
      " block5_conv2 (Conv2D)       (None, None, None, 512)   2359808   \n",
      "                                                                 \n",
      " block5_conv3 (Conv2D)       (None, None, None, 512)   2359808   \n",
      "                                                                 \n",
      " block5_pool (MaxPooling2D)  (None, None, None, 512)   0         \n",
      "                                                                 \n",
      "=================================================================\n",
      "Total params: 14,714,688\n",
      "Trainable params: 14,714,688\n",
      "Non-trainable params: 0\n",
      "_________________________________________________________________\n"
     ]
    }
   ],
   "source": [
    "base_model.summary()"
   ]
  },
  {
   "cell_type": "markdown",
   "id": "70a44d5d",
   "metadata": {},
   "source": [
    "###### Freeze some layers"
   ]
  },
  {
   "cell_type": "code",
   "execution_count": 45,
   "id": "671c5084",
   "metadata": {},
   "outputs": [],
   "source": [
    "for layers in base_model.layers[:]: \n",
    "    layers.trainable = False"
   ]
  },
  {
   "cell_type": "markdown",
   "id": "d53c97f8",
   "metadata": {},
   "source": [
    "###### unfreeze some again"
   ]
  },
  {
   "cell_type": "code",
   "execution_count": 46,
   "id": "4d15797c",
   "metadata": {},
   "outputs": [],
   "source": [
    "unfreeze_layers = 6\n",
    "for layers in base_model.layers[-unfreeze_layers:]:\n",
    "    layers.trainable = True"
   ]
  },
  {
   "cell_type": "markdown",
   "id": "07b0bf9f",
   "metadata": {},
   "source": [
    "###### train a logistic regression -> calculate feature vector"
   ]
  },
  {
   "cell_type": "code",
   "execution_count": 47,
   "id": "ada8ac5a",
   "metadata": {},
   "outputs": [
    {
     "data": {
      "text/plain": [
       "['faces', 'vader']"
      ]
     },
     "execution_count": 47,
     "metadata": {},
     "output_type": "execute_result"
    }
   ],
   "source": [
    "classes"
   ]
  },
  {
   "cell_type": "code",
   "execution_count": 48,
   "id": "0a74fc18",
   "metadata": {},
   "outputs": [
    {
     "data": {
      "text/plain": [
       "(200, 7, 7, 512)"
      ]
     },
     "execution_count": 48,
     "metadata": {},
     "output_type": "execute_result"
    }
   ],
   "source": [
    "out_features_vector = base_model.predict(X)\n",
    "out_features_vector.shape"
   ]
  },
  {
   "cell_type": "markdown",
   "id": "991c4a22",
   "metadata": {},
   "source": [
    "###### flattern the feature vector"
   ]
  },
  {
   "cell_type": "code",
   "execution_count": 49,
   "id": "33011cfd",
   "metadata": {},
   "outputs": [
    {
     "data": {
      "text/plain": [
       "(200, 25088)"
      ]
     },
     "execution_count": 49,
     "metadata": {},
     "output_type": "execute_result"
    }
   ],
   "source": [
    "X_reshaped = out_features_vector.reshape((200,7*7*512))\n",
    "X_reshaped.shape"
   ]
  },
  {
   "cell_type": "markdown",
   "id": "4727e06c",
   "metadata": {},
   "source": [
    "###### train/test/split and train the model"
   ]
  },
  {
   "cell_type": "code",
   "execution_count": 50,
   "id": "29722758",
   "metadata": {},
   "outputs": [],
   "source": [
    "Xtrain,Xtest,ytrain,ytest=train_test_split(X_reshaped,y_series.values,\n",
    "                                           test_size=.20,\n",
    "                                          random_state=20)"
   ]
  },
  {
   "cell_type": "code",
   "execution_count": 51,
   "id": "ed0167f6",
   "metadata": {},
   "outputs": [],
   "source": [
    "log=LogisticRegression()"
   ]
  },
  {
   "cell_type": "code",
   "execution_count": 52,
   "id": "fb0ce41e",
   "metadata": {},
   "outputs": [
    {
     "data": {
      "text/plain": [
       "LogisticRegression()"
      ]
     },
     "execution_count": 52,
     "metadata": {},
     "output_type": "execute_result"
    }
   ],
   "source": [
    "log.fit(Xtrain,ytrain)"
   ]
  },
  {
   "cell_type": "code",
   "execution_count": 53,
   "id": "e5588334",
   "metadata": {},
   "outputs": [],
   "source": [
    "ypred_train=log.predict(Xtrain)\n",
    "ypred_test=log.predict(Xtest)"
   ]
  },
  {
   "cell_type": "code",
   "execution_count": 54,
   "id": "4259f6f8",
   "metadata": {},
   "outputs": [
    {
     "data": {
      "text/plain": [
       "array([1, 0, 1, 0, 0, 1, 1, 0, 0, 1, 0, 1, 0, 1, 0, 0, 0, 0, 1, 0, 1, 0,\n",
       "       0, 0, 0, 1, 0, 1, 0, 0, 0, 0, 0, 0, 1, 0, 0, 0, 0, 1, 0, 1, 0, 0,\n",
       "       0, 1, 0, 0, 0, 1, 0, 0, 0, 0, 0, 0, 0, 1, 0, 0, 0, 0, 0, 0, 0, 0,\n",
       "       0, 0, 1, 0, 0, 0, 0, 1, 0, 0, 0, 0, 0, 1, 0, 0, 1, 0, 0, 1, 0, 0,\n",
       "       0, 0, 1, 0, 0, 1, 1, 1, 0, 0, 1, 0, 1, 0, 1, 1, 0, 1, 0, 0, 1, 1,\n",
       "       0, 1, 1, 0, 0, 0, 0, 1, 0, 0, 1, 1, 1, 1, 0, 1, 1, 0, 1, 0, 0, 1,\n",
       "       1, 0, 0, 0, 0, 0, 1, 0, 1, 1, 0, 0, 0, 0, 1, 0, 0, 0, 0, 1, 0, 0,\n",
       "       0, 1, 1, 1, 0, 0], dtype=int64)"
      ]
     },
     "execution_count": 54,
     "metadata": {},
     "output_type": "execute_result"
    }
   ],
   "source": [
    "ypred_train"
   ]
  },
  {
   "cell_type": "markdown",
   "id": "59c242f2",
   "metadata": {},
   "source": [
    "###### validation"
   ]
  },
  {
   "cell_type": "code",
   "execution_count": 55,
   "id": "3c964949",
   "metadata": {},
   "outputs": [],
   "source": [
    "score_train=cross_val_score(log,Xtrain,ytrain,cv=10)"
   ]
  },
  {
   "cell_type": "code",
   "execution_count": 56,
   "id": "364fa5f5",
   "metadata": {},
   "outputs": [
    {
     "data": {
      "text/plain": [
       "array([1., 1., 1., 1., 1., 1., 1., 1., 1., 1.])"
      ]
     },
     "execution_count": 56,
     "metadata": {},
     "output_type": "execute_result"
    }
   ],
   "source": [
    "score_train"
   ]
  },
  {
   "cell_type": "code",
   "execution_count": 57,
   "id": "00253a01",
   "metadata": {},
   "outputs": [
    {
     "name": "stdout",
     "output_type": "stream",
     "text": [
      "accuracy train:1.0\n"
     ]
    }
   ],
   "source": [
    "print(f\"accuracy train:{accuracy_score(ytrain,ypred_train)}\")"
   ]
  },
  {
   "cell_type": "code",
   "execution_count": 58,
   "id": "94da2b95",
   "metadata": {},
   "outputs": [
    {
     "name": "stdout",
     "output_type": "stream",
     "text": [
      "accuracy train:1.0\n"
     ]
    }
   ],
   "source": [
    "print(f\"accuracy train:{accuracy_score(ytest,ypred_test)}\")"
   ]
  },
  {
   "cell_type": "code",
   "execution_count": null,
   "id": "768ed087",
   "metadata": {},
   "outputs": [],
   "source": []
  }
 ],
 "metadata": {
  "kernelspec": {
   "display_name": "Python 3 (ipykernel)",
   "language": "python",
   "name": "python3"
  },
  "language_info": {
   "codemirror_mode": {
    "name": "ipython",
    "version": 3
   },
   "file_extension": ".py",
   "mimetype": "text/x-python",
   "name": "python",
   "nbconvert_exporter": "python",
   "pygments_lexer": "ipython3",
   "version": "3.9.0"
  }
 },
 "nbformat": 4,
 "nbformat_minor": 5
}
