{
 "cells": [
  {
   "cell_type": "code",
   "execution_count": 2,
   "id": "e9c7e0e2",
   "metadata": {},
   "outputs": [],
   "source": [
    "import pandas as pd\n",
    "import numpy as np\n",
    "fert=pd.read_csv ('gapminder_total_fertility1.csv',index_col=0)\n",
    "life=pd.read_excel ('gapminder_lifeexpectancy1.xlsx',index_col=0)"
   ]
  },
  {
   "cell_type": "code",
   "execution_count": 3,
   "id": "f49b8784",
   "metadata": {},
   "outputs": [
    {
     "name": "stdout",
     "output_type": "stream",
     "text": [
      "(260, 217)\n"
     ]
    }
   ],
   "source": [
    "print (life.shape)"
   ]
  },
  {
   "cell_type": "code",
   "execution_count": 4,
   "id": "e4436016",
   "metadata": {},
   "outputs": [
    {
     "data": {
      "text/plain": [
       "Index(['1800', '1801', '1802', '1803', '1804', '1805', '1806', '1807', '1808',\n",
       "       '1809',\n",
       "       ...\n",
       "       '2006', '2007', '2008', '2009', '2010', '2011', '2012', '2013', '2014',\n",
       "       '2015'],\n",
       "      dtype='object', length=216)"
      ]
     },
     "execution_count": 4,
     "metadata": {},
     "output_type": "execute_result"
    }
   ],
   "source": [
    "fert.columns"
   ]
  },
  {
   "cell_type": "code",
   "execution_count": 5,
   "id": "21aad3a9",
   "metadata": {},
   "outputs": [
    {
     "data": {
      "text/plain": [
       "Int64Index([1800, 1801, 1802, 1803, 1804, 1805, 1806, 1807, 1808, 1809,\n",
       "            ...\n",
       "            2007, 2008, 2009, 2010, 2011, 2012, 2013, 2014, 2015, 2016],\n",
       "           dtype='int64', length=217)"
      ]
     },
     "execution_count": 5,
     "metadata": {},
     "output_type": "execute_result"
    }
   ],
   "source": [
    "life.columns"
   ]
  },
  {
   "cell_type": "code",
   "execution_count": 6,
   "id": "210a74de",
   "metadata": {},
   "outputs": [],
   "source": [
    "fert.columns=fert.columns.astype(int)"
   ]
  },
  {
   "cell_type": "code",
   "execution_count": 7,
   "id": "0772457f",
   "metadata": {},
   "outputs": [
    {
     "data": {
      "text/plain": [
       "Int64Index([1800, 1801, 1802, 1803, 1804, 1805, 1806, 1807, 1808, 1809,\n",
       "            ...\n",
       "            2006, 2007, 2008, 2009, 2010, 2011, 2012, 2013, 2014, 2015],\n",
       "           dtype='int64', length=216)"
      ]
     },
     "execution_count": 7,
     "metadata": {},
     "output_type": "execute_result"
    }
   ],
   "source": [
    "fert.columns"
   ]
  },
  {
   "cell_type": "code",
   "execution_count": 8,
   "id": "917f664d",
   "metadata": {},
   "outputs": [
    {
     "data": {
      "text/plain": [
       "Index(['Abkhazia', 'Afghanistan', 'Akrotiri and Dhekelia', 'Albania',\n",
       "       'Algeria', 'American Samoa', 'Andorra', 'Angola', 'Anguilla',\n",
       "       'Antigua and Barbuda',\n",
       "       ...\n",
       "       'Vietnam', 'Virgin Islands (U.S.)', 'North Yemen (former)',\n",
       "       'South Yemen (former)', 'Yemen', 'Yugoslavia', 'Zambia', 'Zimbabwe',\n",
       "       'Åland', 'Åland'],\n",
       "      dtype='object', name='Total fertility rate', length=260)"
      ]
     },
     "execution_count": 8,
     "metadata": {},
     "output_type": "execute_result"
    }
   ],
   "source": [
    "fert.index"
   ]
  },
  {
   "cell_type": "code",
   "execution_count": 9,
   "id": "69bfb9d7",
   "metadata": {},
   "outputs": [],
   "source": [
    "fert.index.name= 'country'"
   ]
  },
  {
   "cell_type": "code",
   "execution_count": 10,
   "id": "75122c14",
   "metadata": {},
   "outputs": [],
   "source": [
    "fert.reset_index(inplace=True)"
   ]
  },
  {
   "cell_type": "code",
   "execution_count": 11,
   "id": "5becb095",
   "metadata": {},
   "outputs": [
    {
     "data": {
      "text/html": [
       "<div>\n",
       "<style scoped>\n",
       "    .dataframe tbody tr th:only-of-type {\n",
       "        vertical-align: middle;\n",
       "    }\n",
       "\n",
       "    .dataframe tbody tr th {\n",
       "        vertical-align: top;\n",
       "    }\n",
       "\n",
       "    .dataframe thead th {\n",
       "        text-align: right;\n",
       "    }\n",
       "</style>\n",
       "<table border=\"1\" class=\"dataframe\">\n",
       "  <thead>\n",
       "    <tr style=\"text-align: right;\">\n",
       "      <th></th>\n",
       "      <th>country</th>\n",
       "      <th>1800</th>\n",
       "      <th>1801</th>\n",
       "      <th>1802</th>\n",
       "      <th>1803</th>\n",
       "      <th>1804</th>\n",
       "      <th>1805</th>\n",
       "      <th>1806</th>\n",
       "      <th>1807</th>\n",
       "      <th>1808</th>\n",
       "      <th>...</th>\n",
       "      <th>2006</th>\n",
       "      <th>2007</th>\n",
       "      <th>2008</th>\n",
       "      <th>2009</th>\n",
       "      <th>2010</th>\n",
       "      <th>2011</th>\n",
       "      <th>2012</th>\n",
       "      <th>2013</th>\n",
       "      <th>2014</th>\n",
       "      <th>2015</th>\n",
       "    </tr>\n",
       "  </thead>\n",
       "  <tbody>\n",
       "    <tr>\n",
       "      <th>0</th>\n",
       "      <td>Abkhazia</td>\n",
       "      <td>NaN</td>\n",
       "      <td>NaN</td>\n",
       "      <td>NaN</td>\n",
       "      <td>NaN</td>\n",
       "      <td>NaN</td>\n",
       "      <td>NaN</td>\n",
       "      <td>NaN</td>\n",
       "      <td>NaN</td>\n",
       "      <td>NaN</td>\n",
       "      <td>...</td>\n",
       "      <td>NaN</td>\n",
       "      <td>NaN</td>\n",
       "      <td>NaN</td>\n",
       "      <td>NaN</td>\n",
       "      <td>NaN</td>\n",
       "      <td>NaN</td>\n",
       "      <td>NaN</td>\n",
       "      <td>NaN</td>\n",
       "      <td>NaN</td>\n",
       "      <td>NaN</td>\n",
       "    </tr>\n",
       "    <tr>\n",
       "      <th>1</th>\n",
       "      <td>Afghanistan</td>\n",
       "      <td>7.00</td>\n",
       "      <td>7.00</td>\n",
       "      <td>7.00</td>\n",
       "      <td>7.00</td>\n",
       "      <td>7.00</td>\n",
       "      <td>7.00</td>\n",
       "      <td>7.00</td>\n",
       "      <td>7.00</td>\n",
       "      <td>7.00</td>\n",
       "      <td>...</td>\n",
       "      <td>6.70</td>\n",
       "      <td>6.46</td>\n",
       "      <td>6.20</td>\n",
       "      <td>5.93</td>\n",
       "      <td>5.66</td>\n",
       "      <td>5.40</td>\n",
       "      <td>5.14</td>\n",
       "      <td>4.90</td>\n",
       "      <td>4.68</td>\n",
       "      <td>4.47</td>\n",
       "    </tr>\n",
       "    <tr>\n",
       "      <th>2</th>\n",
       "      <td>Akrotiri and Dhekelia</td>\n",
       "      <td>NaN</td>\n",
       "      <td>NaN</td>\n",
       "      <td>NaN</td>\n",
       "      <td>NaN</td>\n",
       "      <td>NaN</td>\n",
       "      <td>NaN</td>\n",
       "      <td>NaN</td>\n",
       "      <td>NaN</td>\n",
       "      <td>NaN</td>\n",
       "      <td>...</td>\n",
       "      <td>NaN</td>\n",
       "      <td>NaN</td>\n",
       "      <td>NaN</td>\n",
       "      <td>NaN</td>\n",
       "      <td>NaN</td>\n",
       "      <td>NaN</td>\n",
       "      <td>NaN</td>\n",
       "      <td>NaN</td>\n",
       "      <td>NaN</td>\n",
       "      <td>NaN</td>\n",
       "    </tr>\n",
       "    <tr>\n",
       "      <th>3</th>\n",
       "      <td>Albania</td>\n",
       "      <td>4.60</td>\n",
       "      <td>4.60</td>\n",
       "      <td>4.60</td>\n",
       "      <td>4.60</td>\n",
       "      <td>4.60</td>\n",
       "      <td>4.60</td>\n",
       "      <td>4.60</td>\n",
       "      <td>4.60</td>\n",
       "      <td>4.60</td>\n",
       "      <td>...</td>\n",
       "      <td>1.85</td>\n",
       "      <td>1.80</td>\n",
       "      <td>1.76</td>\n",
       "      <td>1.74</td>\n",
       "      <td>1.74</td>\n",
       "      <td>1.75</td>\n",
       "      <td>1.76</td>\n",
       "      <td>1.77</td>\n",
       "      <td>1.78</td>\n",
       "      <td>1.78</td>\n",
       "    </tr>\n",
       "    <tr>\n",
       "      <th>4</th>\n",
       "      <td>Algeria</td>\n",
       "      <td>6.99</td>\n",
       "      <td>6.99</td>\n",
       "      <td>6.99</td>\n",
       "      <td>6.99</td>\n",
       "      <td>6.99</td>\n",
       "      <td>6.99</td>\n",
       "      <td>6.99</td>\n",
       "      <td>6.99</td>\n",
       "      <td>6.99</td>\n",
       "      <td>...</td>\n",
       "      <td>2.58</td>\n",
       "      <td>2.66</td>\n",
       "      <td>2.73</td>\n",
       "      <td>2.78</td>\n",
       "      <td>2.82</td>\n",
       "      <td>2.83</td>\n",
       "      <td>2.82</td>\n",
       "      <td>2.80</td>\n",
       "      <td>2.76</td>\n",
       "      <td>2.71</td>\n",
       "    </tr>\n",
       "    <tr>\n",
       "      <th>...</th>\n",
       "      <td>...</td>\n",
       "      <td>...</td>\n",
       "      <td>...</td>\n",
       "      <td>...</td>\n",
       "      <td>...</td>\n",
       "      <td>...</td>\n",
       "      <td>...</td>\n",
       "      <td>...</td>\n",
       "      <td>...</td>\n",
       "      <td>...</td>\n",
       "      <td>...</td>\n",
       "      <td>...</td>\n",
       "      <td>...</td>\n",
       "      <td>...</td>\n",
       "      <td>...</td>\n",
       "      <td>...</td>\n",
       "      <td>...</td>\n",
       "      <td>...</td>\n",
       "      <td>...</td>\n",
       "      <td>...</td>\n",
       "      <td>...</td>\n",
       "    </tr>\n",
       "    <tr>\n",
       "      <th>255</th>\n",
       "      <td>Yugoslavia</td>\n",
       "      <td>NaN</td>\n",
       "      <td>NaN</td>\n",
       "      <td>NaN</td>\n",
       "      <td>NaN</td>\n",
       "      <td>NaN</td>\n",
       "      <td>NaN</td>\n",
       "      <td>NaN</td>\n",
       "      <td>NaN</td>\n",
       "      <td>NaN</td>\n",
       "      <td>...</td>\n",
       "      <td>NaN</td>\n",
       "      <td>NaN</td>\n",
       "      <td>NaN</td>\n",
       "      <td>NaN</td>\n",
       "      <td>NaN</td>\n",
       "      <td>NaN</td>\n",
       "      <td>NaN</td>\n",
       "      <td>NaN</td>\n",
       "      <td>NaN</td>\n",
       "      <td>NaN</td>\n",
       "    </tr>\n",
       "    <tr>\n",
       "      <th>256</th>\n",
       "      <td>Zambia</td>\n",
       "      <td>6.71</td>\n",
       "      <td>6.71</td>\n",
       "      <td>6.71</td>\n",
       "      <td>6.71</td>\n",
       "      <td>6.71</td>\n",
       "      <td>6.71</td>\n",
       "      <td>6.71</td>\n",
       "      <td>6.71</td>\n",
       "      <td>6.71</td>\n",
       "      <td>...</td>\n",
       "      <td>5.93</td>\n",
       "      <td>5.91</td>\n",
       "      <td>5.88</td>\n",
       "      <td>5.85</td>\n",
       "      <td>5.81</td>\n",
       "      <td>5.77</td>\n",
       "      <td>5.73</td>\n",
       "      <td>5.69</td>\n",
       "      <td>5.64</td>\n",
       "      <td>5.59</td>\n",
       "    </tr>\n",
       "    <tr>\n",
       "      <th>257</th>\n",
       "      <td>Zimbabwe</td>\n",
       "      <td>6.75</td>\n",
       "      <td>6.75</td>\n",
       "      <td>6.75</td>\n",
       "      <td>6.75</td>\n",
       "      <td>6.75</td>\n",
       "      <td>6.75</td>\n",
       "      <td>6.75</td>\n",
       "      <td>6.75</td>\n",
       "      <td>6.75</td>\n",
       "      <td>...</td>\n",
       "      <td>3.94</td>\n",
       "      <td>3.90</td>\n",
       "      <td>3.85</td>\n",
       "      <td>3.79</td>\n",
       "      <td>3.72</td>\n",
       "      <td>3.64</td>\n",
       "      <td>3.56</td>\n",
       "      <td>3.49</td>\n",
       "      <td>3.41</td>\n",
       "      <td>3.35</td>\n",
       "    </tr>\n",
       "    <tr>\n",
       "      <th>258</th>\n",
       "      <td>Åland</td>\n",
       "      <td>NaN</td>\n",
       "      <td>NaN</td>\n",
       "      <td>NaN</td>\n",
       "      <td>NaN</td>\n",
       "      <td>NaN</td>\n",
       "      <td>NaN</td>\n",
       "      <td>NaN</td>\n",
       "      <td>NaN</td>\n",
       "      <td>NaN</td>\n",
       "      <td>...</td>\n",
       "      <td>NaN</td>\n",
       "      <td>NaN</td>\n",
       "      <td>NaN</td>\n",
       "      <td>NaN</td>\n",
       "      <td>NaN</td>\n",
       "      <td>NaN</td>\n",
       "      <td>NaN</td>\n",
       "      <td>NaN</td>\n",
       "      <td>NaN</td>\n",
       "      <td>NaN</td>\n",
       "    </tr>\n",
       "    <tr>\n",
       "      <th>259</th>\n",
       "      <td>Åland</td>\n",
       "      <td>NaN</td>\n",
       "      <td>NaN</td>\n",
       "      <td>NaN</td>\n",
       "      <td>NaN</td>\n",
       "      <td>NaN</td>\n",
       "      <td>NaN</td>\n",
       "      <td>NaN</td>\n",
       "      <td>NaN</td>\n",
       "      <td>NaN</td>\n",
       "      <td>...</td>\n",
       "      <td>NaN</td>\n",
       "      <td>NaN</td>\n",
       "      <td>NaN</td>\n",
       "      <td>NaN</td>\n",
       "      <td>NaN</td>\n",
       "      <td>NaN</td>\n",
       "      <td>NaN</td>\n",
       "      <td>NaN</td>\n",
       "      <td>NaN</td>\n",
       "      <td>NaN</td>\n",
       "    </tr>\n",
       "  </tbody>\n",
       "</table>\n",
       "<p>260 rows × 217 columns</p>\n",
       "</div>"
      ],
      "text/plain": [
       "                   country  1800  1801  1802  1803  1804  1805  1806  1807  \\\n",
       "0                 Abkhazia   NaN   NaN   NaN   NaN   NaN   NaN   NaN   NaN   \n",
       "1              Afghanistan  7.00  7.00  7.00  7.00  7.00  7.00  7.00  7.00   \n",
       "2    Akrotiri and Dhekelia   NaN   NaN   NaN   NaN   NaN   NaN   NaN   NaN   \n",
       "3                  Albania  4.60  4.60  4.60  4.60  4.60  4.60  4.60  4.60   \n",
       "4                  Algeria  6.99  6.99  6.99  6.99  6.99  6.99  6.99  6.99   \n",
       "..                     ...   ...   ...   ...   ...   ...   ...   ...   ...   \n",
       "255             Yugoslavia   NaN   NaN   NaN   NaN   NaN   NaN   NaN   NaN   \n",
       "256                 Zambia  6.71  6.71  6.71  6.71  6.71  6.71  6.71  6.71   \n",
       "257               Zimbabwe  6.75  6.75  6.75  6.75  6.75  6.75  6.75  6.75   \n",
       "258                  Åland   NaN   NaN   NaN   NaN   NaN   NaN   NaN   NaN   \n",
       "259                  Åland   NaN   NaN   NaN   NaN   NaN   NaN   NaN   NaN   \n",
       "\n",
       "     1808  ...  2006  2007  2008  2009  2010  2011  2012  2013  2014  2015  \n",
       "0     NaN  ...   NaN   NaN   NaN   NaN   NaN   NaN   NaN   NaN   NaN   NaN  \n",
       "1    7.00  ...  6.70  6.46  6.20  5.93  5.66  5.40  5.14  4.90  4.68  4.47  \n",
       "2     NaN  ...   NaN   NaN   NaN   NaN   NaN   NaN   NaN   NaN   NaN   NaN  \n",
       "3    4.60  ...  1.85  1.80  1.76  1.74  1.74  1.75  1.76  1.77  1.78  1.78  \n",
       "4    6.99  ...  2.58  2.66  2.73  2.78  2.82  2.83  2.82  2.80  2.76  2.71  \n",
       "..    ...  ...   ...   ...   ...   ...   ...   ...   ...   ...   ...   ...  \n",
       "255   NaN  ...   NaN   NaN   NaN   NaN   NaN   NaN   NaN   NaN   NaN   NaN  \n",
       "256  6.71  ...  5.93  5.91  5.88  5.85  5.81  5.77  5.73  5.69  5.64  5.59  \n",
       "257  6.75  ...  3.94  3.90  3.85  3.79  3.72  3.64  3.56  3.49  3.41  3.35  \n",
       "258   NaN  ...   NaN   NaN   NaN   NaN   NaN   NaN   NaN   NaN   NaN   NaN  \n",
       "259   NaN  ...   NaN   NaN   NaN   NaN   NaN   NaN   NaN   NaN   NaN   NaN  \n",
       "\n",
       "[260 rows x 217 columns]"
      ]
     },
     "execution_count": 11,
     "metadata": {},
     "output_type": "execute_result"
    }
   ],
   "source": [
    "fert"
   ]
  },
  {
   "cell_type": "code",
   "execution_count": 12,
   "id": "9e3bbed8",
   "metadata": {},
   "outputs": [],
   "source": [
    "fert=fert.melt(id_vars = 'country',var_name='year',value_name='fertility_rate')"
   ]
  },
  {
   "cell_type": "code",
   "execution_count": 13,
   "id": "e49c074b",
   "metadata": {},
   "outputs": [
    {
     "data": {
      "text/plain": [
       "Index(['Abkhazia', 'Afghanistan', 'Akrotiri and Dhekelia', 'Albania',\n",
       "       'Algeria', 'American Samoa', 'Andorra', 'Angola', 'Anguilla',\n",
       "       'Antigua and Barbuda',\n",
       "       ...\n",
       "       'Vietnam', 'Virgin Islands (U.S.)', 'North Yemen (former)',\n",
       "       'South Yemen (former)', 'Yemen', 'Yugoslavia', 'Zambia', 'Zimbabwe',\n",
       "       'Åland', 'South Sudan'],\n",
       "      dtype='object', name='Life expectancy', length=260)"
      ]
     },
     "execution_count": 13,
     "metadata": {},
     "output_type": "execute_result"
    }
   ],
   "source": [
    "life.index"
   ]
  },
  {
   "cell_type": "code",
   "execution_count": 14,
   "id": "36bc7d0c",
   "metadata": {},
   "outputs": [],
   "source": [
    "life.index.name= 'country'"
   ]
  },
  {
   "cell_type": "code",
   "execution_count": 15,
   "id": "8377c20c",
   "metadata": {},
   "outputs": [],
   "source": [
    "life.reset_index(inplace=True)"
   ]
  },
  {
   "cell_type": "code",
   "execution_count": null,
   "id": "e960ed6d",
   "metadata": {},
   "outputs": [],
   "source": [
    "life=life.reset_index"
   ]
  },
  {
   "cell_type": "code",
   "execution_count": 16,
   "id": "ab879371",
   "metadata": {},
   "outputs": [],
   "source": [
    "life=life.melt(id_vars='country',var_name='year',value_name='lifeexpectancy')"
   ]
  },
  {
   "cell_type": "code",
   "execution_count": 17,
   "id": "5479289f",
   "metadata": {},
   "outputs": [],
   "source": [
    "pop=pd.read_excel('gapminder_population1.xlsx',index_col=0, nrows=260)"
   ]
  },
  {
   "cell_type": "code",
   "execution_count": 18,
   "id": "ea5c8008",
   "metadata": {},
   "outputs": [
    {
     "name": "stdout",
     "output_type": "stream",
     "text": [
      "(260, 91)\n"
     ]
    }
   ],
   "source": [
    "print(pop.shape)"
   ]
  },
  {
   "cell_type": "code",
   "execution_count": 19,
   "id": "03b1aac5",
   "metadata": {},
   "outputs": [],
   "source": [
    "pop=pop.iloc[:,:-10]"
   ]
  },
  {
   "cell_type": "code",
   "execution_count": 20,
   "id": "ab322a5c",
   "metadata": {},
   "outputs": [
    {
     "data": {
      "text/plain": [
       "Index([1800, 1810, 1820, 1830, 1840, 1850, 1860, 1870, 1880, 1890, 1900, 1910,\n",
       "       1920, 1930, 1940, 1950, 1951, 1952, 1953, 1954, 1955, 1956, 1957, 1958,\n",
       "       1959, 1960, 1961, 1962, 1963, 1964, 1965, 1966, 1967, 1968, 1969, 1970,\n",
       "       1971, 1972, 1973, 1974, 1975, 1976, 1977, 1978, 1979, 1980, 1981, 1982,\n",
       "       1983, 1984, 1985, 1986, 1987, 1988, 1989, 1990, 1991, 1992, 1993, 1994,\n",
       "       1995, 1996, 1997, 1998, 1999, 2000, 2001, 2002, 2003, 2004, 2005, 2006,\n",
       "       2007, 2008, 2009, 2010, 2011, 2012, 2013, 2014, 2015],\n",
       "      dtype='object')"
      ]
     },
     "execution_count": 20,
     "metadata": {},
     "output_type": "execute_result"
    }
   ],
   "source": [
    "pop.columns"
   ]
  },
  {
   "cell_type": "code",
   "execution_count": 21,
   "id": "ded8f802",
   "metadata": {},
   "outputs": [],
   "source": [
    "pop.columns = pop.columns.astype(int)"
   ]
  },
  {
   "cell_type": "code",
   "execution_count": 22,
   "id": "b492f824",
   "metadata": {},
   "outputs": [
    {
     "data": {
      "text/plain": [
       "Int64Index([1800, 1810, 1820, 1830, 1840, 1850, 1860, 1870, 1880, 1890, 1900,\n",
       "            1910, 1920, 1930, 1940, 1950, 1951, 1952, 1953, 1954, 1955, 1956,\n",
       "            1957, 1958, 1959, 1960, 1961, 1962, 1963, 1964, 1965, 1966, 1967,\n",
       "            1968, 1969, 1970, 1971, 1972, 1973, 1974, 1975, 1976, 1977, 1978,\n",
       "            1979, 1980, 1981, 1982, 1983, 1984, 1985, 1986, 1987, 1988, 1989,\n",
       "            1990, 1991, 1992, 1993, 1994, 1995, 1996, 1997, 1998, 1999, 2000,\n",
       "            2001, 2002, 2003, 2004, 2005, 2006, 2007, 2008, 2009, 2010, 2011,\n",
       "            2012, 2013, 2014, 2015],\n",
       "           dtype='int64')"
      ]
     },
     "execution_count": 22,
     "metadata": {},
     "output_type": "execute_result"
    }
   ],
   "source": [
    "pop.columns"
   ]
  },
  {
   "cell_type": "code",
   "execution_count": 23,
   "id": "2647ebed",
   "metadata": {},
   "outputs": [
    {
     "data": {
      "text/plain": [
       "Index(['Abkhazia', 'Afghanistan', 'Akrotiri and Dhekelia', 'Albania',\n",
       "       'Algeria', 'American Samoa', 'Andorra', 'Angola', 'Anguilla',\n",
       "       'Antigua and Barbuda',\n",
       "       ...\n",
       "       'Vietnam', 'Virgin Islands (U.S.)', 'North Yemen (former)',\n",
       "       'South Yemen (former)', 'Yemen', 'Yugoslavia', 'Zambia', 'Zimbabwe',\n",
       "       'Åland', 'South Sudan'],\n",
       "      dtype='object', name='Total population', length=260)"
      ]
     },
     "execution_count": 23,
     "metadata": {},
     "output_type": "execute_result"
    }
   ],
   "source": [
    "pop.index"
   ]
  },
  {
   "cell_type": "code",
   "execution_count": 24,
   "id": "3e36cbf1",
   "metadata": {},
   "outputs": [],
   "source": [
    "pop.index.name='country'"
   ]
  },
  {
   "cell_type": "code",
   "execution_count": 25,
   "id": "ed4dd573",
   "metadata": {},
   "outputs": [
    {
     "data": {
      "text/html": [
       "<div>\n",
       "<style scoped>\n",
       "    .dataframe tbody tr th:only-of-type {\n",
       "        vertical-align: middle;\n",
       "    }\n",
       "\n",
       "    .dataframe tbody tr th {\n",
       "        vertical-align: top;\n",
       "    }\n",
       "\n",
       "    .dataframe thead th {\n",
       "        text-align: right;\n",
       "    }\n",
       "</style>\n",
       "<table border=\"1\" class=\"dataframe\">\n",
       "  <thead>\n",
       "    <tr style=\"text-align: right;\">\n",
       "      <th></th>\n",
       "      <th>1800</th>\n",
       "      <th>1810</th>\n",
       "      <th>1820</th>\n",
       "      <th>1830</th>\n",
       "      <th>1840</th>\n",
       "      <th>1850</th>\n",
       "      <th>1860</th>\n",
       "      <th>1870</th>\n",
       "      <th>1880</th>\n",
       "      <th>1890</th>\n",
       "      <th>...</th>\n",
       "      <th>2006</th>\n",
       "      <th>2007</th>\n",
       "      <th>2008</th>\n",
       "      <th>2009</th>\n",
       "      <th>2010</th>\n",
       "      <th>2011</th>\n",
       "      <th>2012</th>\n",
       "      <th>2013</th>\n",
       "      <th>2014</th>\n",
       "      <th>2015</th>\n",
       "    </tr>\n",
       "    <tr>\n",
       "      <th>country</th>\n",
       "      <th></th>\n",
       "      <th></th>\n",
       "      <th></th>\n",
       "      <th></th>\n",
       "      <th></th>\n",
       "      <th></th>\n",
       "      <th></th>\n",
       "      <th></th>\n",
       "      <th></th>\n",
       "      <th></th>\n",
       "      <th></th>\n",
       "      <th></th>\n",
       "      <th></th>\n",
       "      <th></th>\n",
       "      <th></th>\n",
       "      <th></th>\n",
       "      <th></th>\n",
       "      <th></th>\n",
       "      <th></th>\n",
       "      <th></th>\n",
       "      <th></th>\n",
       "    </tr>\n",
       "  </thead>\n",
       "  <tbody>\n",
       "    <tr>\n",
       "      <th>Abkhazia</th>\n",
       "      <td>NaN</td>\n",
       "      <td>NaN</td>\n",
       "      <td>NaN</td>\n",
       "      <td>NaN</td>\n",
       "      <td>NaN</td>\n",
       "      <td>NaN</td>\n",
       "      <td>NaN</td>\n",
       "      <td>NaN</td>\n",
       "      <td>NaN</td>\n",
       "      <td>NaN</td>\n",
       "      <td>...</td>\n",
       "      <td>NaN</td>\n",
       "      <td>NaN</td>\n",
       "      <td>NaN</td>\n",
       "      <td>NaN</td>\n",
       "      <td>NaN</td>\n",
       "      <td>NaN</td>\n",
       "      <td>NaN</td>\n",
       "      <td>NaN</td>\n",
       "      <td>NaN</td>\n",
       "      <td>NaN</td>\n",
       "    </tr>\n",
       "    <tr>\n",
       "      <th>Afghanistan</th>\n",
       "      <td>3280000.0</td>\n",
       "      <td>3280000.0</td>\n",
       "      <td>3323519.0</td>\n",
       "      <td>3448982.0</td>\n",
       "      <td>3625022.0</td>\n",
       "      <td>3810047.0</td>\n",
       "      <td>3973968.0</td>\n",
       "      <td>4169690.0</td>\n",
       "      <td>4419695.0</td>\n",
       "      <td>4710171.0</td>\n",
       "      <td>...</td>\n",
       "      <td>25183615.0</td>\n",
       "      <td>25877544.0</td>\n",
       "      <td>26528741.0</td>\n",
       "      <td>27207291.0</td>\n",
       "      <td>27962207.0</td>\n",
       "      <td>28809167.0</td>\n",
       "      <td>29726803.0</td>\n",
       "      <td>30682500.0</td>\n",
       "      <td>31627506.0</td>\n",
       "      <td>32526562.0</td>\n",
       "    </tr>\n",
       "    <tr>\n",
       "      <th>Akrotiri and Dhekelia</th>\n",
       "      <td>NaN</td>\n",
       "      <td>NaN</td>\n",
       "      <td>NaN</td>\n",
       "      <td>NaN</td>\n",
       "      <td>NaN</td>\n",
       "      <td>NaN</td>\n",
       "      <td>NaN</td>\n",
       "      <td>NaN</td>\n",
       "      <td>NaN</td>\n",
       "      <td>NaN</td>\n",
       "      <td>...</td>\n",
       "      <td>15700.0</td>\n",
       "      <td>15700.0</td>\n",
       "      <td>15700.0</td>\n",
       "      <td>NaN</td>\n",
       "      <td>NaN</td>\n",
       "      <td>NaN</td>\n",
       "      <td>NaN</td>\n",
       "      <td>NaN</td>\n",
       "      <td>NaN</td>\n",
       "      <td>NaN</td>\n",
       "    </tr>\n",
       "    <tr>\n",
       "      <th>Albania</th>\n",
       "      <td>410445.0</td>\n",
       "      <td>423591.0</td>\n",
       "      <td>438671.0</td>\n",
       "      <td>457234.0</td>\n",
       "      <td>478227.0</td>\n",
       "      <td>506889.0</td>\n",
       "      <td>552800.0</td>\n",
       "      <td>610036.0</td>\n",
       "      <td>672544.0</td>\n",
       "      <td>741688.0</td>\n",
       "      <td>...</td>\n",
       "      <td>3050741.0</td>\n",
       "      <td>3010849.0</td>\n",
       "      <td>2968026.0</td>\n",
       "      <td>2929886.0</td>\n",
       "      <td>2901883.0</td>\n",
       "      <td>2886010.0</td>\n",
       "      <td>2880667.0</td>\n",
       "      <td>2883281.0</td>\n",
       "      <td>2889676.0</td>\n",
       "      <td>2896679.0</td>\n",
       "    </tr>\n",
       "    <tr>\n",
       "      <th>Algeria</th>\n",
       "      <td>2503218.0</td>\n",
       "      <td>2595056.0</td>\n",
       "      <td>2713079.0</td>\n",
       "      <td>2880355.0</td>\n",
       "      <td>3082721.0</td>\n",
       "      <td>3299305.0</td>\n",
       "      <td>3536468.0</td>\n",
       "      <td>3811028.0</td>\n",
       "      <td>4143163.0</td>\n",
       "      <td>4525691.0</td>\n",
       "      <td>...</td>\n",
       "      <td>33749328.0</td>\n",
       "      <td>34261971.0</td>\n",
       "      <td>34811059.0</td>\n",
       "      <td>35401790.0</td>\n",
       "      <td>36036159.0</td>\n",
       "      <td>36717132.0</td>\n",
       "      <td>37439427.0</td>\n",
       "      <td>38186135.0</td>\n",
       "      <td>38934334.0</td>\n",
       "      <td>39666519.0</td>\n",
       "    </tr>\n",
       "  </tbody>\n",
       "</table>\n",
       "<p>5 rows × 81 columns</p>\n",
       "</div>"
      ],
      "text/plain": [
       "                            1800       1810       1820       1830       1840  \\\n",
       "country                                                                        \n",
       "Abkhazia                     NaN        NaN        NaN        NaN        NaN   \n",
       "Afghanistan            3280000.0  3280000.0  3323519.0  3448982.0  3625022.0   \n",
       "Akrotiri and Dhekelia        NaN        NaN        NaN        NaN        NaN   \n",
       "Albania                 410445.0   423591.0   438671.0   457234.0   478227.0   \n",
       "Algeria                2503218.0  2595056.0  2713079.0  2880355.0  3082721.0   \n",
       "\n",
       "                            1850       1860       1870       1880       1890  \\\n",
       "country                                                                        \n",
       "Abkhazia                     NaN        NaN        NaN        NaN        NaN   \n",
       "Afghanistan            3810047.0  3973968.0  4169690.0  4419695.0  4710171.0   \n",
       "Akrotiri and Dhekelia        NaN        NaN        NaN        NaN        NaN   \n",
       "Albania                 506889.0   552800.0   610036.0   672544.0   741688.0   \n",
       "Algeria                3299305.0  3536468.0  3811028.0  4143163.0  4525691.0   \n",
       "\n",
       "                       ...        2006        2007        2008        2009  \\\n",
       "country                ...                                                   \n",
       "Abkhazia               ...         NaN         NaN         NaN         NaN   \n",
       "Afghanistan            ...  25183615.0  25877544.0  26528741.0  27207291.0   \n",
       "Akrotiri and Dhekelia  ...     15700.0     15700.0     15700.0         NaN   \n",
       "Albania                ...   3050741.0   3010849.0   2968026.0   2929886.0   \n",
       "Algeria                ...  33749328.0  34261971.0  34811059.0  35401790.0   \n",
       "\n",
       "                             2010        2011        2012        2013  \\\n",
       "country                                                                 \n",
       "Abkhazia                      NaN         NaN         NaN         NaN   \n",
       "Afghanistan            27962207.0  28809167.0  29726803.0  30682500.0   \n",
       "Akrotiri and Dhekelia         NaN         NaN         NaN         NaN   \n",
       "Albania                 2901883.0   2886010.0   2880667.0   2883281.0   \n",
       "Algeria                36036159.0  36717132.0  37439427.0  38186135.0   \n",
       "\n",
       "                             2014        2015  \n",
       "country                                        \n",
       "Abkhazia                      NaN         NaN  \n",
       "Afghanistan            31627506.0  32526562.0  \n",
       "Akrotiri and Dhekelia         NaN         NaN  \n",
       "Albania                 2889676.0   2896679.0  \n",
       "Algeria                38934334.0  39666519.0  \n",
       "\n",
       "[5 rows x 81 columns]"
      ]
     },
     "execution_count": 25,
     "metadata": {},
     "output_type": "execute_result"
    }
   ],
   "source": [
    "pop.head()"
   ]
  },
  {
   "cell_type": "code",
   "execution_count": 26,
   "id": "72e9b156",
   "metadata": {},
   "outputs": [],
   "source": [
    "pop=pop.reset_index()"
   ]
  },
  {
   "cell_type": "code",
   "execution_count": 27,
   "id": "5f433a3e",
   "metadata": {},
   "outputs": [],
   "source": [
    "pop=pop.melt(id_vars='country',var_name='year',value_name='population')"
   ]
  },
  {
   "cell_type": "code",
   "execution_count": 28,
   "id": "19dd3f02",
   "metadata": {},
   "outputs": [],
   "source": [
    "df=fert.merge(pop)"
   ]
  },
  {
   "cell_type": "code",
   "execution_count": 29,
   "id": "9a4a0ab0",
   "metadata": {},
   "outputs": [],
   "source": [
    "df=df.merge(life)"
   ]
  },
  {
   "cell_type": "code",
   "execution_count": 30,
   "id": "3a563378",
   "metadata": {},
   "outputs": [
    {
     "data": {
      "text/html": [
       "<div>\n",
       "<style scoped>\n",
       "    .dataframe tbody tr th:only-of-type {\n",
       "        vertical-align: middle;\n",
       "    }\n",
       "\n",
       "    .dataframe tbody tr th {\n",
       "        vertical-align: top;\n",
       "    }\n",
       "\n",
       "    .dataframe thead th {\n",
       "        text-align: right;\n",
       "    }\n",
       "</style>\n",
       "<table border=\"1\" class=\"dataframe\">\n",
       "  <thead>\n",
       "    <tr style=\"text-align: right;\">\n",
       "      <th></th>\n",
       "      <th>country</th>\n",
       "      <th>year</th>\n",
       "      <th>fertility_rate</th>\n",
       "      <th>population</th>\n",
       "      <th>lifeexpectancy</th>\n",
       "    </tr>\n",
       "  </thead>\n",
       "  <tbody>\n",
       "    <tr>\n",
       "      <th>0</th>\n",
       "      <td>Abkhazia</td>\n",
       "      <td>1800</td>\n",
       "      <td>NaN</td>\n",
       "      <td>NaN</td>\n",
       "      <td>NaN</td>\n",
       "    </tr>\n",
       "    <tr>\n",
       "      <th>1</th>\n",
       "      <td>Afghanistan</td>\n",
       "      <td>1800</td>\n",
       "      <td>7.00</td>\n",
       "      <td>3280000.0</td>\n",
       "      <td>28.21</td>\n",
       "    </tr>\n",
       "    <tr>\n",
       "      <th>2</th>\n",
       "      <td>Akrotiri and Dhekelia</td>\n",
       "      <td>1800</td>\n",
       "      <td>NaN</td>\n",
       "      <td>NaN</td>\n",
       "      <td>NaN</td>\n",
       "    </tr>\n",
       "    <tr>\n",
       "      <th>3</th>\n",
       "      <td>Albania</td>\n",
       "      <td>1800</td>\n",
       "      <td>4.60</td>\n",
       "      <td>410445.0</td>\n",
       "      <td>35.40</td>\n",
       "    </tr>\n",
       "    <tr>\n",
       "      <th>4</th>\n",
       "      <td>Algeria</td>\n",
       "      <td>1800</td>\n",
       "      <td>6.99</td>\n",
       "      <td>2503218.0</td>\n",
       "      <td>28.82</td>\n",
       "    </tr>\n",
       "    <tr>\n",
       "      <th>...</th>\n",
       "      <td>...</td>\n",
       "      <td>...</td>\n",
       "      <td>...</td>\n",
       "      <td>...</td>\n",
       "      <td>...</td>\n",
       "    </tr>\n",
       "    <tr>\n",
       "      <th>20974</th>\n",
       "      <td>Yugoslavia</td>\n",
       "      <td>2015</td>\n",
       "      <td>NaN</td>\n",
       "      <td>NaN</td>\n",
       "      <td>NaN</td>\n",
       "    </tr>\n",
       "    <tr>\n",
       "      <th>20975</th>\n",
       "      <td>Zambia</td>\n",
       "      <td>2015</td>\n",
       "      <td>5.59</td>\n",
       "      <td>16211767.0</td>\n",
       "      <td>56.70</td>\n",
       "    </tr>\n",
       "    <tr>\n",
       "      <th>20976</th>\n",
       "      <td>Zimbabwe</td>\n",
       "      <td>2015</td>\n",
       "      <td>3.35</td>\n",
       "      <td>15602751.0</td>\n",
       "      <td>59.30</td>\n",
       "    </tr>\n",
       "    <tr>\n",
       "      <th>20977</th>\n",
       "      <td>Åland</td>\n",
       "      <td>2015</td>\n",
       "      <td>NaN</td>\n",
       "      <td>NaN</td>\n",
       "      <td>NaN</td>\n",
       "    </tr>\n",
       "    <tr>\n",
       "      <th>20978</th>\n",
       "      <td>Åland</td>\n",
       "      <td>2015</td>\n",
       "      <td>NaN</td>\n",
       "      <td>NaN</td>\n",
       "      <td>NaN</td>\n",
       "    </tr>\n",
       "  </tbody>\n",
       "</table>\n",
       "<p>20979 rows × 5 columns</p>\n",
       "</div>"
      ],
      "text/plain": [
       "                     country  year  fertility_rate  population  lifeexpectancy\n",
       "0                   Abkhazia  1800             NaN         NaN             NaN\n",
       "1                Afghanistan  1800            7.00   3280000.0           28.21\n",
       "2      Akrotiri and Dhekelia  1800             NaN         NaN             NaN\n",
       "3                    Albania  1800            4.60    410445.0           35.40\n",
       "4                    Algeria  1800            6.99   2503218.0           28.82\n",
       "...                      ...   ...             ...         ...             ...\n",
       "20974             Yugoslavia  2015             NaN         NaN             NaN\n",
       "20975                 Zambia  2015            5.59  16211767.0           56.70\n",
       "20976               Zimbabwe  2015            3.35  15602751.0           59.30\n",
       "20977                  Åland  2015             NaN         NaN             NaN\n",
       "20978                  Åland  2015             NaN         NaN             NaN\n",
       "\n",
       "[20979 rows x 5 columns]"
      ]
     },
     "execution_count": 30,
     "metadata": {},
     "output_type": "execute_result"
    }
   ],
   "source": [
    "df"
   ]
  },
  {
   "cell_type": "code",
   "execution_count": 31,
   "id": "d065c731",
   "metadata": {},
   "outputs": [],
   "source": [
    "import seaborn as sns\n",
    "import matplotlib.pyplot as plt "
   ]
  },
  {
   "cell_type": "code",
   "execution_count": 32,
   "id": "5a74b283",
   "metadata": {},
   "outputs": [
    {
     "data": {
      "text/plain": [
       "<AxesSubplot:xlabel='lifeexpectancy', ylabel='fertility_rate'>"
      ]
     },
     "execution_count": 32,
     "metadata": {},
     "output_type": "execute_result"
    },
    {
     "data": {
      "image/png": "[encoded data removed]",
      "text/plain": [
       "<Figure size 432x288 with 1 Axes>"
      ]
     },
     "metadata": {
      "needs_background": "light"
     },
     "output_type": "display_data"
    }
   ],
   "source": [
    "df_subset = df.loc[df['year'] == 2000]\n",
    "sns.scatterplot(x='lifeexpectancy',y='fertility_rate',\n",
    "                data=df_subset,alpha=0.6)"
   ]
  },
  {
   "cell_type": "code",
   "execution_count": 33,
   "id": "ff96fbe2",
   "metadata": {},
   "outputs": [],
   "source": [
    "df.dropna(inplace=True)"
   ]
  },
  {
   "cell_type": "code",
   "execution_count": 34,
   "id": "64ac294c",
   "metadata": {},
   "outputs": [
    {
     "data": {
      "text/html": [
       "<div>\n",
       "<style scoped>\n",
       "    .dataframe tbody tr th:only-of-type {\n",
       "        vertical-align: middle;\n",
       "    }\n",
       "\n",
       "    .dataframe tbody tr th {\n",
       "        vertical-align: top;\n",
       "    }\n",
       "\n",
       "    .dataframe thead th {\n",
       "        text-align: right;\n",
       "    }\n",
       "</style>\n",
       "<table border=\"1\" class=\"dataframe\">\n",
       "  <thead>\n",
       "    <tr style=\"text-align: right;\">\n",
       "      <th></th>\n",
       "      <th>country</th>\n",
       "      <th>year</th>\n",
       "      <th>fertility_rate</th>\n",
       "      <th>population</th>\n",
       "      <th>lifeexpectancy</th>\n",
       "    </tr>\n",
       "  </thead>\n",
       "  <tbody>\n",
       "    <tr>\n",
       "      <th>1</th>\n",
       "      <td>Afghanistan</td>\n",
       "      <td>1800</td>\n",
       "      <td>7.00</td>\n",
       "      <td>3280000.0</td>\n",
       "      <td>28.21</td>\n",
       "    </tr>\n",
       "    <tr>\n",
       "      <th>3</th>\n",
       "      <td>Albania</td>\n",
       "      <td>1800</td>\n",
       "      <td>4.60</td>\n",
       "      <td>410445.0</td>\n",
       "      <td>35.40</td>\n",
       "    </tr>\n",
       "    <tr>\n",
       "      <th>4</th>\n",
       "      <td>Algeria</td>\n",
       "      <td>1800</td>\n",
       "      <td>6.99</td>\n",
       "      <td>2503218.0</td>\n",
       "      <td>28.82</td>\n",
       "    </tr>\n",
       "    <tr>\n",
       "      <th>7</th>\n",
       "      <td>Angola</td>\n",
       "      <td>1800</td>\n",
       "      <td>6.93</td>\n",
       "      <td>1567028.0</td>\n",
       "      <td>26.98</td>\n",
       "    </tr>\n",
       "    <tr>\n",
       "      <th>9</th>\n",
       "      <td>Antigua and Barbuda</td>\n",
       "      <td>1800</td>\n",
       "      <td>5.00</td>\n",
       "      <td>37000.0</td>\n",
       "      <td>33.54</td>\n",
       "    </tr>\n",
       "    <tr>\n",
       "      <th>...</th>\n",
       "      <td>...</td>\n",
       "      <td>...</td>\n",
       "      <td>...</td>\n",
       "      <td>...</td>\n",
       "      <td>...</td>\n",
       "    </tr>\n",
       "    <tr>\n",
       "      <th>20969</th>\n",
       "      <td>Vietnam</td>\n",
       "      <td>2015</td>\n",
       "      <td>1.70</td>\n",
       "      <td>93447601.0</td>\n",
       "      <td>75.40</td>\n",
       "    </tr>\n",
       "    <tr>\n",
       "      <th>20970</th>\n",
       "      <td>Virgin Islands (U.S.)</td>\n",
       "      <td>2015</td>\n",
       "      <td>2.45</td>\n",
       "      <td>106291.0</td>\n",
       "      <td>80.60</td>\n",
       "    </tr>\n",
       "    <tr>\n",
       "      <th>20973</th>\n",
       "      <td>Yemen</td>\n",
       "      <td>2015</td>\n",
       "      <td>3.83</td>\n",
       "      <td>26832215.0</td>\n",
       "      <td>66.00</td>\n",
       "    </tr>\n",
       "    <tr>\n",
       "      <th>20975</th>\n",
       "      <td>Zambia</td>\n",
       "      <td>2015</td>\n",
       "      <td>5.59</td>\n",
       "      <td>16211767.0</td>\n",
       "      <td>56.70</td>\n",
       "    </tr>\n",
       "    <tr>\n",
       "      <th>20976</th>\n",
       "      <td>Zimbabwe</td>\n",
       "      <td>2015</td>\n",
       "      <td>3.35</td>\n",
       "      <td>15602751.0</td>\n",
       "      <td>59.30</td>\n",
       "    </tr>\n",
       "  </tbody>\n",
       "</table>\n",
       "<p>16230 rows × 5 columns</p>\n",
       "</div>"
      ],
      "text/plain": [
       "                     country  year  fertility_rate  population  lifeexpectancy\n",
       "1                Afghanistan  1800            7.00   3280000.0           28.21\n",
       "3                    Albania  1800            4.60    410445.0           35.40\n",
       "4                    Algeria  1800            6.99   2503218.0           28.82\n",
       "7                     Angola  1800            6.93   1567028.0           26.98\n",
       "9        Antigua and Barbuda  1800            5.00     37000.0           33.54\n",
       "...                      ...   ...             ...         ...             ...\n",
       "20969                Vietnam  2015            1.70  93447601.0           75.40\n",
       "20970  Virgin Islands (U.S.)  2015            2.45    106291.0           80.60\n",
       "20973                  Yemen  2015            3.83  26832215.0           66.00\n",
       "20975                 Zambia  2015            5.59  16211767.0           56.70\n",
       "20976               Zimbabwe  2015            3.35  15602751.0           59.30\n",
       "\n",
       "[16230 rows x 5 columns]"
      ]
     },
     "execution_count": 34,
     "metadata": {},
     "output_type": "execute_result"
    }
   ],
   "source": [
    "df"
   ]
  },
  {
   "cell_type": "code",
   "execution_count": 59,
   "id": "7a5c11fa",
   "metadata": {},
   "outputs": [],
   "source": [
    "import seaborn as sns\n",
    "import matplotlib.pyplot as plt\n",
    "\n",
    "x= df['year'].unique ()\n",
    "sns.set_style('darkgrid')\n",
    "sns.set_context(\"paper\")\n",
    "for i in range (1960,2016,1):\n",
    "    df_subset= df.loc[df['year']==i]\n",
    "    sns.scatterplot(x= 'lifeexpectancy',y='fertility_rate',size='population',hue='population',\n",
    "                    data=df_subset,sizes=(50,500),color='steelblue',s=10)\n",
    "    plt.legend(loc='upper left')\n",
    "    plt.axis([0.0,90.0,0.0,10.0])\n",
    "    plt.title('Animated Scatterplot_BK')\n",
    "    file_name='lifeexp_'+str(i)+'.png'\n",
    "    plt.savefig(file_name,dpi=150)\n",
    "    \n",
    "    \n",
    "    plt.close()"
   ]
  },
  {
   "cell_type": "code",
   "execution_count": 60,
   "id": "896c2688",
   "metadata": {},
   "outputs": [
    {
     "name": "stdout",
     "output_type": "stream",
     "text": [
      "Requirement already satisfied: imageio in c:\\users\\bened\\anaconda3\\lib\\site-packages (2.9.0)\n",
      "Requirement already satisfied: pillow in c:\\users\\bened\\anaconda3\\lib\\site-packages (from imageio) (8.2.0)\n",
      "Requirement already satisfied: numpy in c:\\users\\bened\\anaconda3\\lib\\site-packages (from imageio) (1.20.1)\n",
      "Note: you may need to restart the kernel to use updated packages.\n"
     ]
    }
   ],
   "source": [
    "pip install imageio\n"
   ]
  },
  {
   "cell_type": "code",
   "execution_count": 61,
   "id": "39970267",
   "metadata": {},
   "outputs": [],
   "source": [
    "import imageio\n",
    "\n",
    "images = []\n",
    "\n",
    "for i in range(1960,2016):\n",
    "    filename = 'lifeexp_{}.png'.format(i)\n",
    "    images.append(imageio.imread(filename))\n",
    "\n",
    "imageio.mimsave('output.gif', images, fps=5)"
   ]
  },
  {
   "cell_type": "code",
   "execution_count": null,
   "id": "d89c6a88",
   "metadata": {},
   "outputs": [],
   "source": []
  }
 ],
 "metadata": {
  "kernelspec": {
   "display_name": "Python 3",
   "language": "python",
   "name": "python3"
  },
  "language_info": {
   "codemirror_mode": {
    "name": "ipython",
    "version": 3
   },
   "file_extension": ".py",
   "mimetype": "text/x-python",
   "name": "python",
   "nbconvert_exporter": "python",
   "pygments_lexer": "ipython3",
   "version": "3.8.8"
  }
 },
 "nbformat": 4,
 "nbformat_minor": 5
}
